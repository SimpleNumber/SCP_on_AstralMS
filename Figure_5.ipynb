{
 "cells": [
  {
   "cell_type": "code",
   "execution_count": 1,
   "id": "b6573fcf-a5e0-4b4f-9622-aa62ae921892",
   "metadata": {},
   "outputs": [],
   "source": [
    "import pandas as pd\n",
    "import os\n",
    "from matplotlib import pylab as plt\n",
    "import numpy as np\n",
    "from pyteomics import mzml, fasta, parser\n",
    "from matplotlib.collections import PatchCollection\n",
    "from matplotlib.cm import ScalarMappable\n",
    "import matplotlib.colors as mcolors\n",
    "import matplotlib.patches as mpatches\n",
    "import warnings\n",
    "\n",
    "from matplotlib.collections import PatchCollection\n",
    "import matplotlib.patches as mpatches\n",
    "warnings.filterwarnings('ignore')\n",
    "from  sklearn.decomposition import PCA\n",
    "from umap.umap_ import UMAP\n",
    "from collections import defaultdict"
   ]
  },
  {
   "cell_type": "markdown",
   "id": "799926f0-dab0-455a-8b94-a2258cbd54c2",
   "metadata": {
    "jp-MarkdownHeadingCollapsed": true,
    "tags": []
   },
   "source": [
    "## load and save data from Spectronaut results"
   ]
  },
  {
   "cell_type": "markdown",
   "id": "6e53b1ec-6c99-4e2c-b544-99584567e960",
   "metadata": {
    "tags": []
   },
   "source": [
    "### IDs"
   ]
  },
  {
   "cell_type": "code",
   "execution_count": 2,
   "id": "6c329533-4f58-4400-8619-cbad89b251a7",
   "metadata": {},
   "outputs": [],
   "source": [
    "def get_spectronaut_res_TEhPSC(work_dir, label):\n",
    "    out = []\n",
    "    indexes = []\n",
    "    for f in os.listdir(work_dir):\n",
    "        data = {}\n",
    "        df = pd.read_table(os.path.join(work_dir, f))\n",
    "        df.index = df[\"Parameter\"]\n",
    "        df = df[\"Value\"].to_dict()\n",
    "        data[\"file\"] = f.split(\".\")[0]\n",
    "        data[\"index\"] = \"_\".join(f.split(\".\")[0].split(\"_\")[-2:])\n",
    "        data[label] = 0 if df['Protein Groups'].split(\" of\")[0].replace(\"\\xa0\", \"\")==\"NA\" else int(df['Protein Groups'].split(\" of\")[0].replace(\"\\xa0\", \"\")) \n",
    "        out.append(pd.Series(data))\n",
    "    oout = pd.concat(out, axis=1).T\n",
    "    oout.index = oout[\"index\"]\n",
    "    return  oout"
   ]
  },
  {
   "cell_type": "code",
   "execution_count": 3,
   "id": "c316cd77-e257-4cdd-8425-44c4d1a90003",
   "metadata": {},
   "outputs": [],
   "source": [
    "root = \"/groups/protechhub/user/JuliaBubis/article/SN18/TE_hPSC/\"\n",
    "\n",
    "dirs = [\"20240207_125119_JB_hPSC_TE_blanks_240k_20Th_40ms_50SPD_noMBR/RunSummaries/\",\n",
    "        \"20240207_125207_JB_hPSC_TE_blanks_240k_20Th_40ms_50SPD_MBR/RunSummaries/\",\n",
    "        \"20240207_125439_JB_hPSC_TE_blanks_240k_20Th_40ms_50SPD_LibrartyCombined/RunSummaries/\",\n",
    "        \"20240207_131413_JB_hPSC_TE_SC_240k_20Th_40ms_50SPD_noMBR/RunSummaries/\",\n",
    "        \"20240207_131636_JB_hPSC_SC_240k_20Th_40ms_50SPD_MBR/RunSummaries/\",\n",
    "        \"20240207_131720_JB_TE_SC_240k_20Th_40ms_50SPD_MBR/RunSummaries/\",\n",
    "        \"20240207_132111_JB_TE_240k_20Th_40ms_50SPD_L100SC/RunSummaries/\",\n",
    "        \"20240207_132212_JB_hPSC_240k_20Th_40ms_50SPD_L100SC/RunSummaries/\",\n",
    "       ]"
   ]
  },
  {
   "cell_type": "code",
   "execution_count": 4,
   "id": "ffc86ebd-4893-4d8e-b116-ea8c8b3b71c7",
   "metadata": {},
   "outputs": [],
   "source": [
    "labels = [\"Method Evaluation\", \n",
    "          \"DirectDIA+\", \n",
    "          \"Library Search (100 cells)\", \n",
    "          \"Method Evaluation\",  \n",
    "          \"DirectDIA+\", \"DirectDIA+\",  \n",
    "          \"Library Search (100 cells)\", \n",
    "          \"Library Search (100 cells)\",]\n",
    "cdir = dirs[1]\n",
    "data = []\n",
    "for cdir, xlabel in zip(dirs, labels):\n",
    "    data.append(get_spectronaut_res_TEhPSC(os.path.join(root, cdir), xlabel)[xlabel])\n",
    "\n",
    "me = pd.concat([data[0], data[3]])\n",
    "mbr = pd.concat([data[1], data[4], data[5]])\n",
    "lib = pd.concat([data[2], data[6], data[7]])\n",
    "data = pd.concat([me, mbr, lib], axis=1 )"
   ]
  },
  {
   "cell_type": "code",
   "execution_count": 5,
   "id": "a872bc78-24e4-4b37-bcac-0b3fd3d41549",
   "metadata": {},
   "outputs": [],
   "source": [
    "labels = ['Method Evaluation', 'DirectDIA+', 'Library Search (100 cells)']\n",
    "data[\"index\"] = list(data.index)\n",
    "data[\"labels\"] = data[\"index\"].apply(lambda x: x.split(\"_\")[0])\n",
    "data[\"position\"] = data[\"index\"].apply(lambda x: x.split(\"_\")[-1])\n",
    "blanks = data[data.labels == \"blank\"].mean().to_dict()"
   ]
  },
  {
   "cell_type": "code",
   "execution_count": 6,
   "id": "63bcbc41-9ef8-43ee-aac0-baff90aad64e",
   "metadata": {},
   "outputs": [],
   "source": [
    "data.to_csv(\"serialized_data/fig5/f5_panela_ids.csv\", index=False)"
   ]
  },
  {
   "cell_type": "markdown",
   "id": "3b7b4bdc-a67f-4cd4-8756-068f684386a9",
   "metadata": {
    "tags": []
   },
   "source": [
    "### PCA & UMAP"
   ]
  },
  {
   "cell_type": "code",
   "execution_count": 7,
   "id": "b0a5ebed-77e9-482d-9b91-a14b32e23774",
   "metadata": {},
   "outputs": [],
   "source": [
    "prot1 = pd.read_table(os.path.join(root, \"20240207_131720_JB_TE_SC_240k_20Th_40ms_50SPD_MBR/JB_TE_SC_240k_20Th_40ms_50SPD_MBR_Report_Protein_JB (Pivot).tsv\"))\n",
    "prot2 = pd.read_table(os.path.join(root, \"20240207_131636_JB_hPSC_SC_240k_20Th_40ms_50SPD_MBR/JB_hPSC_SC_240k_20Th_40ms_50SPD_MBR_Report_Protein_JB (Pivot).tsv\"))\n",
    "prot1.index = prot1[\"PG.ProteinGroups\"]\n",
    "prot2.index = prot2[\"PG.ProteinGroups\"]\n",
    "prot = pd.concat([prot1, prot2], axis=1)\n",
    "\n"
   ]
  },
  {
   "cell_type": "code",
   "execution_count": 8,
   "id": "d0746b89-0b29-4a30-92bd-bce133cb441a",
   "metadata": {},
   "outputs": [
    {
     "name": "stdout",
     "output_type": "stream",
     "text": [
      "(3073, 33)\n",
      "(2787, 33)\n"
     ]
    }
   ],
   "source": [
    "cols = [x for x in prot.columns if \"PG.Quantity\" in x]\n",
    "quant_df = prot.loc[:, cols]#.fillna(0)\n",
    "quant_df.rename({k: \"_\".join(k.split(\".\")[0].split(\"_\")[-2:]) for k in quant_df.columns}, axis=1, inplace=True)\n",
    "print(quant_df.shape)\n",
    "quant_df.dropna(thresh=5, inplace=True)\n",
    "print(quant_df.shape)\n",
    "quant_df = quant_df.apply(lambda x: np.log2(x), axis=1)\n",
    "quant_df = quant_df.apply(lambda x: (x - quant_df.mean()) / quant_df.std(), axis=1)\n",
    "quant_df.fillna(quant_df.min().min(), inplace=True)"
   ]
  },
  {
   "cell_type": "code",
   "execution_count": 9,
   "id": "52b95e41-1544-4348-8e5a-26640877e9d5",
   "metadata": {},
   "outputs": [
    {
     "data": {
      "text/html": [
       "<div>\n",
       "<style scoped>\n",
       "    .dataframe tbody tr th:only-of-type {\n",
       "        vertical-align: middle;\n",
       "    }\n",
       "\n",
       "    .dataframe tbody tr th {\n",
       "        vertical-align: top;\n",
       "    }\n",
       "\n",
       "    .dataframe thead th {\n",
       "        text-align: right;\n",
       "    }\n",
       "</style>\n",
       "<table border=\"1\" class=\"dataframe\">\n",
       "  <thead>\n",
       "    <tr style=\"text-align: right;\">\n",
       "      <th></th>\n",
       "      <th>TE_D13</th>\n",
       "      <th>TE_D15</th>\n",
       "      <th>TE_D17</th>\n",
       "      <th>TE_D18</th>\n",
       "      <th>TE_D19</th>\n",
       "      <th>TE_D22</th>\n",
       "      <th>TE_D23</th>\n",
       "      <th>TE_E13</th>\n",
       "      <th>TE_E14</th>\n",
       "      <th>TE_E16</th>\n",
       "      <th>...</th>\n",
       "      <th>hPSC_E6</th>\n",
       "      <th>hPSC_E7</th>\n",
       "      <th>hPSC_E8</th>\n",
       "      <th>hPSC_E9</th>\n",
       "      <th>hPSC_F2</th>\n",
       "      <th>hPSC_F3</th>\n",
       "      <th>hPSC_F4</th>\n",
       "      <th>hPSC_F5</th>\n",
       "      <th>hPSC_F6</th>\n",
       "      <th>hPSC_F7</th>\n",
       "    </tr>\n",
       "    <tr>\n",
       "      <th>PG.ProteinGroups</th>\n",
       "      <th></th>\n",
       "      <th></th>\n",
       "      <th></th>\n",
       "      <th></th>\n",
       "      <th></th>\n",
       "      <th></th>\n",
       "      <th></th>\n",
       "      <th></th>\n",
       "      <th></th>\n",
       "      <th></th>\n",
       "      <th></th>\n",
       "      <th></th>\n",
       "      <th></th>\n",
       "      <th></th>\n",
       "      <th></th>\n",
       "      <th></th>\n",
       "      <th></th>\n",
       "      <th></th>\n",
       "      <th></th>\n",
       "      <th></th>\n",
       "      <th></th>\n",
       "    </tr>\n",
       "  </thead>\n",
       "  <tbody>\n",
       "    <tr>\n",
       "      <th>P53634</th>\n",
       "      <td>0.980384</td>\n",
       "      <td>0.985892</td>\n",
       "      <td>0.744021</td>\n",
       "      <td>0.998700</td>\n",
       "      <td>1.067997</td>\n",
       "      <td>1.097894</td>\n",
       "      <td>0.876467</td>\n",
       "      <td>1.044845</td>\n",
       "      <td>1.240408</td>\n",
       "      <td>0.941035</td>\n",
       "      <td>...</td>\n",
       "      <td>1.558037</td>\n",
       "      <td>1.180093</td>\n",
       "      <td>1.153613</td>\n",
       "      <td>1.376234</td>\n",
       "      <td>1.469616</td>\n",
       "      <td>1.291415</td>\n",
       "      <td>1.493238</td>\n",
       "      <td>2.084863</td>\n",
       "      <td>1.783337</td>\n",
       "      <td>0.569592</td>\n",
       "    </tr>\n",
       "    <tr>\n",
       "      <th>Q05639</th>\n",
       "      <td>-5.258551</td>\n",
       "      <td>-5.258551</td>\n",
       "      <td>-5.258551</td>\n",
       "      <td>-5.258551</td>\n",
       "      <td>-5.258551</td>\n",
       "      <td>-5.258551</td>\n",
       "      <td>-5.258551</td>\n",
       "      <td>-5.258551</td>\n",
       "      <td>-5.258551</td>\n",
       "      <td>-5.258551</td>\n",
       "      <td>...</td>\n",
       "      <td>-0.439402</td>\n",
       "      <td>-0.146020</td>\n",
       "      <td>-0.303685</td>\n",
       "      <td>0.200563</td>\n",
       "      <td>0.023080</td>\n",
       "      <td>-0.406102</td>\n",
       "      <td>0.102165</td>\n",
       "      <td>-0.432779</td>\n",
       "      <td>0.198398</td>\n",
       "      <td>-0.335883</td>\n",
       "    </tr>\n",
       "    <tr>\n",
       "      <th>Q8NFH5</th>\n",
       "      <td>-0.378835</td>\n",
       "      <td>-0.742879</td>\n",
       "      <td>-0.297066</td>\n",
       "      <td>-0.137770</td>\n",
       "      <td>0.207187</td>\n",
       "      <td>-0.085605</td>\n",
       "      <td>-0.004783</td>\n",
       "      <td>0.038226</td>\n",
       "      <td>-0.002612</td>\n",
       "      <td>-0.959883</td>\n",
       "      <td>...</td>\n",
       "      <td>0.468236</td>\n",
       "      <td>-0.084331</td>\n",
       "      <td>0.370935</td>\n",
       "      <td>0.337747</td>\n",
       "      <td>-0.317895</td>\n",
       "      <td>0.299709</td>\n",
       "      <td>0.454580</td>\n",
       "      <td>-1.093619</td>\n",
       "      <td>0.430704</td>\n",
       "      <td>0.312770</td>\n",
       "    </tr>\n",
       "    <tr>\n",
       "      <th>Q9UBP6</th>\n",
       "      <td>-0.885427</td>\n",
       "      <td>-5.258551</td>\n",
       "      <td>-0.113004</td>\n",
       "      <td>-1.090661</td>\n",
       "      <td>-0.417980</td>\n",
       "      <td>-5.258551</td>\n",
       "      <td>-0.305680</td>\n",
       "      <td>-1.187563</td>\n",
       "      <td>-0.738154</td>\n",
       "      <td>-0.375412</td>\n",
       "      <td>...</td>\n",
       "      <td>-0.043915</td>\n",
       "      <td>-0.563099</td>\n",
       "      <td>0.139491</td>\n",
       "      <td>-0.284536</td>\n",
       "      <td>-0.167645</td>\n",
       "      <td>-5.258551</td>\n",
       "      <td>-0.628226</td>\n",
       "      <td>-0.428678</td>\n",
       "      <td>0.037166</td>\n",
       "      <td>-0.097803</td>\n",
       "    </tr>\n",
       "    <tr>\n",
       "      <th>Q587J8</th>\n",
       "      <td>-5.258551</td>\n",
       "      <td>-5.258551</td>\n",
       "      <td>-5.258551</td>\n",
       "      <td>-5.258551</td>\n",
       "      <td>-5.258551</td>\n",
       "      <td>-5.258551</td>\n",
       "      <td>-5.258551</td>\n",
       "      <td>-5.258551</td>\n",
       "      <td>-5.258551</td>\n",
       "      <td>-5.258551</td>\n",
       "      <td>...</td>\n",
       "      <td>0.456385</td>\n",
       "      <td>0.033012</td>\n",
       "      <td>-0.053528</td>\n",
       "      <td>0.455518</td>\n",
       "      <td>0.194532</td>\n",
       "      <td>0.245023</td>\n",
       "      <td>0.067694</td>\n",
       "      <td>0.115911</td>\n",
       "      <td>-0.263905</td>\n",
       "      <td>-0.338716</td>\n",
       "    </tr>\n",
       "  </tbody>\n",
       "</table>\n",
       "<p>5 rows × 33 columns</p>\n",
       "</div>"
      ],
      "text/plain": [
       "                    TE_D13    TE_D15    TE_D17    TE_D18    TE_D19    TE_D22  \\\n",
       "PG.ProteinGroups                                                               \n",
       "P53634            0.980384  0.985892  0.744021  0.998700  1.067997  1.097894   \n",
       "Q05639           -5.258551 -5.258551 -5.258551 -5.258551 -5.258551 -5.258551   \n",
       "Q8NFH5           -0.378835 -0.742879 -0.297066 -0.137770  0.207187 -0.085605   \n",
       "Q9UBP6           -0.885427 -5.258551 -0.113004 -1.090661 -0.417980 -5.258551   \n",
       "Q587J8           -5.258551 -5.258551 -5.258551 -5.258551 -5.258551 -5.258551   \n",
       "\n",
       "                    TE_D23    TE_E13    TE_E14    TE_E16  ...   hPSC_E6  \\\n",
       "PG.ProteinGroups                                          ...             \n",
       "P53634            0.876467  1.044845  1.240408  0.941035  ...  1.558037   \n",
       "Q05639           -5.258551 -5.258551 -5.258551 -5.258551  ... -0.439402   \n",
       "Q8NFH5           -0.004783  0.038226 -0.002612 -0.959883  ...  0.468236   \n",
       "Q9UBP6           -0.305680 -1.187563 -0.738154 -0.375412  ... -0.043915   \n",
       "Q587J8           -5.258551 -5.258551 -5.258551 -5.258551  ...  0.456385   \n",
       "\n",
       "                   hPSC_E7   hPSC_E8   hPSC_E9   hPSC_F2   hPSC_F3   hPSC_F4  \\\n",
       "PG.ProteinGroups                                                               \n",
       "P53634            1.180093  1.153613  1.376234  1.469616  1.291415  1.493238   \n",
       "Q05639           -0.146020 -0.303685  0.200563  0.023080 -0.406102  0.102165   \n",
       "Q8NFH5           -0.084331  0.370935  0.337747 -0.317895  0.299709  0.454580   \n",
       "Q9UBP6           -0.563099  0.139491 -0.284536 -0.167645 -5.258551 -0.628226   \n",
       "Q587J8            0.033012 -0.053528  0.455518  0.194532  0.245023  0.067694   \n",
       "\n",
       "                   hPSC_F5   hPSC_F6   hPSC_F7  \n",
       "PG.ProteinGroups                                \n",
       "P53634            2.084863  1.783337  0.569592  \n",
       "Q05639           -0.432779  0.198398 -0.335883  \n",
       "Q8NFH5           -1.093619  0.430704  0.312770  \n",
       "Q9UBP6           -0.428678  0.037166 -0.097803  \n",
       "Q587J8            0.115911 -0.263905 -0.338716  \n",
       "\n",
       "[5 rows x 33 columns]"
      ]
     },
     "execution_count": 9,
     "metadata": {},
     "output_type": "execute_result"
    }
   ],
   "source": [
    "quant_df.sample(5)"
   ]
  },
  {
   "cell_type": "code",
   "execution_count": 10,
   "id": "b07e91aa-bacb-4aa6-aedf-c2622c8464ca",
   "metadata": {},
   "outputs": [
    {
     "name": "stdout",
     "output_type": "stream",
     "text": [
      "[0.51838531 0.04924186 0.02809016]\n"
     ]
    }
   ],
   "source": [
    "pca = PCA(n_components = 3)\n",
    "principalComponents = pca.fit_transform(quant_df.T)\n",
    "print(pca.explained_variance_ratio_)\n",
    "labels = []\n",
    "principalDf = pd.DataFrame(data = principalComponents, columns = ['pc1', 'pc2', 'pc3'])\n",
    "\n",
    "colors = [\"#264d8c\", \"#44b7c2\", \"#a02c59\", \"#70b7c2\", \"#ffae49\", \"#625a65\", \"#aac1e8\"]\n",
    "cc_dict = {k:v for k, v in zip(set([y.split(\"_\")[8] for y in [x for x in prot.columns if \"PG.Quantity\" in x]]), colors)}\n",
    "\n",
    "principalDf['names'] = [y.split(\"_\")[0] for y in quant_df.columns]\n",
    "principalDf['files'] =  [x.split(\"_\")[1] for x in quant_df.columns]\n",
    "principalDf['colors'] = principalDf[\"names\"].apply(lambda x: cc_dict[x])\n",
    "principalDf.index = principalDf.apply(lambda x: x.names + \"_\" + x.files, axis=1)\n",
    "principalDf[\"index\"] = principalDf.apply(lambda x: x.names + \"_\" + x.files, axis=1)"
   ]
  },
  {
   "cell_type": "code",
   "execution_count": 11,
   "id": "78d891ee-3d78-4921-b1b0-f118278be50e",
   "metadata": {},
   "outputs": [],
   "source": [
    "# principalDf.sample(4)"
   ]
  },
  {
   "cell_type": "code",
   "execution_count": 12,
   "id": "cde48553-7784-4442-afb6-8e4400772c23",
   "metadata": {},
   "outputs": [],
   "source": [
    "umap_2d = UMAP(random_state=0)\n",
    "umap_2d.fit(quant_df.T)\n",
    "\n",
    "projections = umap_2d.transform(quant_df.T)\n",
    "UmapDf = pd.DataFrame(data = projections, columns = ['umap1', 'umap2', ])\n",
    "UmapDf['names'] = [y.split(\"_\")[0] for y in quant_df.columns]\n",
    "UmapDf['files'] = [x.split(\"_\")[1] for x in quant_df.columns]\n",
    "UmapDf.index = UmapDf.apply(lambda x: x.names + \"_\" + x.files, axis=1)"
   ]
  },
  {
   "cell_type": "code",
   "execution_count": 13,
   "id": "c98b9f58-fea3-4fb0-a36e-a15556fdbd4d",
   "metadata": {},
   "outputs": [],
   "source": [
    "data_panelbc = pd.concat([principalDf, UmapDf], axis=1)"
   ]
  },
  {
   "cell_type": "code",
   "execution_count": 14,
   "id": "39ac31ff-94de-4f3e-8156-b6a389a36f28",
   "metadata": {},
   "outputs": [],
   "source": [
    "data_panelbc.to_csv(\"serialized_data/fig5/f5_panelbc_pca.csv\", index =False)"
   ]
  },
  {
   "cell_type": "code",
   "execution_count": 15,
   "id": "0888dca4-4afb-4663-bd00-e0f8143dba2b",
   "metadata": {},
   "outputs": [],
   "source": [
    "#extended data fig 2\n",
    "TE_prots = ['P05783', 'P08727', 'P57735', 'P98082', 'P46937', 'Q96FQ6', 'Q3SY56', 'P12830', 'Q07075', 'P52569', 'Q96D42','O00151']\n",
    "hPSC_prots = ['Q7L190', 'Q7Z7J5', 'Q9UGT4', 'Q9UJW3']\n",
    "\n",
    "pd.concat([data_panelbc, quant_df.loc[TE_prots + hPSC_prots,:].T], axis=1).to_csv(\"./serialized_data/exfig/exf3_hPSC_TE.csv\", index=False)"
   ]
  },
  {
   "cell_type": "code",
   "execution_count": 16,
   "id": "62e1c661-f939-43f4-9992-93902272fcef",
   "metadata": {},
   "outputs": [],
   "source": [
    "TE_genes = \"KRT18,KRT19,RAB25,DAB2,YAP1,S100A16,SP6,CDH1,ENPEP,SLC7A2,HAVCR1,PDLIM1\".split(\",\")\n",
    "hPSC_genes = \"DPPA4,DPPA2,SUSD2,DNMT3L\".split(\",\")\n",
    "\n"
   ]
  },
  {
   "cell_type": "code",
   "execution_count": 17,
   "id": "67fde444-8518-4f9c-8531-46a97c8b8a2b",
   "metadata": {},
   "outputs": [],
   "source": [
    "df = pd.concat([data_panelbc, quant_df.loc[TE_prots + hPSC_prots,:].T], axis=1)"
   ]
  },
  {
   "cell_type": "code",
   "execution_count": 21,
   "id": "8f5d80c8-561d-4641-8d2f-9f24720338f9",
   "metadata": {},
   "outputs": [],
   "source": [
    "\n",
    "df.rename(columns={i: j for i, j in zip(TE_prots + hPSC_prots, TE_genes + hPSC_genes)}, inplace=True)\n",
    "df.loc[:, [\"names\", \"pc1\", \"pc2\"] + TE_genes + hPSC_genes].to_csv(\"serialized_data/main_exf2.csv\", index=False, sep='\\t')"
   ]
  },
  {
   "cell_type": "markdown",
   "id": "a49fc158-8879-4d62-8b31-3bcc8a70eb04",
   "metadata": {
    "tags": []
   },
   "source": [
    "## Load serialized data and plot figures (works w/o Spectronaut resuts)"
   ]
  },
  {
   "cell_type": "markdown",
   "id": "28ca32e2-4a65-4c8a-9bae-2ba531d32543",
   "metadata": {
    "tags": []
   },
   "source": [
    "### panels"
   ]
  },
  {
   "cell_type": "code",
   "execution_count": 2,
   "id": "d4c050ff-dd5f-4b9a-b7e9-e40cb35ffc46",
   "metadata": {},
   "outputs": [],
   "source": [
    "data = pd.read_csv(\"serialized_data/fig5/f5_panela_ids.csv\").set_index(\"index\")\n",
    "data_pca_expected_ratio = [0.51838531, 0.04924186, 0.02808157]\n",
    "data_pca_umap = pd.read_csv(\"serialized_data/fig5/f5_panelbc_pca.csv\").set_index(\"index\")"
   ]
  },
  {
   "cell_type": "code",
   "execution_count": 15,
   "id": "2cf57efc-b683-44c0-a3b1-1f502655e83d",
   "metadata": {},
   "outputs": [
    {
     "data": {
      "text/html": [
       "<div>\n",
       "<style scoped>\n",
       "    .dataframe tbody tr th:only-of-type {\n",
       "        vertical-align: middle;\n",
       "    }\n",
       "\n",
       "    .dataframe tbody tr th {\n",
       "        vertical-align: top;\n",
       "    }\n",
       "\n",
       "    .dataframe thead th {\n",
       "        text-align: right;\n",
       "    }\n",
       "</style>\n",
       "<table border=\"1\" class=\"dataframe\">\n",
       "  <thead>\n",
       "    <tr style=\"text-align: right;\">\n",
       "      <th></th>\n",
       "      <th>Method Evaluation</th>\n",
       "      <th>DirectDIA+</th>\n",
       "      <th>Library Search (100 cells)</th>\n",
       "      <th>labels</th>\n",
       "      <th>position</th>\n",
       "    </tr>\n",
       "    <tr>\n",
       "      <th>index</th>\n",
       "      <th></th>\n",
       "      <th></th>\n",
       "      <th></th>\n",
       "      <th></th>\n",
       "      <th></th>\n",
       "    </tr>\n",
       "  </thead>\n",
       "  <tbody>\n",
       "    <tr>\n",
       "      <th>TE_D13</th>\n",
       "      <td>1264</td>\n",
       "      <td>2122</td>\n",
       "      <td>2452</td>\n",
       "      <td>TE</td>\n",
       "      <td>D13</td>\n",
       "    </tr>\n",
       "    <tr>\n",
       "      <th>blank_H10</th>\n",
       "      <td>182</td>\n",
       "      <td>269</td>\n",
       "      <td>233</td>\n",
       "      <td>blank</td>\n",
       "      <td>H10</td>\n",
       "    </tr>\n",
       "    <tr>\n",
       "      <th>TE_D18</th>\n",
       "      <td>1299</td>\n",
       "      <td>2146</td>\n",
       "      <td>2356</td>\n",
       "      <td>TE</td>\n",
       "      <td>D18</td>\n",
       "    </tr>\n",
       "    <tr>\n",
       "      <th>TE_E18</th>\n",
       "      <td>1558</td>\n",
       "      <td>2206</td>\n",
       "      <td>2659</td>\n",
       "      <td>TE</td>\n",
       "      <td>E18</td>\n",
       "    </tr>\n",
       "    <tr>\n",
       "      <th>hPSC_E9</th>\n",
       "      <td>1705</td>\n",
       "      <td>2438</td>\n",
       "      <td>2849</td>\n",
       "      <td>hPSC</td>\n",
       "      <td>E9</td>\n",
       "    </tr>\n",
       "  </tbody>\n",
       "</table>\n",
       "</div>"
      ],
      "text/plain": [
       "           Method Evaluation  DirectDIA+  Library Search (100 cells) labels  \\\n",
       "index                                                                         \n",
       "TE_D13                  1264        2122                        2452     TE   \n",
       "blank_H10                182         269                         233  blank   \n",
       "TE_D18                  1299        2146                        2356     TE   \n",
       "TE_E18                  1558        2206                        2659     TE   \n",
       "hPSC_E9                 1705        2438                        2849   hPSC   \n",
       "\n",
       "          position  \n",
       "index               \n",
       "TE_D13         D13  \n",
       "blank_H10      H10  \n",
       "TE_D18         D18  \n",
       "TE_E18         E18  \n",
       "hPSC_E9         E9  "
      ]
     },
     "execution_count": 15,
     "metadata": {},
     "output_type": "execute_result"
    }
   ],
   "source": [
    "data.sample(5)"
   ]
  },
  {
   "cell_type": "code",
   "execution_count": 16,
   "id": "ebbc29be-2311-4f63-b0db-75a571927273",
   "metadata": {},
   "outputs": [],
   "source": [
    "def plot_panela(ax, data):\n",
    "    labels = ['Method Evaluation', 'DirectDIA+',  'Library Search (100 cells)']\n",
    "    colors = [\"#5f8bd3\", \"#366ec9\", \"#264d8c\", \"#1b3764\"]\n",
    "    x_label = ['blank', 'TE', 'hPSC']\n",
    "    analysis= [\"noMBR\", \"MBR\", \"L100SC\"]\n",
    "    bar_w = 0.2\n",
    "    legends = []\n",
    "    for (shift, col), c in zip(enumerate(labels), colors):\n",
    "        y = []\n",
    "        yy = []\n",
    "        y_std = []\n",
    "        xx= np.arange(6) + 0.2 * shift\n",
    "        for l, x in zip(x_label, xx):\n",
    "            d = data[data.labels == l]\n",
    "            y.append(d[col].mean())\n",
    "            y_std.append(d[col].std())\n",
    "            ax.bar(x, d[col].mean(), yerr=d[col].std(), width=bar_w, color=c)\n",
    "            dot_x = np.linspace(x - bar_w / 3, x + bar_w / 3, len(d))\n",
    "            ax.scatter(dot_x, d[col],  color=c, edgecolors=\"black\", s=10)\n",
    "        legends.append(mpatches.Patch(color=c, label=col))\n",
    "    ax.ticklabel_format(axis='y', style='sci', scilimits=(3,3))\n",
    "    ax.set_ylabel(\"PG\")\n",
    "    ax.set_ylim(0, 4500)\n",
    "    ax.set_xticks(list(np.arange(len(x_label)) +  bar_w), x_label)\n",
    "    ax.legend(handles=legends)"
   ]
  },
  {
   "cell_type": "code",
   "execution_count": 17,
   "id": "8cb029e9-cdb5-4da5-85b7-9e831dd621fb",
   "metadata": {},
   "outputs": [],
   "source": [
    "def plot_panelb(ax, data_pca_umap):\n",
    "    for n in data_pca_umap.names.unique():\n",
    "        d = data_pca_umap[data_pca_umap.names == n]\n",
    "        plt.scatter(d['pc1'], d['pc2'], color=d[\"colors\"], label=n)\n",
    "    ax.legend(loc=2)\n",
    "    ax.set_xlabel(f'PC1 ({(data_pca_expected_ratio[0] * 100):.1f}%)')\n",
    "    ax.set_ylabel(f'PC2 ({(data_pca_expected_ratio[1] * 100):.1f}%)')"
   ]
  },
  {
   "cell_type": "code",
   "execution_count": 18,
   "id": "9c200ccd-4e10-4c0b-9c6a-f4f12e8213e1",
   "metadata": {},
   "outputs": [],
   "source": [
    "def plot_panelc(ax, data_pca_umap):\n",
    "    for n in data_pca_umap.names.unique():\n",
    "        d = data_pca_umap[data_pca_umap.names == n]\n",
    "        plt.scatter(d['umap1'], d['umap2'], color=d[\"colors\"], label=n)\n",
    "    ax.legend(loc=2)\n",
    "    ax.set_xlabel(f'UMAP 1')\n",
    "    ax.set_ylabel(f'UMAP 2')"
   ]
  },
  {
   "cell_type": "markdown",
   "id": "0e9ccb7e-0438-4d96-8828-fce65e50d4d3",
   "metadata": {
    "tags": []
   },
   "source": [
    "### plot panels"
   ]
  },
  {
   "cell_type": "code",
   "execution_count": 19,
   "id": "6200277b-6b81-407e-adae-72f97602af70",
   "metadata": {},
   "outputs": [
    {
     "data": {
      "image/png": "[encoded data removed]",
      "text/plain": [
       "<Figure size 360x360 with 1 Axes>"
      ]
     },
     "metadata": {
      "needs_background": "light"
     },
     "output_type": "display_data"
    }
   ],
   "source": [
    "fig, ax = plt.subplots(1, 1 , figsize=(5 , 5))\n",
    "plot_panela(ax, data)"
   ]
  },
  {
   "cell_type": "code",
   "execution_count": 20,
   "id": "e7940f7a-219a-44a7-bc02-2cf66432cde0",
   "metadata": {},
   "outputs": [
    {
     "data": {
      "image/png": "[encoded data removed]",
      "text/plain": [
       "<Figure size 360x360 with 1 Axes>"
      ]
     },
     "metadata": {
      "needs_background": "light"
     },
     "output_type": "display_data"
    }
   ],
   "source": [
    "fig, ax = plt.subplots(1, 1 , figsize=(5 , 5))\n",
    "plot_panelb(ax, data_pca_umap)"
   ]
  },
  {
   "cell_type": "code",
   "execution_count": 21,
   "id": "41b55dac-6dbf-447e-8ff4-368212062322",
   "metadata": {},
   "outputs": [
    {
     "data": {
      "image/png": "[encoded data removed]",
      "text/plain": [
       "<Figure size 360x360 with 1 Axes>"
      ]
     },
     "metadata": {
      "needs_background": "light"
     },
     "output_type": "display_data"
    }
   ],
   "source": [
    "fig, ax = plt.subplots(1, 1 , figsize=(5 , 5))\n",
    "plot_panelc(ax, data_pca_umap)"
   ]
  },
  {
   "cell_type": "code",
   "execution_count": null,
   "id": "8acf994f-c67a-4c62-be0d-8ccd12988aaf",
   "metadata": {},
   "outputs": [],
   "source": []
  }
 ],
 "metadata": {
  "kernelspec": {
   "display_name": "Python 3",
   "language": "python",
   "name": "python3"
  },
  "language_info": {
   "codemirror_mode": {
    "name": "ipython",
    "version": 3
   },
   "file_extension": ".py",
   "mimetype": "text/x-python",
   "name": "python",
   "nbconvert_exporter": "python",
   "pygments_lexer": "ipython3",
   "version": "3.9.12"
  }
 },
 "nbformat": 4,
 "nbformat_minor": 5
}
