{
 "cells": [
  {
   "cell_type": "code",
   "execution_count": 1,
   "id": "a7dcee15-de05-4794-96ed-8059ffcd9922",
   "metadata": {},
   "outputs": [],
   "source": [
    "import pandas as pd\n",
    "import os\n",
    "from matplotlib import pylab as plt\n",
    "import numpy as np\n",
    "from pyteomics import mzml, fasta, parser\n",
    "from matplotlib.collections import PatchCollection\n",
    "from matplotlib.cm import ScalarMappable\n",
    "import matplotlib.colors as mcolors\n",
    "import matplotlib.patches as mpatches\n",
    "import warnings\n",
    "warnings.filterwarnings('ignore')\n",
    "from matplotlib.collections import PatchCollection\n",
    "import matplotlib.patches as mpatches\n",
    "from  sklearn.decomposition import PCA\n",
    "from umap.umap_ import UMAP\n",
    "from collections import defaultdict\n",
    "import seaborn as sns"
   ]
  },
  {
   "cell_type": "code",
   "execution_count": 2,
   "id": "71f9d4e8-b526-4635-a1c9-682bd6a0a0c1",
   "metadata": {},
   "outputs": [],
   "source": [
    "# define an object that will be used by the legend\n",
    "class MulticolorPatch(object):\n",
    "    def __init__(self, colors):\n",
    "        self.colors = colors\n",
    "        \n",
    "# define a handler for the MulticolorPatch object\n",
    "class MulticolorPatchHandler(object):\n",
    "    def legend_artist(self, legend, orig_handle, fontsize, handlebox):\n",
    "        width, height = handlebox.width, handlebox.height\n",
    "        patches = []\n",
    "        for i, c in enumerate(orig_handle.colors):\n",
    "            patches.append(plt.Rectangle([width/len(orig_handle.colors) * i - handlebox.xdescent, \n",
    "                                          -handlebox.ydescent],\n",
    "                           width / len(orig_handle.colors),\n",
    "                           height, \n",
    "                           facecolor=c, \n",
    "                           edgecolor='black'))\n",
    "\n",
    "        patch = PatchCollection(patches, match_original=True)\n",
    "\n",
    "        handlebox.add_artist(patch)\n",
    "        return patch"
   ]
  },
  {
   "cell_type": "markdown",
   "id": "38b4458c-8deb-404c-9602-de6e411cde76",
   "metadata": {
    "tags": []
   },
   "source": [
    "## Functions"
   ]
  },
  {
   "cell_type": "code",
   "execution_count": 3,
   "id": "1155da1a-78f2-4eac-a9da-c02012a4fabb",
   "metadata": {},
   "outputs": [],
   "source": [
    "def get_spectronaut_res_a549(work_dir, label):\n",
    "    '''Reads Spectronauts results for A549 cell line and prepare IDs values'''\n",
    "    out = []\n",
    "    indexes = []\n",
    "    for f in os.listdir(work_dir):\n",
    "        data = {}\n",
    "        df = pd.read_table(os.path.join(work_dir, f))\n",
    "        df.index = df[\"Parameter\"]\n",
    "        df = df[\"Value\"].to_dict()\n",
    "        data[\"file\"] = f.split(\".\")[0]\n",
    "        data[\"index\"] = f.split(\".\")[0].split(\"_\")[-1]\n",
    "        data[label] = 0 if df['Protein Groups'].split(\" of\")[0].replace(\"\\xa0\", \"\")==\"NA\" else int(df['Protein Groups'].split(\" of\")[0].replace(\"\\xa0\", \"\")) \n",
    "        out.append(pd.Series(data))\n",
    "    oout = pd.concat(out, axis=1).T\n",
    "    oout.index = oout[\"index\"]\n",
    "    return  oout"
   ]
  },
  {
   "cell_type": "code",
   "execution_count": 4,
   "id": "6db12905-70fa-414b-9398-04a27f0a6ec3",
   "metadata": {},
   "outputs": [],
   "source": [
    "def get_names(s):\n",
    "    p = s.split(\".\")[0].split(\"_\")[-1]\n",
    "    if \"blank\" in s:\n",
    "        return \"blank\"\n",
    "    elif \"20xSC\" in s:\n",
    "        return \"20xSC\"\n",
    "    elif \"40xSC\" in s:\n",
    "        return \"40xSC\"\n",
    "    elif p[1:] == \"18\" or p[1:] == \"19\":\n",
    "        return \"SC_20-25\"\n",
    "    elif p[1:] == \"16\" or p[1:] == \"17\":\n",
    "        return \"SC_25-30\"\n",
    "    elif p[1:] == \"20\" or p[1:] == \"21\":\n",
    "        return \"SC_15-20\"\n",
    "    else:\n",
    "        return None"
   ]
  },
  {
   "cell_type": "code",
   "execution_count": 5,
   "id": "cab6946a-5bd5-43db-b6cd-75ea8cffc957",
   "metadata": {},
   "outputs": [],
   "source": [
    "def blank_filter(col, analysis, thresh=4):\n",
    "    # print(analysis)\n",
    "    out = []\n",
    "    for num in col:\n",
    "        if blanks[analysis] * thresh < num:\n",
    "            out.append( num)\n",
    "        else:\n",
    "            out.append(np.nan)\n",
    "    return out"
   ]
  },
  {
   "cell_type": "code",
   "execution_count": 6,
   "id": "937e3a6d-f13c-4c05-978d-6736b325c397",
   "metadata": {},
   "outputs": [],
   "source": [
    "def get_spectronaut_res(work_dir, inj=None, analysis=None, method=None, sample=None):\n",
    "    out = []\n",
    "    for f in os.listdir(work_dir):\n",
    "        data = {}\n",
    "        df = pd.read_table(os.path.join(work_dir, f), low_memory=False)\n",
    "        df.index = df[\"Parameter\"]\n",
    "        df = df[\"Value\"].to_dict()\n",
    "        data[\"file\"] = f.split(\".\")[0]\n",
    "        data[\"LC, min\"] = float(df[\"Gradient Length [min]\"])\n",
    "        data[\"Median FWHM, s\"] = round(float(df[\"Median FWHM\"].split(' ')[0])*60, 2)\n",
    "        data[\"Data Points per Peak (MS1)\"] = float(df[\"Data Points per Peak (MS1)\"].split(' ')[0])\n",
    "        data[\"Data Points per Peak (MS2)\"] = float(df[\"Data Points per Peak (MS2)\"].split(' ')[0])\n",
    "        data[\"Precursors\"] =  0 if df[\"Precursors\"].split(\" of\")[0].replace(\"\\xa0\", \"\")==\"NA\" else int(df[\"Precursors\"].split(\" of\")[0].replace(\"\\xa0\", \"\"))\n",
    "        data[\"Precursors_all\"] = int(df[\"Precursors\"].split(\" \")[2].replace(\"\\xa0\",\"\"))\n",
    "        data[\"PG\"] = 0 if df['Protein Groups'].split(\" of\")[0].replace(\"\\xa0\", \"\")==\"NA\" else int(df['Protein Groups'].split(\" of\")[0].replace(\"\\xa0\", \"\")) \n",
    "        data[\"PG_all\"] = int(df['Protein Groups'].split(\" of\")[1].replace(\"\\xa0\", \"\"))\n",
    "        data[\"Sample\"] = sample\n",
    "        data[\"injection\"] = inj\n",
    "        data[\"analysis\"] = analysis\n",
    "        data[\"method\"] = method\n",
    "        data[\"experiment\"] = work_dir.split(\"/\")[-3]\n",
    "        data[\"path\"] = df['Raw File Name']\n",
    "        out.append(pd.Series(data))\n",
    "    return  pd.concat(out, axis=1).T"
   ]
  },
  {
   "cell_type": "code",
   "execution_count": 7,
   "id": "406be93b-91a8-464f-aadc-209798d3df26",
   "metadata": {},
   "outputs": [],
   "source": [
    "def get_experiment_statistics(df):\n",
    "    df = df.reset_index()\n",
    "    experiment = {}\n",
    "    experiment[\"experiment\"] = df.experiment.loc[0]\n",
    "    experiment[\"LC\"] = df[\"LC, min\"][0]\n",
    "    experiment[\"Sample\"] = df.Sample[0]\n",
    "    experiment[\"injection\"] = df.injection[0]\n",
    "    experiment[\"analysis\"] = df.analysis[0]\n",
    "    experiment[\"method\"] = df.method[0]\n",
    "    experiment[\"PG_mean\"] = df.PG.mean()\n",
    "    experiment[\"PG_std\"] = df.PG.std()\n",
    "    experiment[\"PG\"] = [list(df.PG)]\n",
    "    experiment[\"PG_all\"] = df.PG_all[0]\n",
    "    experiment[\"DPPP_MS1\"] = df[\"Data Points per Peak (MS1)\"][0]\n",
    "    experiment[\"DPPP_MS2\"] = df[\"Data Points per Peak (MS2)\"][0]\n",
    "    experiment[\"Precursors_mean\"] = df.Precursors.mean()\n",
    "    experiment[\"Precursors_std\"] = df.Precursors.std()\n",
    "    experiment[\"Precursors\"] = [list(df.Precursors)]\n",
    "    experiment[\"Precursors_all\"] = df.Precursors_all[0]\n",
    "    experiment[\"FWHM, s\"] = df[\"Median FWHM, s\"].mean()\n",
    "    experiment[\"folder\"] = df.experiment[0]\n",
    "    experiment[\"name\"] = \"\\n\".join([\"_\".join([df.Sample[0], df.injection[0]]), df.method[0], df.analysis[0]])  \n",
    "    experiment[\"short_name\"] =  \"_\".join([df.injection[0], df.analysis[0]])\n",
    "    return pd.DataFrame(experiment)"
   ]
  },
  {
   "cell_type": "code",
   "execution_count": 8,
   "id": "c7c861c8-428e-4652-96dc-f30a423b708b",
   "metadata": {},
   "outputs": [],
   "source": [
    "xcoord = {i:j for j, i in enumerate('ABCDEFGHIJKLMNO', 1)}\n",
    "def get_diamerter(coord):\n",
    "    # coord = position.split(':')[1]\n",
    "    xpos = xcoord[coord[0]]\n",
    "    ypos = 25 - int(coord[1:])\n",
    "    if diameters[(diameters[\"XPos\"]== xpos) & (diameters[\"YPos\"]== ypos)].shape[0] > 1:\n",
    "        print(coord, diameters[(diameters[\"XPos\"]== xpos) & (diameters[\"YPos\"]== ypos)])\n",
    "    return diameters[(diameters[\"XPos\"]== xpos) & (diameters[\"YPos\"]== ypos)]['Diameter'].mean()\n",
    "def get_elongation(coord):\n",
    "    # coord = position.split(':')[1]\n",
    "    xpos = xcoord[coord[0]]\n",
    "    ypos = 25 - int(coord[1:])\n",
    "    if diameters[(diameters[\"XPos\"]== xpos) & (diameters[\"YPos\"]== ypos)].shape[0] > 1:\n",
    "        print(coord, diameters[(diameters[\"XPos\"]== xpos) & (diameters[\"YPos\"]== ypos)])\n",
    "    return diameters[(diameters[\"XPos\"]== xpos) & (diameters[\"YPos\"]== ypos)]['Elongation'].mean()"
   ]
  },
  {
   "cell_type": "code",
   "execution_count": 9,
   "id": "a3a0003f-f573-4039-ae48-698dd124e7fc",
   "metadata": {},
   "outputs": [],
   "source": [
    "def get_color(s):\n",
    "    if \"blank\" in s:\n",
    "        return \"black\"\n",
    "    elif \"20xSC\" in s:\n",
    "        return \"orange\"\n",
    "    elif \"40xSC\" in s:\n",
    "        return \"red\"\n",
    "    elif s[1:] == \"18\" or s[1:] == \"19\":\n",
    "        return \"green\"\n",
    "    elif s[1:] == \"16\" or s[1:] == \"17\":\n",
    "        return \"yellow\"\n",
    "    elif s[1:] == \"20\" or s[1:] == \"21\":\n",
    "        return \"blue\"\n",
    "    else:\n",
    "        return None"
   ]
  },
  {
   "cell_type": "markdown",
   "id": "da2c6d29-2e86-4621-86ca-891900b411bf",
   "metadata": {
    "tags": []
   },
   "source": [
    "## load and save data from Spectronaut results"
   ]
  },
  {
   "cell_type": "markdown",
   "id": "bd7fc4b8-7d9d-45ec-a038-c6d7bb43ef0a",
   "metadata": {
    "tags": []
   },
   "source": [
    "### A549 IDs"
   ]
  },
  {
   "cell_type": "code",
   "execution_count": 76,
   "id": "34a69b79-e88b-45d1-900e-73d35748a02a",
   "metadata": {},
   "outputs": [],
   "source": [
    "labels = [\"Method Evaluation\", \"DirectDIA+\",\"DirectDIA+, OS\", \"Library Search (20cells)\",  \"Library Search (40cells)\", ]\n",
    "conditions = [\"blanks\", '$15-20\\ \\mu m$','$20-25\\ \\mu m$', '$25-30\\ \\mu m$',]\n",
    "x_label = ['blank', 'SC_15-20', 'SC_20-25', 'SC_25-30',]"
   ]
  },
  {
   "cell_type": "code",
   "execution_count": 77,
   "id": "2783030b-e0ab-4459-9a6c-48020843bbbb",
   "metadata": {},
   "outputs": [],
   "source": [
    "root = \"/groups/protechhub/user/Manuel/PRIDE_Uploads/21_AstralPaper/A549_cells/\"\n",
    "\n",
    "dirs = [\"20240206_123701_MM_AstralPaper_A549_method_eval_mode/RunSummaries/\",\n",
    "        \"20240206_123905_MM_AstralPaper_A549_DirectDIA_MBR/RunSummaries/\",\n",
    "        \"20240813_203441_MM_Astral_paper_A549_Figure7_MBR_perGroup_directDIA_strictFDR/RunSummaries/\",\n",
    "        \"20240206_124255_MM_AstralPaper_LibrarySearch_20x/RunSummaries/\",\n",
    "        \"20240206_124359_MM_AstralPaper_LibrarySearch_40x/RunSummaries/\", \n",
    "       ]"
   ]
  },
  {
   "cell_type": "code",
   "execution_count": 78,
   "id": "aca937d3-adad-40a0-b450-0823b5d80c21",
   "metadata": {},
   "outputs": [],
   "source": [
    "cdir = dirs[1]\n",
    "data = []\n",
    "for cdir, xlabel in zip(dirs, labels):\n",
    "    data.append(get_spectronaut_res_a549(os.path.join(root, cdir), xlabel))\n",
    "df = data[0]\n",
    "for i in data[1:]:\n",
    "    df = df.merge(i, how=\"outer\", on='file')"
   ]
  },
  {
   "cell_type": "code",
   "execution_count": 79,
   "id": "e1d470fe-6383-43cf-905b-a52a1aa46429",
   "metadata": {},
   "outputs": [],
   "source": [
    "data_a459 = df.loc[:, [\"file\"] + labels]\n",
    "data = df.loc[:, [\"file\"] + labels]\n",
    "data[\"labels\"] = data.file.apply(get_names)\n",
    "data[\"position\"] = data[\"file\"].apply(lambda x: x.split(\".\")[0].split(\"_\")[-1])\n",
    "data.index=data.position\n",
    "blanks = data[data.labels==\"blank\"].mean().to_dict()\n",
    "data.loc[data.labels !=\"blank\", labels] = data.loc[data.labels !=\"blank\", labels].apply(lambda x: blank_filter(x, x.name), axis=0)"
   ]
  },
  {
   "cell_type": "code",
   "execution_count": 80,
   "id": "4fb0e77c-746a-4750-b337-db6a7a573caa",
   "metadata": {},
   "outputs": [],
   "source": [
    "data.to_csv(\"./serialized_data/fig4/f4_paneld_a549_ids.csv\", index=False)"
   ]
  },
  {
   "cell_type": "code",
   "execution_count": 81,
   "id": "90692475-506b-4a65-a17d-7f3c514e8ac8",
   "metadata": {},
   "outputs": [],
   "source": [
    "# data"
   ]
  },
  {
   "cell_type": "code",
   "execution_count": 82,
   "id": "6c10b729-1575-41f6-a039-0085c296949e",
   "metadata": {},
   "outputs": [
    {
     "data": {
      "text/html": [
       "<div>\n",
       "<style scoped>\n",
       "    .dataframe tbody tr th:only-of-type {\n",
       "        vertical-align: middle;\n",
       "    }\n",
       "\n",
       "    .dataframe tbody tr th {\n",
       "        vertical-align: top;\n",
       "    }\n",
       "\n",
       "    .dataframe thead th {\n",
       "        text-align: right;\n",
       "    }\n",
       "</style>\n",
       "<table border=\"1\" class=\"dataframe\">\n",
       "  <thead>\n",
       "    <tr style=\"text-align: right;\">\n",
       "      <th></th>\n",
       "      <th>Method Evaluation</th>\n",
       "      <th>DirectDIA+</th>\n",
       "      <th>DirectDIA+, OS</th>\n",
       "      <th>Library Search (20cells)</th>\n",
       "      <th>Library Search (40cells)</th>\n",
       "    </tr>\n",
       "    <tr>\n",
       "      <th>labels</th>\n",
       "      <th></th>\n",
       "      <th></th>\n",
       "      <th></th>\n",
       "      <th></th>\n",
       "      <th></th>\n",
       "    </tr>\n",
       "  </thead>\n",
       "  <tbody>\n",
       "    <tr>\n",
       "      <th>20xSC</th>\n",
       "      <td>NaN</td>\n",
       "      <td>NaN</td>\n",
       "      <td>5835.666667</td>\n",
       "      <td>NaN</td>\n",
       "      <td>NaN</td>\n",
       "    </tr>\n",
       "    <tr>\n",
       "      <th>40xSC</th>\n",
       "      <td>NaN</td>\n",
       "      <td>NaN</td>\n",
       "      <td>6420.333333</td>\n",
       "      <td>NaN</td>\n",
       "      <td>NaN</td>\n",
       "    </tr>\n",
       "    <tr>\n",
       "      <th>SC_15-20</th>\n",
       "      <td>1800.708333</td>\n",
       "      <td>3304.000000</td>\n",
       "      <td>2256.166667</td>\n",
       "      <td>3350.916667</td>\n",
       "      <td>3220.708333</td>\n",
       "    </tr>\n",
       "    <tr>\n",
       "      <th>SC_20-25</th>\n",
       "      <td>2180.782609</td>\n",
       "      <td>3796.217391</td>\n",
       "      <td>2638.304348</td>\n",
       "      <td>3895.173913</td>\n",
       "      <td>3786.739130</td>\n",
       "    </tr>\n",
       "    <tr>\n",
       "      <th>SC_25-30</th>\n",
       "      <td>2870.421053</td>\n",
       "      <td>4439.157895</td>\n",
       "      <td>3344.421053</td>\n",
       "      <td>4688.631579</td>\n",
       "      <td>4650.052632</td>\n",
       "    </tr>\n",
       "    <tr>\n",
       "      <th>blank</th>\n",
       "      <td>172.000000</td>\n",
       "      <td>384.666667</td>\n",
       "      <td>176.333333</td>\n",
       "      <td>419.333333</td>\n",
       "      <td>253.000000</td>\n",
       "    </tr>\n",
       "  </tbody>\n",
       "</table>\n",
       "</div>"
      ],
      "text/plain": [
       "          Method Evaluation   DirectDIA+  DirectDIA+, OS  \\\n",
       "labels                                                     \n",
       "20xSC                   NaN          NaN     5835.666667   \n",
       "40xSC                   NaN          NaN     6420.333333   \n",
       "SC_15-20        1800.708333  3304.000000     2256.166667   \n",
       "SC_20-25        2180.782609  3796.217391     2638.304348   \n",
       "SC_25-30        2870.421053  4439.157895     3344.421053   \n",
       "blank            172.000000   384.666667      176.333333   \n",
       "\n",
       "          Library Search (20cells)  Library Search (40cells)  \n",
       "labels                                                        \n",
       "20xSC                          NaN                       NaN  \n",
       "40xSC                          NaN                       NaN  \n",
       "SC_15-20               3350.916667               3220.708333  \n",
       "SC_20-25               3895.173913               3786.739130  \n",
       "SC_25-30               4688.631579               4650.052632  \n",
       "blank                   419.333333                253.000000  "
      ]
     },
     "execution_count": 82,
     "metadata": {},
     "output_type": "execute_result"
    }
   ],
   "source": [
    "data.groupby(\"labels\").mean()"
   ]
  },
  {
   "cell_type": "markdown",
   "id": "bc2ab0b6-f1ee-4e82-98c5-e35f291e4222",
   "metadata": {
    "tags": []
   },
   "source": [
    "### PCA plot"
   ]
  },
  {
   "cell_type": "code",
   "execution_count": 83,
   "id": "93d18e96-e2de-42c8-9f49-46b9b2104778",
   "metadata": {},
   "outputs": [],
   "source": [
    "prot = pd.read_table(\"/groups/protechhub/user/Manuel/PRIDE_Uploads/21_AstralPaper/A549_cells/20240206_123905_MM_AstralPaper_A549_DirectDIA_MBR/MM_AstralPaper_A549_DirectDIA_MBR_Report_Protein_JB (Pivot).tsv\")\n",
    "prot.index = prot[\"PG.ProteinGroups\"]"
   ]
  },
  {
   "cell_type": "code",
   "execution_count": 84,
   "id": "a76b8bc9-77cd-43fe-8136-12e5f5c1f4c9",
   "metadata": {},
   "outputs": [],
   "source": [
    "cols = [x for x in prot.columns if (\"PG.Quantity\" in x) and (\"blank\" not in x)]\n",
    "quant_df = prot.loc[:, cols]\n",
    "quant_df.rename({k: k.split(\".\")[0].split(\"_\")[-1] for k in quant_df.columns}, axis=1, inplace=True)\n",
    "quant_df.dropna(thresh=20, inplace=True)\n",
    "quant_df = quant_df.apply(lambda x: np.log2(x), axis=1)\n",
    "quant_df_mean = quant_df.mean()\n",
    "quant_df_std = quant_df.std()\n",
    "quant_df = quant_df.apply(lambda x: (x - quant_df.mean()) / quant_df.std(), axis=1)\n",
    "quant_df.fillna(quant_df.min().min(), inplace=True)"
   ]
  },
  {
   "cell_type": "code",
   "execution_count": 85,
   "id": "53228869-5f28-4a06-90a7-6ec9557132f9",
   "metadata": {},
   "outputs": [],
   "source": [
    "sizes = pd.read_table(\"/groups/protechhub/user/Manuel/PRIDE_Uploads/21_AstralPaper/backup_not_for_upload/20231108_LF_SCP_run56_CellenONE_data/A549_15-20um_20231108_141126_789.Run/20231108_141128.457__isolated.xls\")\n",
    "diameters = sizes.groupby(by='DropNo').apply(lambda x: np.mean(x))"
   ]
  },
  {
   "cell_type": "code",
   "execution_count": 86,
   "id": "3c0ed6e3-12f5-49c9-ac3f-8cf60dbd7bd2",
   "metadata": {},
   "outputs": [],
   "source": [
    "files = [\"/groups/protechhub/user/Manuel/PRIDE_Uploads/21_AstralPaper/backup_not_for_upload/20231108_LF_SCP_run56_CellenONE_data/A549_15-20um_20231108_141126_789.Run/20231108_141128.457__isolated.xls\", \n",
    "         \"/groups/protechhub/user/Manuel/PRIDE_Uploads/21_AstralPaper/backup_not_for_upload/20231108_LF_SCP_run56_CellenONE_data/A549_20-25um_20231108_140632_647.Run/20231108_140634.209__isolated.xls\",\n",
    "        \"/groups/protechhub/user/Manuel/PRIDE_Uploads/21_AstralPaper/backup_not_for_upload/20231108_LF_SCP_run56_CellenONE_data/A549_35-30um_20231108_133549_579.Run/20231108_133551.328__isolated.xls\"]\n",
    "dim_data = []\n",
    "for file in files:\n",
    "    sizes = pd.read_table(file)\n",
    "    dim_data.append(sizes.groupby(by='DropNo').apply(lambda x: np.mean(x)))\n",
    "diameters = pd.concat(dim_data)"
   ]
  },
  {
   "cell_type": "code",
   "execution_count": 87,
   "id": "bdde7d03-1fa0-4683-b646-f60cd9ae1b3f",
   "metadata": {},
   "outputs": [
    {
     "data": {
      "text/plain": [
       "array([0.30113177, 0.05430727, 0.03021787])"
      ]
     },
     "execution_count": 87,
     "metadata": {},
     "output_type": "execute_result"
    }
   ],
   "source": [
    "pca = PCA(n_components = 3)\n",
    "principalComponents = pca.fit_transform(quant_df.T)\n",
    "pca.explained_variance_ratio_"
   ]
  },
  {
   "cell_type": "code",
   "execution_count": 88,
   "id": "3ea0a87d-3715-4f33-9ef4-2bc1d5a25016",
   "metadata": {},
   "outputs": [],
   "source": [
    "principalDf = pd.DataFrame(data = principalComponents, \\\n",
    "                           columns = ['principal component 1', 'principal component 2', 'principal component 3'])\n",
    "principalDf[\"position\"] = quant_df.columns\n",
    "principalDf.index = principalDf.position\n",
    "principalDf['diameter']  = principalDf.position.apply(get_diamerter)\n",
    "principalDf[\"elongation\"] = principalDf.position.apply(get_elongation)"
   ]
  },
  {
   "cell_type": "markdown",
   "id": "2c598d21-99da-4677-a3c8-f79cc24b9f6f",
   "metadata": {},
   "source": [
    "### umap"
   ]
  },
  {
   "cell_type": "code",
   "execution_count": 89,
   "id": "463343cc-99b7-406a-ae27-8dab9275415c",
   "metadata": {},
   "outputs": [],
   "source": [
    "umap_2d = UMAP(random_state=0)\n",
    "umap_2d.fit(quant_df.T)\n",
    "projections = umap_2d.transform(quant_df.T)\n",
    "UmapDf = pd.DataFrame(data = projections, columns = ['umap1', 'umap2', ])\n",
    "UmapDf['names'] = [get_names(y) for y in quant_df.columns]\n",
    "UmapDf['colors'] = [get_color(y) for y in quant_df.columns]\n",
    "UmapDf[\"position\"] = quant_df.columns\n",
    "UmapDf.index = UmapDf.position"
   ]
  },
  {
   "cell_type": "code",
   "execution_count": 90,
   "id": "b9ee16e3-d6b5-4fe2-a980-47e959270d58",
   "metadata": {},
   "outputs": [],
   "source": [
    "data_pca_umap_a549 = pd.concat([principalDf, UmapDf], axis=1)\n",
    "data_pca_umap_a549.to_csv(\"./serialized_data/fig4/f4_panelef_a549_pca_umap.csv\", index=False)"
   ]
  },
  {
   "cell_type": "code",
   "execution_count": 104,
   "id": "8654696c-7a07-4f6a-9215-2d470fcd0fe9",
   "metadata": {},
   "outputs": [],
   "source": [
    "df = pd.concat([data_pca_umap_a549, quant_df.loc[protein_list,:].T], axis=1)\n",
    "df.loc[:, [\"names\", \"principal component 1\", \"principal component 2\", \"umap1\", \"umap2\"] + protein_list]\\\n",
    "  .to_csv(\"serialized_data/main_exf1.csv\", sep=\"\\t\", index=False )"
   ]
  },
  {
   "cell_type": "code",
   "execution_count": 27,
   "id": "c1dcdce7-26c5-40f0-96f4-fa902040dbc8",
   "metadata": {},
   "outputs": [],
   "source": [
    "## for extended figure 1\n",
    "protein_list = ['P60709;P63261', 'P68032',  'P62805', 'P10412',  'Q9H1E3', 'P06493', \"P46013\"]\n",
    "pd.concat([data_pca_umap_a549, quant_df.loc[protein_list,:].T], axis=1).to_csv(\"./serialized_data/exfig/exf2_a549.csv\", index=False, )"
   ]
  },
  {
   "cell_type": "markdown",
   "id": "4546410b-b426-4e49-a065-a2071aa97e4a",
   "metadata": {
    "tags": []
   },
   "source": [
    "### H460 and A549 dataset"
   ]
  },
  {
   "cell_type": "code",
   "execution_count": 105,
   "id": "04a8b790-9b51-4a49-9c4c-85e767ff239b",
   "metadata": {},
   "outputs": [],
   "source": [
    "#ids\n",
    "all_data = []\n",
    "working_dir = \"/groups/protechhub/user/Manuel/Spectronaut_results/SNv18/LFSCP_run69p2/20240616_211846_MM_run62p2_revision_50SPD_25cmIO_all_MEpergroup/\"\n",
    "df = get_spectronaut_res(os.path.join(working_dir, \"runsummaries_edited/\"), \n",
    "                         inj=\"SC\", \n",
    "                         analysis='MBR',\n",
    "                         method=\"?\", \n",
    "                         sample=\"?\")\n",
    "df.Sample = df.file.apply(lambda x: x.split(\"_\")[7])\n",
    "df.method = df.file.apply(lambda x: \"_\".join(x.split(\"_\")[2:7]))\n",
    "df[\"experiment\"] = df.file.apply(lambda x: \"_\".join(x.split(\"_\")[7:8] + [\"MBR\"]))\n",
    "all_data.append(df.groupby(\"experiment\").apply(get_experiment_statistics))\n",
    "data_all = pd.concat(all_data).fillna(0)\n",
    "data_all.index = data_all.experiment\n",
    "# data_all"
   ]
  },
  {
   "cell_type": "code",
   "execution_count": 106,
   "id": "b6c34e2b-3408-44f0-95ef-63c9a28ede0e",
   "metadata": {},
   "outputs": [
    {
     "data": {
      "text/plain": [
       "Index(['experiment', 'LC', 'Sample', 'injection', 'analysis', 'method',\n",
       "       'PG_mean', 'PG_std', 'PG', 'PG_all', 'DPPP_MS1', 'DPPP_MS2',\n",
       "       'Precursors_mean', 'Precursors_std', 'Precursors', 'Precursors_all',\n",
       "       'FWHM, s', 'folder', 'name', 'short_name'],\n",
       "      dtype='object')"
      ]
     },
     "execution_count": 106,
     "metadata": {},
     "output_type": "execute_result"
    }
   ],
   "source": [
    "data_all.columns"
   ]
  },
  {
   "cell_type": "code",
   "execution_count": 107,
   "id": "44c5a5c9-1630-49c5-ad30-45e24f5d8802",
   "metadata": {},
   "outputs": [],
   "source": [
    "data_all.loc[:, [\"Sample\", \"injection\", \"analysis\", \"PG\", \"PG_mean\", \"PG_std\", 'Precursors',   'Precursors_mean', 'Precursors_std']].to_csv(\"serialized_data/main_f4.csv\", index=False)"
   ]
  },
  {
   "cell_type": "code",
   "execution_count": 108,
   "id": "69ffc6c3-bcfa-4345-b0a4-82da3a270c83",
   "metadata": {},
   "outputs": [],
   "source": [
    "    data_all.to_parquet(\"serialized_data/fig4/f4_panela_a549_h460_ids.parquet\", index=False)\n",
    "data_all.to_csv(\"serialized_data/fig4/f4_panela_a549_h460_ids.csv\", index=False)"
   ]
  },
  {
   "cell_type": "code",
   "execution_count": 109,
   "id": "9e14fd49-4723-4d6e-94dc-ee736dcd75e9",
   "metadata": {},
   "outputs": [],
   "source": [
    "#Quant_data\n",
    "prot = pd.read_table(\"/groups/protechhub/user/Manuel/PRIDE_Uploads/21_AstralPaper/run69p2_revision_top20cells/20240701_100039_MM_run62p2_revision_50SPD_25cmIO_all_MEpergroup_Proteins.tsv\")\n",
    "prot.index = prot[\"PG.ProteinGroups\"]"
   ]
  },
  {
   "cell_type": "code",
   "execution_count": 110,
   "id": "c398269f-798c-43e1-9f66-858876e6ce6d",
   "metadata": {},
   "outputs": [
    {
     "name": "stdout",
     "output_type": "stream",
     "text": [
      "(5748, 50)\n",
      "(5560, 50)\n"
     ]
    }
   ],
   "source": [
    "cols = [x for x in prot.columns if (\"PG.Quantity\" in x )]#and \"blank\" not in x)]\n",
    "quant_df = prot.loc[:, cols]#.fillna(0)\n",
    "quant_df.rename({k: \"_\".join(k.split(\".\")[0].split(\"_\")[7:10:2]) for k in quant_df.columns}, axis=1, inplace=True)\n",
    "\n",
    "quant_df.dropna(how=\"all\", inplace=True)\n",
    "print(quant_df.shape)\n",
    "quant_df.dropna(thresh=5, inplace=True)\n",
    "\n",
    "print(quant_df.shape)\n",
    "\n",
    "quant_df = quant_df.apply(lambda x: np.log2(x), axis=1)\n",
    "quant_df = quant_df.apply(lambda x: (x - quant_df.mean()) / quant_df.std(), axis=1)\n",
    "quant_df.fillna(quant_df.min().min(), inplace=True)"
   ]
  },
  {
   "cell_type": "code",
   "execution_count": 111,
   "id": "60b40cfe-146b-4235-85ea-db8fa9d0902f",
   "metadata": {},
   "outputs": [],
   "source": [
    "quant_df[\"PG\"] = quant_df.index\n",
    "quant_df.to_csv(\"serialized_data/fig4/f4_panelc.csv\", index=False)"
   ]
  },
  {
   "cell_type": "code",
   "execution_count": 112,
   "id": "9c64cd19-c486-450c-9837-d91004d10f5e",
   "metadata": {},
   "outputs": [],
   "source": [
    "cols = ['PG', 'A549_A21', 'A549_A22', 'A549_A23', 'A549_A24', 'A549_B21', 'A549_B22',\n",
    "       'A549_B23', 'A549_C11', 'A549_C12', 'A549_C13', 'A549_C14', 'A549_C15',\n",
    "       'A549_C16', 'A549_C17', 'A549_C18', 'A549_C19', 'A549_C20', 'A549_C21',\n",
    "       'A549_C22', 'A549_C23', 'blank_G21', 'blank_G22', 'blank_G23',\n",
    "       'blank_G24', 'blank_H22', 'blank_H23', 'blank_H24', 'blank_I17',\n",
    "       'blank_I19', 'blank_I21', 'H460_D21', 'H460_D22', 'H460_D23',\n",
    "       'H460_D24', 'H460_E2', 'H460_E3', 'H460_E4', 'H460_F11', 'H460_F12',\n",
    "       'H460_F13', 'H460_F14', 'H460_F15', 'H460_F16', 'H460_F17', 'H460_F18',\n",
    "       'H460_F19', 'H460_F20', 'H460_F21', 'H460_F23', 'H460_F24' ]"
   ]
  },
  {
   "cell_type": "code",
   "execution_count": 113,
   "id": "cf0e9d56-0b16-415d-987d-04b6598696f9",
   "metadata": {},
   "outputs": [],
   "source": [
    "quant_df.loc[:, cols].to_csv(\"serialized_data/main_f4_panelc.csv\", index=False, sep='\\t')"
   ]
  },
  {
   "cell_type": "markdown",
   "id": "5517b426-f305-4b4b-b59a-b1a3f3594dd0",
   "metadata": {
    "jp-MarkdownHeadingCollapsed": true,
    "tags": []
   },
   "source": [
    "### pca"
   ]
  },
  {
   "cell_type": "code",
   "execution_count": 49,
   "id": "d811f002-5a0f-43f4-add7-e50ece3244fe",
   "metadata": {},
   "outputs": [],
   "source": [
    "quant_df = pd.read_csv(\"serialized_data/fig4/f4_panelc.csv\").set_index(\"PG\")"
   ]
  },
  {
   "cell_type": "code",
   "execution_count": 50,
   "id": "e4b3c3a8-e337-47c0-b7f7-afeeb08b5b40",
   "metadata": {},
   "outputs": [
    {
     "data": {
      "text/plain": [
       "array([0.58333599, 0.158075  , 0.06126766])"
      ]
     },
     "execution_count": 50,
     "metadata": {},
     "output_type": "execute_result"
    }
   ],
   "source": [
    "pca = PCA(n_components = 3)\n",
    "principalComponents = pca.fit_transform(quant_df.T)\n",
    "pca.explained_variance_ratio_"
   ]
  },
  {
   "cell_type": "code",
   "execution_count": 51,
   "id": "f7e4acbc-c131-4e96-84cc-58b4eff2ecec",
   "metadata": {},
   "outputs": [],
   "source": [
    "# cc_dict"
   ]
  },
  {
   "cell_type": "code",
   "execution_count": 52,
   "id": "c18b20fe-c0ff-4bd9-88a5-3be8d7f980e7",
   "metadata": {},
   "outputs": [],
   "source": [
    "principalDf = pd.DataFrame(data = principalComponents, columns = ['pc1', 'pc2', 'pc3'])\n",
    "\n",
    "colors = [\"#264d8c\", \"#44b7c2\", \"#a02c59\", \"#70b7c2\", \"#ffae49\", \"#625a65\", \"#aac1e8\"]\n",
    "cc_dict = {k:v for k, v in zip(set([y.split(\"_\")[7] for y in [x for x in prot.columns if \"PG.Quantity\" in x]]), colors)}\n",
    "\n",
    "principalDf['names'] = [y.split(\"_\")[0] for y in quant_df.columns]\n",
    "principalDf['files'] =  [x.split(\"_\")[1] for x in quant_df.columns]\n",
    "principalDf['colors'] = principalDf[\"names\"].apply(lambda x: cc_dict[x])\n",
    "principalDf[\"position\"] = principalDf.apply(lambda x: x.names + \"_\" + x.files, axis=1)\n",
    "principalDf.index = principalDf.apply(lambda x: x.names + \"_\" + x.files, axis=1)\n"
   ]
  },
  {
   "cell_type": "code",
   "execution_count": 54,
   "id": "d168083c-66bc-4ed1-b6d0-eddfbc1b8d33",
   "metadata": {},
   "outputs": [],
   "source": [
    "# principalDf.loc"
   ]
  },
  {
   "cell_type": "code",
   "execution_count": 55,
   "id": "e70da597-b6fc-4cd3-a733-59c1d432fc2d",
   "metadata": {},
   "outputs": [],
   "source": [
    "principalDf.to_csv(\"serialized_data/fig4/f4_panelb_pca_h460_a549.csv\", index=False)"
   ]
  },
  {
   "cell_type": "markdown",
   "id": "d3ec6217-d47f-44a6-8eaa-cb8654aa1aed",
   "metadata": {},
   "source": [
    "## panels"
   ]
  },
  {
   "cell_type": "code",
   "execution_count": 30,
   "id": "0ded94ce-0292-41cc-8424-ec3447dca054",
   "metadata": {},
   "outputs": [],
   "source": [
    "labels = [\"Method Evaluation\", \"DirectDIA+\",\"DirectDIA+, OS\", \"Library Search (20cells)\",  \"Library Search (40cells)\", ]\n",
    "conditions = [\"blanks\", '$15-20\\ \\mu m$','$20-25\\ \\mu m$', '$25-30\\ \\mu m$',]\n",
    "x_label = ['blank', 'SC_15-20', 'SC_20-25', 'SC_25-30',]\n",
    "colors = [\"#264d8c\", \"#44b7c2\", \"#a02c59\", \"#70b7c2\", \"#ffae49\", \"#625a65\", \"#aac1e8\"]"
   ]
  },
  {
   "cell_type": "code",
   "execution_count": 31,
   "id": "8c7f5b42-4568-4f40-bfe2-661e11d6f63d",
   "metadata": {},
   "outputs": [],
   "source": [
    "data_a549_h460_ids = pd.read_parquet(\"serialized_data/fig4/f4_panela_a549_h460_ids.parquet\").set_index(\"experiment\")\n",
    "data_panelb = pd.read_csv(\"serialized_data/fig4/f4_panelb_pca_h460_a549.csv\")\n",
    "data_panelc = pd.read_csv(\"serialized_data/fig4/f4_panelc.csv\").set_index(\"PG\")\n",
    "\n",
    "data_a549_ids = pd.read_csv(\"./serialized_data/fig4/f4_paneld_a549_ids.csv\").set_index(\"position\")\n",
    "data_pca_umap_a549 = pd.read_csv(\"./serialized_data/fig4/f4_panelef_a549_pca_umap.csv\").set_index(\"position\")\n",
    "explained_pca_a549 = [0.30113177, 0.05430727, 0.03021821]\n",
    "explained_pca_a549_h460 = [0.58333599, 0.158075  , 0.06126766]"
   ]
  },
  {
   "cell_type": "code",
   "execution_count": 32,
   "id": "d1470143-a005-448f-876b-5f8272ea9531",
   "metadata": {},
   "outputs": [],
   "source": [
    "def plot_panela(ax, data_all):\n",
    "    cols = [ 'A549_MBR', 'H460_MBR', 'blank_MBR']\n",
    "    data = data_all.loc[cols,:]\n",
    "    x = np.arange(data.shape[0]) \n",
    "    labels=['A549', 'H460', 'blank' ]\n",
    "    w = 0.20\n",
    "    bar_w = 0.3\n",
    "    ax.set_ylabel('PG', color=colors[0])\n",
    "    ax.bar(x - w, data[\"PG_mean\"], yerr = data[\"PG_std\"], color=colors[0], width=bar_w, label=\"PG\")\n",
    "    ax.tick_params(axis='y', labelcolor=colors[0])\n",
    "    ax.set_ylim(0, 1.1 * max(data[\"PG_mean\"]))\n",
    "    ax.ticklabel_format(axis='y', style='sci', scilimits=(3,3))\n",
    "    ax.set_ylim(0, 7000)\n",
    "    ax.set_xticks(x, labels)\n",
    "    for b , yy in zip(x - w, data[\"PG\"]):\n",
    "        xx = np.linspace(b - bar_w / 3, b + bar_w / 3, len(yy))\n",
    "        ax.scatter(xx, yy, color=colors[0], edgecolors=\"black\")\n",
    "    for i, y in zip(x - w, data[\"PG_mean\"]):\n",
    "        t = ax.annotate(f'{int(y)}', xy=(i, 800 + y),  ha='center',)\n",
    "    h, l = [], []\n",
    "    # ------ append the multicolor legend patches\n",
    "    h.append(MulticolorPatch([colors[0], colors[2]]))\n",
    "    l.append(\"DirectDIA+, with matching\")\n",
    "    # ------ create the legend\n",
    "    ax.legend(h, l, loc='upper left', \n",
    "             handler_map={MulticolorPatch: MulticolorPatchHandler()}, \n",
    "             bbox_to_anchor=(0.5, 0.95))\n",
    "    \n",
    "    ax2 = ax.twinx()  # instantiate a second axes that shares the same x-axis\n",
    "    ax2.set_ylabel('Precursors', color=colors[2]) \n",
    "    ax2.bar(x + w, data[\"Precursors_mean\"], yerr=data[\"Precursors_std\"], color=colors[2], \\\n",
    "            width=bar_w, label=\"Precursors\")\n",
    "    ax2.tick_params(axis='y', labelcolor=colors[2])\n",
    "    ax2.set_ylim(0, 1.1 * max(data[\"Precursors_mean\"]))\n",
    "    ax2.ticklabel_format(axis='y', style='sci', scilimits=(3,3))\n",
    "    y_annotation = []\n",
    "    for b , yy in zip(x + w, data[\"Precursors\"]):\n",
    "        xx = np.linspace(b - bar_w / 3, b + bar_w / 3, len(yy))\n",
    "        ax2.scatter(xx, yy, color=colors[2], edgecolors=\"black\")\n",
    "        y_annotation.append(max(yy))\n",
    "    for i, y in zip(x + w, data[\"Precursors_mean\"]):\n",
    "        t = ax2.annotate(f'{int(y)}', xy=(i, 7000 + y),  ha='center')\n",
    "    ax2.set_ylim(0,50000)\n"
   ]
  },
  {
   "cell_type": "code",
   "execution_count": 33,
   "id": "f4aff178-0742-4344-8394-dfd1c0051baa",
   "metadata": {},
   "outputs": [],
   "source": [
    "def plot_panelb(ax, data):\n",
    "    for n in data.names.unique():\n",
    "        d = data[data.names == n]\n",
    "        ax.scatter(d['pc1'], d['pc2'], color=d[\"colors\"], label=n, s=15)\n",
    "    ax.legend(loc=1)\n",
    "    ax.set_xlabel(f'PC1 ({(explained_pca_a549_h460[0] * 100):.1f}%)')\n",
    "    ax.set_ylabel(f'PC2 ({(explained_pca_a549_h460[1] * 100):.1f}%)')"
   ]
  },
  {
   "cell_type": "code",
   "execution_count": 34,
   "id": "89c0b0ff-f251-4ebd-ae01-7968594713aa",
   "metadata": {},
   "outputs": [],
   "source": [
    "def plot_panelc(data):\n",
    "    plt.rcParams['font.size'] = 7\n",
    "    plt.rcParams['axes.titlesize'] = 7\n",
    "    plt.rcParams['axes.labelsize'] = 7\n",
    "    plt.rcParams['xtick.labelsize'] = 7\n",
    "    plt.rcParams['ytick.labelsize'] = 7\n",
    "    plt.rcParams['figure.titlesize'] = 7\n",
    "    g = sns.clustermap(data,method='ward', metric='euclidean', cmap='viridis', figsize=(3.4, 2.5),\\\n",
    "                       dendrogram_ratio=(0.1, 0.1),)\n",
    "    reordered_cols = g.dendrogram_col.reordered_ind\n",
    "    g.ax_heatmap.set_xticks(np.arange(len(reordered_cols)))\n",
    "    g.ax_heatmap.tick_params(axis='both', which='both', length=0)\n",
    "    g.ax_heatmap.set_xticklabels([\"\"] * 5 +[\"blank\"] + [\"\"] * 14 +[ \"A549\"] + [\"\"] * 19 +[ \"H460\"] + [\"\"] * 9, \\\n",
    "                                 rotation=0)\n",
    "    g.ax_heatmap.set_yticklabels([], rotation=0)\n",
    "    g.ax_heatmap.set_ylabel(\"\")\n",
    "    g.ax_heatmap.tick_params(labelleft=False)\n",
    "    plt.tight_layout()"
   ]
  },
  {
   "cell_type": "code",
   "execution_count": 35,
   "id": "da606a1f-2239-43ae-a6fb-2839f93ee1d2",
   "metadata": {},
   "outputs": [],
   "source": [
    "def plot_panel_a549_1(ax, data, labels=labels, colors=colors):\n",
    "    bar_w= 0.15\n",
    "    for (shift, col), c in zip(enumerate(labels), colors):\n",
    "        y = []\n",
    "        yy = []\n",
    "        y_std = []\n",
    "        xx= np.arange(6) + bar_w * shift\n",
    "        for l, x in zip(x_label, xx):\n",
    "            d = data[data.labels == l]\n",
    "            y.append(d[col].mean())\n",
    "            y_std.append(d[col].std())\n",
    "            ax.bar(x, d[col].mean(), yerr=d[col].std(), width=bar_w, color=c)\n",
    "            dot_x = np.linspace(x - bar_w / 3, x + bar_w / 3, len(d))\n",
    "            ax.scatter(dot_x, d[col],  color=c, edgecolors=\"black\", s=10)\n",
    "        legends.append(mpatches.Patch(color=c, label=col))\n",
    "    ax.ticklabel_format(axis='y', style='sci', scilimits=(3,3))\n",
    "    ax.set_ylabel(\"PG\")\n",
    "    ax.set_ylim(0, 8000)\n",
    "    ax.set_xticks(list(np.arange(4) + 3 / 2 * bar_w), conditions)\n",
    "    ax.legend(handles=legends)\n"
   ]
  },
  {
   "cell_type": "code",
   "execution_count": 36,
   "id": "f5dab485-c063-4faf-adb0-e0d6aae2a122",
   "metadata": {},
   "outputs": [],
   "source": [
    "def plot_panel_a549_2(ax, fig, data):\n",
    "    ax.scatter(data['principal component 1'], data[\"principal component 2\"], c=data[\"diameter\"], s=22)\n",
    "    norm = mcolors.Normalize(vmin=data['diameter'].min(), vmax=data['diameter'].max())\n",
    "    cmap = plt.get_cmap('viridis')\n",
    "    sm = ScalarMappable(norm=norm, cmap=cmap)\n",
    "    sm.set_array([])\n",
    "    fig.colorbar(sm, ax=ax, label=r\"cell diameter, $\\mu m$\")\n",
    "    ax.set_xlabel(f'PC 1 ({(explained_pca_a549[0] * 100):.1f}%)')\n",
    "    ax.set_ylabel(f'PC 2 ({(explained_pca_a549[1] * 100):.1f}%)')\n",
    "    "
   ]
  },
  {
   "cell_type": "code",
   "execution_count": 37,
   "id": "37a8d9b4-305a-4332-8d75-8a280ad440b1",
   "metadata": {},
   "outputs": [],
   "source": [
    "def plot_panel_a549_3(ax, fig, data):\n",
    "    ax.scatter(data['umap1'], data[\"umap2\"], c=data[\"diameter\"], s=22)\n",
    "    norm = mcolors.Normalize(vmin=data['diameter'].min(), vmax=data['diameter'].max())\n",
    "    cmap = plt.get_cmap('viridis')\n",
    "    sm = ScalarMappable(norm=norm, cmap=cmap)\n",
    "    sm.set_array([])\n",
    "    fig.colorbar(sm, ax=ax, label=r\"cell diameter, $\\mu m$\")\n",
    "    ax.set_xlabel(f'UMAP 1')\n",
    "    ax.set_ylabel(f'UMAP 2')\n",
    "    ax.annotate('G2/M phase', xy=(14.3, 9.5),  ha='left', color=\"black\")\n",
    "    ax.annotate('S phase', xy=(11, 9.5),  ha='left', color=\"black\")\n",
    "    ax.annotate('G1 phase', xy=(11.5, 12),  ha='left', color=\"black\")"
   ]
  },
  {
   "cell_type": "markdown",
   "id": "bbc2ad5f-f1ae-47c7-a040-947dc3a4dc67",
   "metadata": {},
   "source": [
    "## figures"
   ]
  },
  {
   "cell_type": "code",
   "execution_count": 38,
   "id": "a382fcca-fefa-42e8-998e-7860e717c9d4",
   "metadata": {},
   "outputs": [],
   "source": [
    "colors = [\"#264d8c\", \"#44b7c2\", \"#a02c59\", \"#70b7c2\", \"#ffae49\", \"#625a65\", \"#aac1e8\"]"
   ]
  },
  {
   "cell_type": "code",
   "execution_count": 39,
   "id": "164c07e2-1dcd-4b4f-81da-38476605f6c3",
   "metadata": {},
   "outputs": [
    {
     "data": {
      "image/png": "[encoded data removed]",
      "text/plain": [
       "<Figure size 360x360 with 2 Axes>"
      ]
     },
     "metadata": {
      "needs_background": "light"
     },
     "output_type": "display_data"
    }
   ],
   "source": [
    "fig, ax = plt.subplots(1, 1 , figsize=(5 , 5))\n",
    "plot_panela(ax, data_a549_h460_ids)"
   ]
  },
  {
   "cell_type": "code",
   "execution_count": 40,
   "id": "2104008c-4933-4d89-8a17-99822a29f876",
   "metadata": {},
   "outputs": [
    {
     "data": {
      "image/png": "[encoded data removed]",
      "text/plain": [
       "<Figure size 360x360 with 1 Axes>"
      ]
     },
     "metadata": {
      "needs_background": "light"
     },
     "output_type": "display_data"
    }
   ],
   "source": [
    "fig, ax = plt.subplots(1, 1 , figsize=(5 , 5))\n",
    "plot_panelb(ax, data_panelb)"
   ]
  },
  {
   "cell_type": "code",
   "execution_count": 41,
   "id": "0ea6927a-0168-4a27-a038-c57ac0634bcf",
   "metadata": {},
   "outputs": [
    {
     "data": {
      "image/png": "[encoded data removed]",
      "text/plain": [
       "<Figure size 244.8x180 with 4 Axes>"
      ]
     },
     "metadata": {
      "needs_background": "light"
     },
     "output_type": "display_data"
    }
   ],
   "source": [
    "plot_panelc(data_panelc)\n",
    "# plt.savefig(\"fig4_c.png\", dpi=1000)\n",
    "# plt.savefig(\"fig4_c.svg\")\n",
    "# plt.savefig(\"fig4_c.pdf\")"
   ]
  },
  {
   "cell_type": "code",
   "execution_count": 42,
   "id": "b610b98a-e2bc-483c-86cc-a8b41d64914b",
   "metadata": {},
   "outputs": [
    {
     "data": {
      "image/png": "[encoded data removed]",
      "text/plain": [
       "<Figure size 360x360 with 1 Axes>"
      ]
     },
     "metadata": {
      "needs_background": "light"
     },
     "output_type": "display_data"
    }
   ],
   "source": [
    "labels = [\"Method Evaluation\", \\\n",
    "          \"DirectDIA+\", \"DirectDIA+, OS\",\\\n",
    "          \"Library Search (20cells)\", \\\n",
    "          \"Library Search (40cells)\"]\n",
    "conditions = [\"blanks\", '$15-20\\ \\mu m$','$20-25\\ \\mu m$', '$25-30\\ \\mu m$']\n",
    "x_label = ['blank', 'SC_15-20', 'SC_20-25', 'SC_25-30',]\n",
    "colors=[\"#5f8bd3\", \"#366ec9\", \"#264d8c\", \"#1b3764\", \"#002255\"]\n",
    "col = \"Method Evaluation\"\n",
    "legends = []\n",
    "fig, (ax1) = plt.subplots(1, 1, figsize=(5, 5))\n",
    "plot_panel_a549_1(ax1, data_a549_ids)"
   ]
  },
  {
   "cell_type": "code",
   "execution_count": 43,
   "id": "14db5861-7181-43f9-a3bd-026232479565",
   "metadata": {},
   "outputs": [
    {
     "data": {
      "image/png": "[encoded data removed]",
      "text/plain": [
       "<Figure size 360x360 with 2 Axes>"
      ]
     },
     "metadata": {
      "needs_background": "light"
     },
     "output_type": "display_data"
    }
   ],
   "source": [
    "fig, ax1 = plt.subplots(1, 1, figsize=(5, 5))\n",
    "plot_panel_a549_2(ax1, fig,  data_pca_umap_a549)"
   ]
  },
  {
   "cell_type": "code",
   "execution_count": 44,
   "id": "aa0694e8-06ce-4b7b-a427-c4dcea4612bd",
   "metadata": {},
   "outputs": [
    {
     "data": {
      "image/png": "[encoded data removed]",
      "text/plain": [
       "<Figure size 360x360 with 2 Axes>"
      ]
     },
     "metadata": {
      "needs_background": "light"
     },
     "output_type": "display_data"
    }
   ],
   "source": [
    "fig, ax1 = plt.subplots(1, 1, figsize=(5, 5))\n",
    "plot_panel_a549_3(ax1, fig,  data_pca_umap_a549)"
   ]
  },
  {
   "cell_type": "code",
   "execution_count": null,
   "id": "70fd9852-9ba4-469a-8bfc-25d0014530ee",
   "metadata": {},
   "outputs": [],
   "source": []
  }
 ],
 "metadata": {
  "kernelspec": {
   "display_name": "Python 3",
   "language": "python",
   "name": "python3"
  },
  "language_info": {
   "codemirror_mode": {
    "name": "ipython",
    "version": 3
   },
   "file_extension": ".py",
   "mimetype": "text/x-python",
   "name": "python",
   "nbconvert_exporter": "python",
   "pygments_lexer": "ipython3",
   "version": "3.9.12"
  }
 },
 "nbformat": 4,
 "nbformat_minor": 5
}
