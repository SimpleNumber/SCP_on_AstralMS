{
 "cells": [
  {
   "cell_type": "code",
   "execution_count": 5,
   "id": "335a391b-98c4-499d-85d0-8f45c9f6e7e8",
   "metadata": {},
   "outputs": [],
   "source": [
    "import pandas as pd\n",
    "import os\n",
    "from matplotlib import pylab as plt\n",
    "import numpy as np\n",
    "from pyteomics import mzml, fasta, parser\n",
    "from matplotlib_venn import venn2, venn3\n",
    "from matplotlib.collections import PatchCollection\n",
    "import matplotlib.patches as mpatches\n",
    "from scipy.stats import gaussian_kde\n",
    "import matplotlib.gridspec as gridspec\n",
    "from scipy.optimize import curve_fit"
   ]
  },
  {
   "cell_type": "code",
   "execution_count": 6,
   "id": "9a93df54-93d4-4d59-b2f4-5430d4b50c55",
   "metadata": {},
   "outputs": [],
   "source": [
    "dot_size = 10\n",
    "font_on_figure = 8\n",
    "plt.rcParams.update({'mathtext.default':  'regular' })"
   ]
  },
  {
   "cell_type": "code",
   "execution_count": 7,
   "id": "909f97a8-e8a7-46bc-a051-3cb3feffda78",
   "metadata": {},
   "outputs": [],
   "source": [
    "# define an object that will be used by the legend\n",
    "class MulticolorPatch(object):\n",
    "    def __init__(self, colors):\n",
    "        self.colors = colors\n",
    "        \n",
    "# define a handler for the MulticolorPatch object\n",
    "class MulticolorPatchHandler(object):\n",
    "    def legend_artist(self, legend, orig_handle, fontsize, handlebox):\n",
    "        width, height = handlebox.width, handlebox.height\n",
    "        patches = []\n",
    "        for i, c in enumerate(orig_handle.colors):\n",
    "            patches.append(plt.Rectangle([width/len(orig_handle.colors) * i - handlebox.xdescent, \n",
    "                                          -handlebox.ydescent],\n",
    "                           width / len(orig_handle.colors),\n",
    "                           height, \n",
    "                           facecolor=c, \n",
    "                           edgecolor='black'))\n",
    "\n",
    "        patch = PatchCollection(patches, match_original=True)\n",
    "        handlebox.add_artist(patch)\n",
    "        return patch"
   ]
  },
  {
   "cell_type": "markdown",
   "id": "7ac18029-b3d4-4f7d-8e3c-2ae80bcb59e3",
   "metadata": {},
   "source": [
    "## Functions"
   ]
  },
  {
   "cell_type": "code",
   "execution_count": 8,
   "id": "7e8a7391-4bc7-4d85-bde3-8e2beb45861d",
   "metadata": {},
   "outputs": [],
   "source": [
    "def get_spectronaut_res(work_dir, inj=None, analysis=None, method=None, sample=None):\n",
    "    out = []\n",
    "    for f in os.listdir(work_dir):\n",
    "        data = {}\n",
    "        df = pd.read_table(os.path.join(work_dir, f), low_memory=False)\n",
    "        df.index = df[\"Parameter\"]\n",
    "        df = df[\"Value\"].to_dict()\n",
    "        data[\"file\"] = f.split(\".\")[0]\n",
    "        data[\"LC, min\"] = float(df[\"Gradient Length [min]\"])\n",
    "        data[\"Median FWHM, s\"] = round(float(df[\"Median FWHM\"].split(' ')[0])*60, 2)\n",
    "        data[\"Data Points per Peak (MS1)\"] = float(df[\"Data Points per Peak (MS1)\"].split(' ')[0])\n",
    "        data[\"Data Points per Peak (MS2)\"] = float(df[\"Data Points per Peak (MS2)\"].split(' ')[0])\n",
    "        data[\"Precursors\"] =  0 if df[\"Precursors\"].split(\" of\")[0].replace(\"\\xa0\", \"\")==\"NA\" else int(df[\"Precursors\"].split(\" of\")[0].replace(\"\\xa0\", \"\"))\n",
    "        data[\"Precursors_all\"] = int(df[\"Precursors\"].split(\" \")[2].replace(\"\\xa0\",\"\"))\n",
    "        data[\"PG\"] = 0 if df['Protein Groups'].split(\" of\")[0].replace(\"\\xa0\", \"\")==\"NA\" else int(df['Protein Groups'].split(\" of\")[0].replace(\"\\xa0\", \"\")) \n",
    "        data[\"PG_all\"] = int(df['Protein Groups'].split(\" of\")[1].replace(\"\\xa0\", \"\"))\n",
    "        data[\"Sample\"] = sample\n",
    "        data[\"injection\"] = inj\n",
    "        data[\"analysis\"] = analysis\n",
    "        data[\"method\"] = method\n",
    "        data[\"experiment\"] = work_dir.split(\"/\")[-3]\n",
    "        data[\"path\"] = df['Raw File Name']\n",
    "        out.append(pd.Series(data))\n",
    "    return  pd.concat(out, axis=1).T"
   ]
  },
  {
   "cell_type": "code",
   "execution_count": 9,
   "id": "606b0c70-8808-4fe3-b164-d96430f6971c",
   "metadata": {},
   "outputs": [],
   "source": [
    "def add_cvs(work_dir):\n",
    "    \"\"\"Return CV for MS1 intensities peptide, prot lvl and MS2 int at peptide and prot lvl\"\"\" \n",
    "    df = pd.DataFrame({})\n",
    "    pep_file = [x for x in os.listdir(work_dir) if (\"Peptides_JB\" in x) and x.endswith(\".tsv\")]\n",
    "    df_pep = pd.read_table(os.path.join(work_dir, pep_file[0]), low_memory=False)\n",
    "    df_pep.replace(\"Filtered\", np.nan, inplace=True)\n",
    "    cols_pep_ms1 = [x for x in df_pep.columns if \"PEP.MS1Quantity\" in x]\n",
    "    cols_pep_ms2 = [x for x in df_pep.columns if \"PEP.MS2Quantity\" in x]\n",
    "    df_slice = df_pep.loc[:, cols_pep_ms1 + cols_pep_ms2].dropna()\n",
    "    cv_pep_ms1  = df_slice.loc[:, cols_pep_ms1].astype(float).std(axis=1) / df_slice.loc[:, cols_pep_ms1].astype(float).mean(axis=1) * 100\n",
    "    cv_pep_ms2  = df_slice.loc[:, cols_pep_ms2].astype(float).std(axis=1) / df_slice.loc[:, cols_pep_ms2].astype(float).mean(axis=1) * 100\n",
    "    cv_pep_ms1 = cv_pep_ms1.dropna().median()\n",
    "    cv_pep_ms2 = cv_pep_ms2.dropna().median()\n",
    "\n",
    "    prot_file = [x for x in os.listdir(work_dir) if (\"Protein_JB\" in x) and x.endswith(\".tsv\")]\n",
    "    df_prot = pd.read_table(os.path.join(work_dir, prot_file[0]), low_memory=False)    \n",
    "    df_prot[\"id\"] = df_prot[\"PG.ProteinGroups\"].apply(lambda x: x.split(\";\")[0])\n",
    "    cols_prot_ms1 = [x for x in df_prot.columns if \".MS1Quantity\" in x]\n",
    "    cols_prot_ms2 = [x for x in df_prot.columns if \".MS2Quantity\" in x]\n",
    "    cv_prot_ms1  = df_prot.loc[:, cols_prot_ms1].std(axis=1) / df_prot.loc[:, cols_prot_ms1].mean(axis=1) * 100\n",
    "    cv_prot_ms2  = df_prot.loc[:, cols_prot_ms2].std(axis=1) / df_prot.loc[:, cols_prot_ms2].mean(axis=1) * 100\n",
    "    cv_prot_ms1 = cv_prot_ms1.dropna().median()\n",
    "    cv_prot_ms2 = cv_prot_ms2.dropna().median()\n",
    "    return cv_pep_ms1, cv_prot_ms1, cv_pep_ms2 , cv_prot_ms2"
   ]
  },
  {
   "cell_type": "code",
   "execution_count": 10,
   "id": "47067ed2-5b3d-476b-9fd9-0533331e2d2a",
   "metadata": {},
   "outputs": [],
   "source": [
    "def get_experiment_statistics(df):\n",
    "    experiment = {}\n",
    "    experiment[\"experiment\"] = \"_\".join(df.experiment[0].split(\"_\")[2:])\n",
    "    experiment[\"LC\"] = df[\"LC, min\"][0]\n",
    "    experiment[\"Sample\"] = df.Sample[0]\n",
    "    experiment[\"injection\"] = df.injection[0]\n",
    "    experiment[\"analysis\"] = df.analysis[0]\n",
    "    experiment[\"method\"] = df.method[0]\n",
    "    experiment[\"PG_mean\"] = df.PG.mean()\n",
    "    experiment[\"PG_std\"] = df.PG.std()\n",
    "    experiment[\"PG\"] = [list(df.PG)]\n",
    "    experiment[\"PG_all\"] = df.PG_all[0]\n",
    "    experiment[\"DPPP_MS1\"] = df[\"Data Points per Peak (MS1)\"][0]\n",
    "    experiment[\"DPPP_MS2\"] = df[\"Data Points per Peak (MS2)\"][0]\n",
    "    experiment[\"Precursors_mean\"] = df.Precursors.mean()\n",
    "    experiment[\"Precursors_std\"] = df.Precursors.std()\n",
    "    experiment[\"Precursors\"] = [list(df.Precursors)]\n",
    "    experiment[\"Precursors_all\"] = df.Precursors_all[0]\n",
    "    experiment[\"FWHM, s\"] = df[\"Median FWHM, s\"].mean()\n",
    "    experiment[\"folder\"] = df.experiment[0]\n",
    "    experiment[\"name\"] = \"\\n\".join([\"_\".join([df.Sample[0], df.injection[0]]), df.method[0], df.analysis[0]])  \n",
    "    experiment[\"short_name\"] =  \"_\".join([df.injection[0], df.analysis[0]])\n",
    "    return pd.DataFrame(experiment)"
   ]
  },
  {
   "cell_type": "code",
   "execution_count": 11,
   "id": "9e0daeed-c483-424c-84ed-ec58525ed165",
   "metadata": {},
   "outputs": [],
   "source": [
    "def get_param_table(data, x_param, y_param, inj=\"any\"):\n",
    "    x_ticks = sorted(data[x_param].unique())\n",
    "    df = pd.DataFrame(index=x_ticks, columns=data.analysis.unique())\n",
    "    df = df.apply(lambda x: [])\n",
    "    data.index = data[x_param]\n",
    "    if inj == \"any\":\n",
    "        for c in data.analysis.unique():\n",
    "            df[c] = data[(data.analysis == c)][y_param]\n",
    "    else:\n",
    "        for c in data.analysis.unique():\n",
    "            df[c] = data[(data.analysis == c) & (data.injection == inj)][y_param]\n",
    "    return df"
   ]
  },
  {
   "cell_type": "code",
   "execution_count": 12,
   "id": "e343bd0c-67df-4fae-8111-e3b07b1362ea",
   "metadata": {},
   "outputs": [],
   "source": [
    "def set_cov_factor(gaus_kde, x_range):\n",
    "    gaus_kde.covariance_factor = lambda : .25\n",
    "    gaus_kde._compute_covariance()\n",
    "    return gaus_kde(x_range)"
   ]
  },
  {
   "cell_type": "markdown",
   "id": "0bdb77a9-84d4-4645-837f-27a83110e3b4",
   "metadata": {
    "tags": []
   },
   "source": [
    "## load and save data from Spectronaut results"
   ]
  },
  {
   "cell_type": "code",
   "execution_count": 13,
   "id": "22b1cb31-33a6-43d3-a5c7-06038188154c",
   "metadata": {},
   "outputs": [],
   "source": [
    "all_data = []\n",
    "\n",
    "working_dir = \"/groups/protechhub/user/Manuel/PRIDE_Uploads/21_AstralPaper/FAIMS_titration/20240209_123837_MM_Astral_paper_FAIMS_CV-38_MBR/\"\n",
    "df = get_spectronaut_res(os.path.join(working_dir, \"RunSummaries/\"), \n",
    "                         inj=\"250pg\", \n",
    "                         analysis='MBR',\n",
    "                         method=\"20Th_40ms_50SPD\", \n",
    "                         sample=\"HeLa\")\n",
    "df_line = get_experiment_statistics(df)\n",
    "cvs = add_cvs(working_dir)\n",
    "df_line[[\"pep_ms1_cv\", \"prot_ms1_cv\", \"pep_ms2_cv\", \"prot_ms2_cv\"] ] = cvs\n",
    "all_data.append(df_line)\n",
    "\n",
    "\n",
    "working_dir = \"/groups/protechhub/user/Manuel/PRIDE_Uploads/21_AstralPaper/FAIMS_titration/20240209_123923_MM_Astral_paper_FAIMS_CV-48_MBR/\"\n",
    "df = get_spectronaut_res(os.path.join(working_dir, \"RunSummaries/\"), \n",
    "                         inj=\"250pg\", \n",
    "                         analysis='MBR',\n",
    "                         method=\"20Th_40ms_50SPD\", \n",
    "                         sample=\"HeLa\")\n",
    "df_line = get_experiment_statistics(df)\n",
    "cvs = add_cvs(working_dir)\n",
    "df_line[[\"pep_ms1_cv\", \"prot_ms1_cv\", \"pep_ms2_cv\", \"prot_ms2_cv\"] ] = cvs\n",
    "all_data.append(df_line)\n",
    "\n",
    "working_dir = \"/groups/protechhub/user/Manuel/PRIDE_Uploads/21_AstralPaper/FAIMS_titration/20240209_123957_MM_Astral_paper_FAIMS_CV-58_MBR/\"\n",
    "df = get_spectronaut_res(os.path.join(working_dir, \"RunSummaries/\"), \n",
    "                         inj=\"250pg\", \n",
    "                         analysis='MBR',\n",
    "                         method=\"20Th_40ms_50SPD\", \n",
    "                         sample=\"HeLa\")\n",
    "df_line = get_experiment_statistics(df)\n",
    "cvs = add_cvs(working_dir)\n",
    "df_line[[\"pep_ms1_cv\", \"prot_ms1_cv\", \"pep_ms2_cv\", \"prot_ms2_cv\"] ] = cvs\n",
    "all_data.append(df_line)\n",
    "\n",
    "\n",
    "working_dir = \"/groups/protechhub/user/Manuel/PRIDE_Uploads/21_AstralPaper/FAIMS_titration/20240209_124032_MM_Astral_paper_FAIMS_CV-68_MBR/\"\n",
    "df = get_spectronaut_res(os.path.join(working_dir, \"RunSummaries/\"), \n",
    "                         inj=\"250pg\", \n",
    "                         analysis='MBR',\n",
    "                         method=\"20Th_40ms_50SPD\", \n",
    "                         sample=\"HeLa\")\n",
    "df_line = get_experiment_statistics(df)\n",
    "cvs = add_cvs(working_dir)\n",
    "df_line[[\"pep_ms1_cv\", \"prot_ms1_cv\", \"pep_ms2_cv\", \"prot_ms2_cv\"] ] = cvs\n",
    "all_data.append(df_line)\n",
    "\n",
    "\n",
    "working_dir = \"/groups/protechhub/user/Manuel/PRIDE_Uploads/21_AstralPaper/FAIMS_titration/20240209_124104_MM_Astral_paper_FAIMS_CV-78_MBR/\"\n",
    "df = get_spectronaut_res(os.path.join(working_dir, \"RunSummaries/\"), \n",
    "                         inj=\"250pg\", \n",
    "                         analysis='MBR',\n",
    "                         method=\"20Th_40ms_50SPD\", \n",
    "                         sample=\"HeLa\")\n",
    "df_line = get_experiment_statistics(df)\n",
    "cvs = add_cvs(working_dir)\n",
    "df_line[[\"pep_ms1_cv\", \"prot_ms1_cv\", \"pep_ms2_cv\", \"prot_ms2_cv\"] ] = cvs\n",
    "all_data.append(df_line)\n",
    "\n",
    "working_dir = \"/groups/protechhub/user/Manuel/PRIDE_Uploads/21_AstralPaper/FAIMS_titration/20240209_124143_MM_Astral_paper_FAIMS_CV-88_MBR/\"\n",
    "df = get_spectronaut_res(os.path.join(working_dir, \"RunSummaries/\"), \n",
    "                         inj=\"250pg\", \n",
    "                         analysis='MBR',\n",
    "                         method=\"20Th_40ms_50SPD\", \n",
    "                         sample=\"HeLa\")\n",
    "df_line = get_experiment_statistics(df)\n",
    "cvs = add_cvs(working_dir)\n",
    "df_line[[\"pep_ms1_cv\", \"prot_ms1_cv\", \"pep_ms2_cv\", \"prot_ms2_cv\"] ] = cvs\n",
    "all_data.append(df_line)\n",
    "\n",
    "working_dir = \"/groups/protechhub/user/Manuel/PRIDE_Uploads/21_AstralPaper/FAIMS_titration/20240209_124255_MM_Astral_paper_no_FAIMS_MBR/\"\n",
    "df = get_spectronaut_res(os.path.join(working_dir, \"RunSummaries/\"), \n",
    "                         inj=\"250pg\", \n",
    "                         analysis='MBR',\n",
    "                         method=\"20Th_40ms_50SPD\", \n",
    "                         sample=\"HeLa\")\n",
    "df_line = get_experiment_statistics(df)\n",
    "cvs = add_cvs(working_dir)\n",
    "df_line[[\"pep_ms1_cv\", \"prot_ms1_cv\", \"pep_ms2_cv\", \"prot_ms2_cv\"] ] = cvs\n",
    "all_data.append(df_line)\n"
   ]
  },
  {
   "cell_type": "code",
   "execution_count": 14,
   "id": "e636554c-05bc-42db-927f-2a4006298703",
   "metadata": {},
   "outputs": [],
   "source": [
    "data_all = pd.concat(all_data).fillna(0)\n",
    "data_all.index = data_all.experiment"
   ]
  },
  {
   "cell_type": "code",
   "execution_count": 15,
   "id": "21a16088-a455-429c-9b7e-c81a575361c1",
   "metadata": {},
   "outputs": [],
   "source": [
    "cols = ['MM_Astral_paper_no_FAIMS_MBR', 'MM_Astral_paper_FAIMS_CV-38_MBR',\n",
    "       'MM_Astral_paper_FAIMS_CV-48_MBR',\n",
    "       'MM_Astral_paper_FAIMS_CV-58_MBR',\n",
    "       'MM_Astral_paper_FAIMS_CV-68_MBR',\n",
    "       'MM_Astral_paper_FAIMS_CV-78_MBR',\n",
    "       'MM_Astral_paper_FAIMS_CV-88_MBR',\n",
    "       ]\n",
    "data = data_all.loc[cols,:]\n",
    "data[\"FAIMS\"] = data[\"experiment\"].apply(lambda x: x.split(\"_\")[-2])\n",
    "data.to_parquet(\"./serialized_data/fig2/f2_panelabc.parquet\", index=False)\n",
    "data.to_csv(\"./serialized_data/fig2/f2_panelabc.csv\", index=False)"
   ]
  },
  {
   "cell_type": "code",
   "execution_count": 16,
   "id": "888a85f4-26ca-47eb-a37e-285180d794e7",
   "metadata": {},
   "outputs": [
    {
     "data": {
      "text/plain": [
       "Index(['experiment', 'LC', 'Sample', 'injection', 'analysis', 'method',\n",
       "       'PG_mean', 'PG_std', 'PG', 'PG_all', 'DPPP_MS1', 'DPPP_MS2',\n",
       "       'Precursors_mean', 'Precursors_std', 'Precursors', 'Precursors_all',\n",
       "       'FWHM, s', 'folder', 'name', 'short_name', 'pep_ms1_cv', 'prot_ms1_cv',\n",
       "       'pep_ms2_cv', 'prot_ms2_cv', 'FAIMS'],\n",
       "      dtype='object')"
      ]
     },
     "execution_count": 16,
     "metadata": {},
     "output_type": "execute_result"
    }
   ],
   "source": [
    "data.columns"
   ]
  },
  {
   "cell_type": "code",
   "execution_count": 19,
   "id": "8c86acd6-b4da-4cdd-87bb-98633d1982fe",
   "metadata": {},
   "outputs": [],
   "source": [
    "c = [\"method\",  \"FAIMS\", \"analysis\", \"Sample\",\\\n",
    "     \"experiment\", \"PG\", \"PG_mean\", \"Precursors\",\n",
    "     \"Precursors_mean\", \"prot_ms1_cv\", \"prot_ms2_cv\", 'DPPP_MS1', 'DPPP_MS2', 'FWHM, s']\n",
    "data.loc[:, c].to_csv(\"serialized_data/main_f2.csv\",sep=\"\\t\", index=False)"
   ]
  },
  {
   "cell_type": "markdown",
   "id": "69392a97-5367-4550-97ba-5708dab66df7",
   "metadata": {},
   "source": [
    "### for venn diagrams"
   ]
  },
  {
   "cell_type": "code",
   "execution_count": 20,
   "id": "313e7e8e-18b4-4f3c-bd1d-2f696509708b",
   "metadata": {},
   "outputs": [
    {
     "name": "stderr",
     "output_type": "stream",
     "text": [
      "<ipython-input-20-921047a8ab10>:7: DtypeWarning: Columns (1) have mixed types. Specify dtype option on import or set low_memory=False.\n",
      "  df = pd.read_table(os.path.join(rt, file))\n",
      "<ipython-input-20-921047a8ab10>:7: DtypeWarning: Columns (1) have mixed types. Specify dtype option on import or set low_memory=False.\n",
      "  df = pd.read_table(os.path.join(rt, file))\n",
      "<ipython-input-20-921047a8ab10>:7: DtypeWarning: Columns (1) have mixed types. Specify dtype option on import or set low_memory=False.\n",
      "  df = pd.read_table(os.path.join(rt, file))\n",
      "<ipython-input-20-921047a8ab10>:7: DtypeWarning: Columns (1) have mixed types. Specify dtype option on import or set low_memory=False.\n",
      "  df = pd.read_table(os.path.join(rt, file))\n"
     ]
    }
   ],
   "source": [
    "#peptides\n",
    "datasets_peptides = dict()\n",
    "root = \"/groups/protechhub/user/Manuel/PRIDE_Uploads/21_AstralPaper/FAIMS_titration/\"\n",
    "for rt, j, files in os.walk(root):\n",
    "    for file in files:\n",
    "        if file.endswith(\"Peptides_JB (Pivot).tsv\"):\n",
    "            df = pd.read_table(os.path.join(rt, file))\n",
    "            df[\"peptides\"] = df[\"EG.PrecursorId\"].apply(lambda x: x.split(\"_\")[1])\n",
    "            rep1 = df.columns[4]\n",
    "            df[\"counter\"]  = 1\n",
    "            name  = rt.split(\"_\")[-2]  \n",
    "            datasets_peptides[name] = df.dropna(subset=rep1).drop_duplicates(subset=\"peptides\")\n",
    "datasets_peptides[\"noFAIMS\"] = datasets_peptides[\"FAIMS\"]\n",
    "\n",
    "with open(\"serialized_data/fig2/f2_panelf_pep_nofaims.txt\", \"w\") as f:\n",
    "    f.write(\"\\n\".join(set(datasets_peptides[\"noFAIMS\"][\"peptides\"])))\n",
    "with open(\"serialized_data/fig2/f2_panelf_pep_cv48.txt\", \"w\") as f:\n",
    "    f.write(\"\\n\".join(set(datasets_peptides[\"CV-48\"][\"peptides\"])))\n",
    "with open(\"serialized_data/fig2/f2_panelf_pep_cv58.txt\", \"w\") as f:\n",
    "    f.write(\"\\n\".join(set(datasets_peptides[\"CV-58\"][\"peptides\"])))"
   ]
  },
  {
   "cell_type": "code",
   "execution_count": 21,
   "id": "71d4fe4d-95e6-40a1-96a3-bc8fa97759d5",
   "metadata": {},
   "outputs": [
    {
     "name": "stdout",
     "output_type": "stream",
     "text": [
      "MM_Astral_paper_FAIMS_CV-38_MBR_Report_Protein_JB (Pivot).tsv\n",
      "MM_Astral_paper_FAIMS_CV-48_MBR_Report_Protein_JB (Pivot).tsv\n",
      "MM_Astral_paper_FAIMS_CV-58_MBR_Report_Protein_JB (Pivot).tsv\n",
      "MM_Astral_paper_FAIMS_CV-68_MBR_Report_Protein_JB (Pivot).tsv\n",
      "MM_Astral_paper_FAIMS_CV-78_MBR_Report_Protein_JB (Pivot).tsv\n",
      "MM_Astral_paper_FAIMS_CV-88_MBR_Report_Protein_JB (Pivot).tsv\n",
      "MM_Astral_paper_no_FAIMS_MBR_Report_Protein_JB (Pivot).tsv\n"
     ]
    }
   ],
   "source": [
    "#proteins\n",
    "datasets_prot = dict()\n",
    "root = \"/groups/protechhub/user/Manuel/PRIDE_Uploads/21_AstralPaper/FAIMS_titration/\"\n",
    "for rt, j, files in os.walk(root):\n",
    "    for file in files:\n",
    "        if file.endswith(\"Protein_JB (Pivot).tsv\"):\n",
    "            print(file)\n",
    "            df = pd.read_table(os.path.join(rt, file))\n",
    "            name  = rt.split(\"_\")[-2]  \n",
    "            datasets_prot[name] = df\n",
    "datasets_prot[\"noFAIMS\"] = datasets_prot[\"FAIMS\"]  \n",
    "\n",
    "with open(\"serialized_data/fig2/f2_panelg_prot_nofaims.txt\", \"w\") as f:\n",
    "    f.write(\"\\n\".join(set(datasets_prot[\"noFAIMS\"][\"PG.ProteinGroups\"])))\n",
    "with open(\"serialized_data/fig2/f2_panelg_prot_cv48.txt\", \"w\") as f:\n",
    "    f.write(\"\\n\".join(set(datasets_prot[\"CV-48\"][\"PG.ProteinGroups\"])))\n",
    "with open(\"serialized_data/fig2/f2_panelg_prot_cv58.txt\", \"w\") as f:\n",
    "    f.write(\"\\n\".join(set(datasets_prot[\"CV-58\"][\"PG.ProteinGroups\"])))\n",
    "    "
   ]
  },
  {
   "cell_type": "markdown",
   "id": "e207d661-9d13-4e98-8a74-5d82152c5064",
   "metadata": {},
   "source": [
    "### no FAIMS and CV-48 diatributions "
   ]
  },
  {
   "cell_type": "code",
   "execution_count": 57,
   "id": "ce031940-2bcb-4b99-8d82-610cecb2fcc1",
   "metadata": {},
   "outputs": [],
   "source": [
    "cols_1 = [x for x in datasets_prot[\"noFAIMS\"].columns if \"PG.Quantity\" in x]\n",
    "cols_2 = [x for x in datasets_prot[\"CV-48\"].columns if \"PG.Quantity\" in x]\n",
    "cols_3 = [x for x in datasets_peptides[\"noFAIMS\"].columns if \"PEP.Quantity\" in x]\n",
    "cols_4 = [x for x in datasets_peptides[\"CV-48\"].columns if \"PEP.Quantity\" in x]\n",
    "df = pd.concat([pd.Series(datasets_prot[\"noFAIMS\"].loc[:, cols_1[0]][datasets_prot[\"noFAIMS\"].loc[:, cols_1[0]] > 1].values), \\\n",
    "                pd.Series(datasets_prot[\"CV-48\"].loc[:, cols_2[0]][datasets_prot[\"CV-48\"].loc[:, cols_2[0]] > 1].values), \\\n",
    "                pd.Series(datasets_peptides[\"noFAIMS\"].loc[:, cols_3[0]][datasets_peptides[\"noFAIMS\"].loc[:, cols_3[0]] > 1].values), \n",
    "                pd.Series(datasets_peptides[\"CV-48\"].loc[:, cols_4[0]][datasets_peptides[\"CV-48\"].loc[:, cols_4[0]] > 1].values)],\\\n",
    "               axis=1)\n",
    "df.columns = [\"nofaims_prot_abund\", \"cv48_prot_abund\", \"nofaims_pep_abund\", \"cv48_pep_abund\"]\n",
    "df.to_csv(\"./serialized_data/fig2/f2_panelde_noFAIMS_cv48_abund.csv\", index=False)"
   ]
  },
  {
   "cell_type": "code",
   "execution_count": 58,
   "id": "045230d2-38ab-4720-b180-3bc0ed062cab",
   "metadata": {},
   "outputs": [
    {
     "data": {
      "text/html": [
       "<div>\n",
       "<style scoped>\n",
       "    .dataframe tbody tr th:only-of-type {\n",
       "        vertical-align: middle;\n",
       "    }\n",
       "\n",
       "    .dataframe tbody tr th {\n",
       "        vertical-align: top;\n",
       "    }\n",
       "\n",
       "    .dataframe thead th {\n",
       "        text-align: right;\n",
       "    }\n",
       "</style>\n",
       "<table border=\"1\" class=\"dataframe\">\n",
       "  <thead>\n",
       "    <tr style=\"text-align: right;\">\n",
       "      <th></th>\n",
       "      <th>nofaims_prot_abund</th>\n",
       "      <th>cv48_prot_abund</th>\n",
       "      <th>nofaims_pep_abund</th>\n",
       "      <th>cv48_pep_abund</th>\n",
       "    </tr>\n",
       "  </thead>\n",
       "  <tbody>\n",
       "    <tr>\n",
       "      <th>0</th>\n",
       "      <td>2265.350098</td>\n",
       "      <td>7068.087891</td>\n",
       "      <td>3683.885254</td>\n",
       "      <td>7068.087891</td>\n",
       "    </tr>\n",
       "    <tr>\n",
       "      <th>1</th>\n",
       "      <td>1170.950195</td>\n",
       "      <td>784.548035</td>\n",
       "      <td>2104.377686</td>\n",
       "      <td>1241.415161</td>\n",
       "    </tr>\n",
       "    <tr>\n",
       "      <th>2</th>\n",
       "      <td>8742.730469</td>\n",
       "      <td>1470.186646</td>\n",
       "      <td>459.191345</td>\n",
       "      <td>785.310303</td>\n",
       "    </tr>\n",
       "    <tr>\n",
       "      <th>3</th>\n",
       "      <td>81.984962</td>\n",
       "      <td>15808.033203</td>\n",
       "      <td>799.643005</td>\n",
       "      <td>101.749557</td>\n",
       "    </tr>\n",
       "    <tr>\n",
       "      <th>4</th>\n",
       "      <td>918.247375</td>\n",
       "      <td>519.125549</td>\n",
       "      <td>237.889420</td>\n",
       "      <td>26.055574</td>\n",
       "    </tr>\n",
       "    <tr>\n",
       "      <th>5</th>\n",
       "      <td>2695.264160</td>\n",
       "      <td>810.874390</td>\n",
       "      <td>327.934631</td>\n",
       "      <td>1404.964111</td>\n",
       "    </tr>\n",
       "    <tr>\n",
       "      <th>6</th>\n",
       "      <td>874.862183</td>\n",
       "      <td>1008.651978</td>\n",
       "      <td>1170.950195</td>\n",
       "      <td>1404.964111</td>\n",
       "    </tr>\n",
       "    <tr>\n",
       "      <th>7</th>\n",
       "      <td>613.574524</td>\n",
       "      <td>36.725380</td>\n",
       "      <td>161.822144</td>\n",
       "      <td>16617.636719</td>\n",
       "    </tr>\n",
       "    <tr>\n",
       "      <th>8</th>\n",
       "      <td>373.173737</td>\n",
       "      <td>1682.591553</td>\n",
       "      <td>1057.859253</td>\n",
       "      <td>25993.789062</td>\n",
       "    </tr>\n",
       "    <tr>\n",
       "      <th>9</th>\n",
       "      <td>4407.697266</td>\n",
       "      <td>2151.777344</td>\n",
       "      <td>1374.220093</td>\n",
       "      <td>6377.339844</td>\n",
       "    </tr>\n",
       "    <tr>\n",
       "      <th>10</th>\n",
       "      <td>4909.383301</td>\n",
       "      <td>89.068314</td>\n",
       "      <td>322.662750</td>\n",
       "      <td>6377.339844</td>\n",
       "    </tr>\n",
       "    <tr>\n",
       "      <th>11</th>\n",
       "      <td>1957.988281</td>\n",
       "      <td>255.618713</td>\n",
       "      <td>1018.523499</td>\n",
       "      <td>398.438660</td>\n",
       "    </tr>\n",
       "    <tr>\n",
       "      <th>12</th>\n",
       "      <td>240.302689</td>\n",
       "      <td>257.418335</td>\n",
       "      <td>598.243713</td>\n",
       "      <td>313.191803</td>\n",
       "    </tr>\n",
       "    <tr>\n",
       "      <th>13</th>\n",
       "      <td>2899.992432</td>\n",
       "      <td>146.313171</td>\n",
       "      <td>525.139099</td>\n",
       "      <td>356.145416</td>\n",
       "    </tr>\n",
       "    <tr>\n",
       "      <th>14</th>\n",
       "      <td>763.805725</td>\n",
       "      <td>365.858490</td>\n",
       "      <td>482.638397</td>\n",
       "      <td>195.094131</td>\n",
       "    </tr>\n",
       "    <tr>\n",
       "      <th>15</th>\n",
       "      <td>364.077576</td>\n",
       "      <td>242.238083</td>\n",
       "      <td>152.756851</td>\n",
       "      <td>49.848095</td>\n",
       "    </tr>\n",
       "    <tr>\n",
       "      <th>16</th>\n",
       "      <td>2027.579224</td>\n",
       "      <td>356.767303</td>\n",
       "      <td>66.566742</td>\n",
       "      <td>588.575073</td>\n",
       "    </tr>\n",
       "    <tr>\n",
       "      <th>17</th>\n",
       "      <td>894.986938</td>\n",
       "      <td>46.164062</td>\n",
       "      <td>66.566742</td>\n",
       "      <td>532.511902</td>\n",
       "    </tr>\n",
       "    <tr>\n",
       "      <th>18</th>\n",
       "      <td>163.247528</td>\n",
       "      <td>1165.277222</td>\n",
       "      <td>6656.105469</td>\n",
       "      <td>436.289673</td>\n",
       "    </tr>\n",
       "    <tr>\n",
       "      <th>19</th>\n",
       "      <td>229.776260</td>\n",
       "      <td>431.293274</td>\n",
       "      <td>1171.235107</td>\n",
       "      <td>345.604126</td>\n",
       "    </tr>\n",
       "  </tbody>\n",
       "</table>\n",
       "</div>"
      ],
      "text/plain": [
       "    nofaims_prot_abund  cv48_prot_abund  nofaims_pep_abund  cv48_pep_abund\n",
       "0          2265.350098      7068.087891        3683.885254     7068.087891\n",
       "1          1170.950195       784.548035        2104.377686     1241.415161\n",
       "2          8742.730469      1470.186646         459.191345      785.310303\n",
       "3            81.984962     15808.033203         799.643005      101.749557\n",
       "4           918.247375       519.125549         237.889420       26.055574\n",
       "5          2695.264160       810.874390         327.934631     1404.964111\n",
       "6           874.862183      1008.651978        1170.950195     1404.964111\n",
       "7           613.574524        36.725380         161.822144    16617.636719\n",
       "8           373.173737      1682.591553        1057.859253    25993.789062\n",
       "9          4407.697266      2151.777344        1374.220093     6377.339844\n",
       "10         4909.383301        89.068314         322.662750     6377.339844\n",
       "11         1957.988281       255.618713        1018.523499      398.438660\n",
       "12          240.302689       257.418335         598.243713      313.191803\n",
       "13         2899.992432       146.313171         525.139099      356.145416\n",
       "14          763.805725       365.858490         482.638397      195.094131\n",
       "15          364.077576       242.238083         152.756851       49.848095\n",
       "16         2027.579224       356.767303          66.566742      588.575073\n",
       "17          894.986938        46.164062          66.566742      532.511902\n",
       "18          163.247528      1165.277222        6656.105469      436.289673\n",
       "19          229.776260       431.293274        1171.235107      345.604126"
      ]
     },
     "execution_count": 58,
     "metadata": {},
     "output_type": "execute_result"
    }
   ],
   "source": [
    "# df.iloc[:20, :]"
   ]
  },
  {
   "cell_type": "code",
   "execution_count": null,
   "id": "82b7d570-68f5-4fca-a814-7a159b28e22c",
   "metadata": {},
   "outputs": [],
   "source": [
    "df.iloc[:20, :]"
   ]
  },
  {
   "cell_type": "markdown",
   "id": "42bb859c-0042-4bab-afc4-8f23ea8e8fe8",
   "metadata": {
    "tags": []
   },
   "source": [
    "## human + yeast figures"
   ]
  },
  {
   "cell_type": "code",
   "execution_count": 15,
   "id": "04c939b5-1686-4daf-962c-ba29d71814ca",
   "metadata": {},
   "outputs": [],
   "source": [
    "names_dict = {\"200pg_50pg_H_Y\":\"H200_Y50\",\n",
    "              \"150pg_100pg_H_Y\":\"H150_Y100\",\n",
    "              \"240pg_10pg_H_Y\":\"H240_Y10\"}\n",
    "def get_col_name(s):\n",
    "    first =  \"_\".join(s.split(\".\")[0].split(\"_\")[7:])\n",
    "    first = first.replace( first[:-3], names_dict[first[:-3]])\n",
    "    last = s.split(\".\")[-1]\n",
    "    if last == \"MS2Quantity\":\n",
    "        last = \"Quantity\"\n",
    "    return \"_\".join([first, last]) \n"
   ]
  },
  {
   "cell_type": "markdown",
   "id": "d97d883e-1c8b-4759-9d41-f8489bf3247c",
   "metadata": {
    "tags": []
   },
   "source": [
    "### Figure plotting"
   ]
  },
  {
   "cell_type": "code",
   "execution_count": 60,
   "id": "b0209a39-521c-49e3-8f68-c7213c980fc7",
   "metadata": {},
   "outputs": [],
   "source": [
    "data = pd.read_parquet(\"./serialized_data/fig2/f2_panelabc.parquet\").set_index(\"experiment\")"
   ]
  },
  {
   "cell_type": "code",
   "execution_count": 61,
   "id": "34bc9ffa-90dc-47bf-a1d7-474b63809561",
   "metadata": {},
   "outputs": [],
   "source": [
    "#peptides\n",
    "with open(\"./serialized_data/fig2/f2_panelf_pep_nofaims.txt\", \"r\") as f:\n",
    "    nofaims_pep = set(f.read().split(\"\\n\"))\n",
    "with open(\"./serialized_data/fig2/f2_panelf_pep_cv48.txt\", \"r\") as f:\n",
    "    cv48_pep = set(f.read().split(\"\\n\"))\n",
    "with open(\"./serialized_data/fig2/f2_panelf_pep_cv58.txt\", \"r\") as f:\n",
    "    cv58_pep = set(f.read().split(\"\\n\"))\n",
    "    \n",
    "#proteins    \n",
    "with open(\"./serialized_data/fig2/f2_panelg_prot_nofaims.txt\", \"r\") as f:\n",
    "    nofaims_prot = set(f.read().split(\"\\n\"))\n",
    "with open(\"./serialized_data/fig2/f2_panelg_prot_cv48.txt\", \"r\") as f:\n",
    "    cv48_prot = set(f.read().split(\"\\n\"))\n",
    "with open(\"./serialized_data/fig2/f2_panelg_prot_cv58.txt\", \"r\") as f:\n",
    "    cv58_prot = set(f.read().split(\"\\n\"))"
   ]
  },
  {
   "cell_type": "code",
   "execution_count": 18,
   "id": "b0236b31-d3dc-48cf-a23d-d8b20d13df17",
   "metadata": {},
   "outputs": [],
   "source": [
    "data_abund = pd.read_csv(\"./serialized_data/fig2/f2_panelde_noFAIMS_cv48_abund.csv\")"
   ]
  },
  {
   "cell_type": "code",
   "execution_count": 19,
   "id": "e0e3acd0-c355-49ab-9294-3e61c7a39571",
   "metadata": {},
   "outputs": [],
   "source": [
    "W = 0.4\n",
    "BAR_W = 0.3\n",
    "colors=[[ \"#5f8bd3\", \"#264d8c\", \"#1b3764\"], [\"#d35f8c\",\"#a02c59\", \"#782143\"],  [\"#65c4cd\", \"#3fb5c0\", \"#32919a\", \"#1f5b60\"],  [\"#ffa533\", \"#ff8e00\", \"#cc7200\", \"#995500\"]]\n",
    "  \n",
    "def plot_panela(ax, data, bar_w=BAR_W, w=W, colors=colors):\n",
    "    param = \"FAIMS\"\n",
    "    inj = \"250pg\"\n",
    "    y_param = \"PG\"\n",
    "    df = get_param_table(data, param, y_param, inj)\n",
    "    x = np.arange(df.shape[0]) \n",
    "    ax.set_ylabel(y_param, color=colors[0][-1])\n",
    "    for analysis, c, label in zip([\"MBR\"], colors[0] , [\"DirectDIA\"]):\n",
    "        ax.bar(x, df[analysis].apply(lambda x: np.mean(x)), \n",
    "                yerr=df[analysis].apply(lambda x: np.std(x)), \n",
    "                color=c, \n",
    "                width=bar_w,\n",
    "                edgecolor=colors[0][-1])  \n",
    "        for b , yy in zip(x, df[analysis]):\n",
    "            if not isinstance(yy, list):\n",
    "                yy = [0] * 3\n",
    "            xx = np.linspace(b - bar_w / 3, b + bar_w / 3, len(yy))\n",
    "            ax.scatter(xx, yy, color=c, edgecolors=colors[0][-1], s=dot_size)\n",
    "        for i, y, in zip(x, df[analysis].fillna(0).apply(lambda x: np.mean(x))):\n",
    "            if analysis == \"MBR\":\n",
    "                t = ax1.annotate(f'{int(y)}', xy=(i, y + 200),  ha='center', color=\"black\",  size=font_on_figure)\n",
    "            else:\n",
    "                t = ax1.annotate(f'{int(y)}', xy=(i + 0.05 - 0.015, 200), rotation=90, ha='center', va=\"bottom\", color=\"white\", size=font_on_figure)\n",
    "    ax.tick_params(axis='y', labelcolor=colors[0][-1])\n",
    "    ax.set_ylim(2000, 1.5 * max(df[\"MBR\"].dropna().apply(lambda x: np.mean(x))))\n",
    "    xlabels = [s.replace(\"FAIMS\", \"no FAIMS\") for s in df.index]\n",
    "    ax.set_xticks(x + w / 2, xlabels)\n",
    "    ax.ticklabel_format(axis='y', style='sci', scilimits=(3,3))\n",
    "    ax.set_xlim(0 - 0.34, len(x) - 1 + 0.4 + w) \n",
    "    ax2 = ax.twinx()  # instantiate a second axes that shares the same x-axis\n",
    "    y_param = \"Precursors\"\n",
    "    df = get_param_table(data, param, y_param, inj)\n",
    "    ax2.set_ylabel(y_param, color=colors[1][-1]) \n",
    "    for analysis, c, label in zip([ \"MBR\"], colors[1], [\"DirectDIA\"]):\n",
    "        ax2.bar(x + w, df[analysis].apply(lambda x: np.mean(x)),\n",
    "                yerr=df[analysis].apply(lambda x: np.std(x)),\n",
    "                color=c, \n",
    "                width=bar_w,\n",
    "            edgecolor=colors[1][-1]) \n",
    "        for b , yy in zip(x, df[analysis]):\n",
    "            if not isinstance(yy, list):\n",
    "                yy = [0] * len(xx)\n",
    "            xx = np.linspace(b - bar_w / 3, b + bar_w / 3, len(yy))\n",
    "            ax2.scatter(xx + w, yy, \n",
    "                        color=c, edgecolors=colors[1][-1],\n",
    "                        s=dot_size)\n",
    "        for i, y, in zip(x, df[analysis].fillna(0).apply(lambda x: np.mean(x))):\n",
    "            if analysis == \"MBR\":\n",
    "                t = ax2.annotate(f'{int(y)}', xy=(i + w , 2000 + y),  ha='center', color=\"black\", size=font_on_figure)\n",
    "            else:\n",
    "                 t = ax2.annotate(f'{int(y)}', xy=(i + w + 0.015, 1000), rotation=90, va=\"bottom\", ha='center', color=\"white\", size=font_on_figure)\n",
    "    ax2.tick_params(axis='y', labelcolor=colors[1][-1])\n",
    "    ax2.ticklabel_format(axis='y', style='sci', scilimits=(3,3))\n",
    "    ax2.set_ylim(0, 1.5 * max(df[\"MBR\"].dropna().apply(lambda x: np.mean(x))))\n",
    "    xlabels = [s.replace(\"FAIMS\", \"no FAIMS\") for s in df.index]\n",
    "    ax2.set_xticks(x + w / 2, xlabels)\n",
    "    h, l = [], []\n",
    "    # ------ append the multicolor legend patches\n",
    "    h.append(MulticolorPatch([colors[0][0], colors[1][0]]))\n",
    "    l.append(\"DirectDIA+, with matching\")\n",
    "\n",
    "    # ------ create the legend\n",
    "    ax1.legend(h, l, loc='upper left', \n",
    "             handler_map={MulticolorPatch: MulticolorPatchHandler()}, \n",
    "             bbox_to_anchor=(0.5, 0.95))\n",
    "\n",
    "def plot_panelb(ax, data,bar_w=BAR_W, w=W, colors=colors):\n",
    "    param = \"FAIMS\"\n",
    "    inj = \"250pg\"\n",
    "    y_param = \"prot_ms1_cv\"\n",
    "    c = colors[2][-1]\n",
    "    df = get_param_table(data, param, y_param, inj)\n",
    "    x = np.arange(df.shape[0]) \n",
    "    ax.plot(x + w/2, df[\"MBR\"].apply(lambda x: np.median(x)), \"-o\", color=c,  label = \"MS1-based\")\n",
    "    \n",
    "    y_param = \"prot_ms2_cv\"\n",
    "    df = get_param_table(data, param, y_param, inj)\n",
    "    ax.plot(x + w/2, df[\"MBR\"].apply(lambda x: np.median(x)), \"-o\", color=colors[2][0], label = \"MS2-based\")\n",
    "    ax.set_ylim(5, 25)\n",
    "    ax.set_ylabel(\"median CV, %\")#, color=c)\n",
    "    ax.legend(loc=\"upper center\")\n",
    "    xlabels = [s.replace(\"FAIMS\", \"no FAIMS\") for s in df.index]\n",
    "    ax.set_xticks(x + w / 2, xlabels)\n",
    "    ax.set_xlim(0 - 0.34, len(x) - 1 + 0.4 + w) \n",
    "    ax.grid(axis=\"y\")\n",
    "    \n",
    "def plot_panelc(ax, data, bar_w=BAR_W, w=W, colors=colors):\n",
    "    param = \"FAIMS\"\n",
    "    inj = \"250pg\"\n",
    "    y_param = \"DPPP_MS1\"\n",
    "    c = colors[2][-1]\n",
    "    df = get_param_table(data, param, y_param, inj)\n",
    "    x = np.arange(df.shape[0]) \n",
    "    ax.set_ylabel(\"points per\\n elution peak\")#, color=c) \n",
    "    ax.plot(x + w / 2, df[\"MBR\"].apply(lambda x: np.median(x)), \"-o\", color=c,label = \"MS1-based\")\n",
    "    \n",
    "    y_param = \"DPPP_MS2\"\n",
    "    df = get_param_table(data, param, y_param, inj)\n",
    "    ax.plot(x + w/2, df[\"MBR\"].apply(lambda x: np.median(x)), \"-o\",color=colors[2][0], label = \"MS2-based\")\n",
    "    ax.set_ylim(2, 8)\n",
    "    xlabels = [s.replace(\"FAIMS\", \"no FAIMS\") for s in df.index]\n",
    "    ax.set_xticks(x + w / 2, xlabels)\n",
    "    ax.set_xlim(0 - 0.34, len(x) - 1 + 0.4 + w) \n",
    "    ax.grid(axis=\"y\")\n",
    "    ax.legend(loc=\"upper right\")\n"
   ]
  },
  {
   "cell_type": "code",
   "execution_count": 20,
   "id": "a8cba4e6-db49-47f8-bae0-bd5516828afc",
   "metadata": {},
   "outputs": [],
   "source": [
    "def plot_paneld(ax, data_abund, nofaims, cv48, xlabel):    \n",
    "    ax.scatter(range(len(data_abund[nofaims].dropna())), np.log2(data_abund[nofaims].dropna()).sort_values(), label=\"no FAIMS\")\n",
    "    ax.scatter(range(len(data_abund[cv48].dropna())), np.log2(data_abund[cv48].dropna()).sort_values(), label=\"CV-48\")\n",
    "    ax.legend()\n",
    "    ax.set_ylabel(\"$log_2(PG\\ Abundance)$\")\n",
    "    ax.set_xlabel(xlabel)\n",
    "    ax.set_ylim(0, 21)\n",
    "\n",
    "def plot_panele(ax, data_abund, nofaims, cv48):\n",
    "    ymin = -5\n",
    "    ymax = 22\n",
    "    xs = np.linspace(ymin, ymax, 100)\n",
    "    nofaims_list = data_abund[nofaims].dropna()\n",
    "    nofaims_list = np.log2(nofaims_list[nofaims_list > 1].sort_values())\n",
    "    cv48_list = data_abund[cv48].dropna()\n",
    "    cv48_list = np.log2(cv48_list[cv48_list > 1].sort_values())\n",
    "    y1_len = len(nofaims_list)\n",
    "    y2_len = len(cv48_list)\n",
    "    coef = y2_len/y1_len\n",
    "    y1 = set_cov_factor(gaussian_kde(nofaims_list), xs)\n",
    "    y2 = set_cov_factor(gaussian_kde(cv48_list), xs)\n",
    "    ax.plot(y1, xs)\n",
    "    ax.plot(coef * y2, xs)\n",
    "    ax.fill_between(y1, xs, alpha=0.5)\n",
    "    ax.fill_between(coef * y2, xs, alpha=0.5)\n",
    "    ax.set_xlabel(\"Normalized Density\")\n",
    "    ax.set_ylim(0, 21)\n"
   ]
  },
  {
   "cell_type": "code",
   "execution_count": 21,
   "id": "282c6074-b796-4342-9ac2-8445f82670ab",
   "metadata": {},
   "outputs": [],
   "source": [
    "def plot_panelhi(ax, nofaims, cv48, cv58):\n",
    "    v = venn3([nofaims, cv48, cv58], set_labels=[\"No FAIMS\", \"CV -48V\", \"CV -58V\"], set_colors=colors, alpha=0.6, ax=ax)\n",
    "    for i in [\"001\", \"010\", \"100\", \"111\"]:\n",
    "        overlap = v.get_patch_by_id(i)\n",
    "        overlap.set_edgecolor(\"black\")\n"
   ]
  },
  {
   "cell_type": "code",
   "execution_count": 78,
   "id": "2da27efe-d210-4daf-adea-a32533964a9b",
   "metadata": {},
   "outputs": [
    {
     "name": "stdout",
     "output_type": "stream",
     "text": [
      "31798\n",
      "44234\n",
      "34262\n"
     ]
    }
   ],
   "source": [
    "for i in [nofaims_pep, cv58_pep, cv48_pep]:\n",
    "    print(len(i))"
   ]
  },
  {
   "cell_type": "code",
   "execution_count": 82,
   "id": "5adaf4c0-5483-4a24-80f9-b531f79ab71d",
   "metadata": {},
   "outputs": [
    {
     "name": "stdout",
     "output_type": "stream",
     "text": [
      "3466\n",
      "5017\n",
      "5683\n"
     ]
    }
   ],
   "source": [
    "for i in [nofaims_prot, cv58_prot, cv48_prot]:\n",
    "    print(len(set(i)& set(cv48_prot)))"
   ]
  },
  {
   "cell_type": "code",
   "execution_count": 22,
   "id": "6ac31ded-e645-4261-a76e-85a2c2ac7bf3",
   "metadata": {},
   "outputs": [
    {
     "data": {
      "image/png": "[encoded data removed]",
      "text/plain": [
       "<Figure size 360x360 with 4 Axes>"
      ]
     },
     "metadata": {
      "needs_background": "light"
     },
     "output_type": "display_data"
    }
   ],
   "source": [
    "fig, (ax1, ax2, ax3) = plt.subplots(3, 1 , figsize=(5 , 5),  height_ratios = [3, 2, 2])\n",
    "plot_panela(ax1, data)\n",
    "plot_panelb(ax2, data)\n",
    "plot_panelc(ax3, data)\n"
   ]
  },
  {
   "cell_type": "code",
   "execution_count": 23,
   "id": "e6e92ac0-7e08-4ba7-bcbd-214f067a4cfa",
   "metadata": {},
   "outputs": [
    {
     "data": {
      "image/png": "[encoded data removed]",
      "text/plain": [
       "<Figure size 360x360 with 1 Axes>"
      ]
     },
     "metadata": {},
     "output_type": "display_data"
    }
   ],
   "source": [
    "colors = [\"#008066\", \"#e05959\", \"#5f8dd3\"]\n",
    "fig, (ax1) = plt.subplots(1, 1 , figsize=(5 , 5), )\n",
    "plot_panelhi(ax1, nofaims_pep, cv48_pep, cv58_pep)"
   ]
  },
  {
   "cell_type": "code",
   "execution_count": 24,
   "id": "1e0b2e85-082b-4011-b7e1-3a29cc5ab780",
   "metadata": {},
   "outputs": [
    {
     "data": {
      "image/png": "[encoded data removed]",
      "text/plain": [
       "<Figure size 360x360 with 1 Axes>"
      ]
     },
     "metadata": {},
     "output_type": "display_data"
    }
   ],
   "source": [
    "colors = [\"#008066\", \"#e05959\", \"#5f8dd3\"]\n",
    "fig, (ax1) = plt.subplots(1, 1 , figsize=(5 , 5), )\n",
    "plot_panelhi(ax1, nofaims_prot, cv48_prot, cv58_prot)"
   ]
  },
  {
   "cell_type": "code",
   "execution_count": 25,
   "id": "5302f835-6c0c-4b18-8835-bc4f9bb4ada9",
   "metadata": {},
   "outputs": [
    {
     "data": {
      "image/png": "[encoded data removed]",
      "text/plain": [
       "<Figure size 360x216 with 2 Axes>"
      ]
     },
     "metadata": {
      "needs_background": "light"
     },
     "output_type": "display_data"
    }
   ],
   "source": [
    "fig, (ax1, ax2) = plt.subplots(1, 2 , figsize=(5, 3), )\n",
    "# nofaims_prot_abund\tcv48_prot_abund\tnofaims_pep_abund\tcv48_pep_abund\n",
    "plot_paneld(ax1, data_abund, \"nofaims_prot_abund\", \"cv48_prot_abund\", \"PG Rank\")\n",
    "plot_panele(ax2, data_abund, \"nofaims_prot_abund\", \"cv48_prot_abund\")\n"
   ]
  },
  {
   "cell_type": "code",
   "execution_count": 26,
   "id": "50d3e12d-e4c6-446d-a9c2-9c4f4d4dcfc0",
   "metadata": {},
   "outputs": [
    {
     "data": {
      "image/png": "[encoded data removed]",
      "text/plain": [
       "<Figure size 360x216 with 2 Axes>"
      ]
     },
     "metadata": {
      "needs_background": "light"
     },
     "output_type": "display_data"
    }
   ],
   "source": [
    "fig, (ax1, ax2) = plt.subplots(1, 2 , figsize=(5, 3), )\n",
    "# nofaims_prot_abund\tcv48_prot_abund\tnofaims_pep_abund\tcv48_pep_abund\n",
    "plot_paneld(ax1, data_abund, \"nofaims_pep_abund\", \"cv48_pep_abund\", \"Precursor rank\")\n",
    "plot_panele(ax2, data_abund, \"nofaims_pep_abund\", \"cv48_pep_abund\")"
   ]
  }
 ],
 "metadata": {
  "kernelspec": {
   "display_name": "Python 3",
   "language": "python",
   "name": "python3"
  },
  "language_info": {
   "codemirror_mode": {
    "name": "ipython",
    "version": 3
   },
   "file_extension": ".py",
   "mimetype": "text/x-python",
   "name": "python",
   "nbconvert_exporter": "python",
   "pygments_lexer": "ipython3",
   "version": "3.9.12"
  }
 },
 "nbformat": 4,
 "nbformat_minor": 5
}
