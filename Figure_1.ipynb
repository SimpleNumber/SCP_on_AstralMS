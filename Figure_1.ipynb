{
 "cells": [
  {
   "cell_type": "code",
   "execution_count": 1,
   "id": "fe867ffb-25f3-42f5-b9a4-588b0d18f2c6",
   "metadata": {},
   "outputs": [],
   "source": [
    "import pandas as pd\n",
    "import os\n",
    "from matplotlib import pylab as plt\n",
    "import numpy as np\n",
    "from pyteomics import mzml, fasta, parser\n",
    "from matplotlib_venn import venn2, venn3\n",
    "from matplotlib.collections import PatchCollection\n",
    "import matplotlib.patches as mpatches"
   ]
  },
  {
   "cell_type": "code",
   "execution_count": 2,
   "id": "740fea80-2f17-4810-8a69-8b2867328a61",
   "metadata": {},
   "outputs": [],
   "source": [
    "# plt.rcParams['font.size'] = 8\n",
    "dot_size = 10\n",
    "font_on_figure = 8\n",
    "plt.rcParams.update({'mathtext.default':  'regular' })"
   ]
  },
  {
   "cell_type": "code",
   "execution_count": 3,
   "id": "95171097-e89a-4fbd-abc4-fd91bf36162a",
   "metadata": {},
   "outputs": [],
   "source": [
    "# define an object that will be used by the legend\n",
    "class MulticolorPatch(object):\n",
    "    def __init__(self, colors):\n",
    "        self.colors = colors\n",
    "        \n",
    "# define a handler for the MulticolorPatch object\n",
    "class MulticolorPatchHandler(object):\n",
    "    def legend_artist(self, legend, orig_handle, fontsize, handlebox):\n",
    "        width, height = handlebox.width, handlebox.height\n",
    "        patches = []\n",
    "        for i, c in enumerate(orig_handle.colors):\n",
    "            patches.append(plt.Rectangle([width/len(orig_handle.colors) * i - handlebox.xdescent, \n",
    "                                          -handlebox.ydescent],\n",
    "                           width / len(orig_handle.colors),\n",
    "                           height, \n",
    "                           facecolor=c, \n",
    "                           edgecolor='black'))\n",
    "\n",
    "        patch = PatchCollection(patches, match_original=True)\n",
    "\n",
    "        handlebox.add_artist(patch)\n",
    "        return patch"
   ]
  },
  {
   "cell_type": "markdown",
   "id": "9bae8ea6-21a2-4928-810b-969f3a1349c5",
   "metadata": {
    "tags": []
   },
   "source": [
    "## Functions"
   ]
  },
  {
   "cell_type": "code",
   "execution_count": 4,
   "id": "e7b8dd14-001e-4e99-adfb-6f71fe6adf71",
   "metadata": {},
   "outputs": [],
   "source": [
    "def get_spectronaut_res(work_dir, inj=None, analysis=None, method=None, sample=None):\n",
    "    out = []\n",
    "    for f in os.listdir(work_dir):\n",
    "        data = {}\n",
    "        df = pd.read_table(os.path.join(work_dir, f), low_memory=False)\n",
    "        df.index = df[\"Parameter\"]\n",
    "        df = df[\"Value\"].to_dict()\n",
    "        data[\"file\"] = f.split(\".\")[0]\n",
    "        data[\"LC, min\"] = float(df[\"Gradient Length [min]\"])\n",
    "        data[\"Median FWHM, s\"] = round(float(df[\"Median FWHM\"].split(' ')[0])*60, 2)\n",
    "        data[\"Data Points per Peak (MS1)\"] = float(df[\"Data Points per Peak (MS1)\"].split(' ')[0])\n",
    "        data[\"Data Points per Peak (MS2)\"] = float(df[\"Data Points per Peak (MS2)\"].split(' ')[0])\n",
    "        data[\"Precursors\"] =  0 if df[\"Precursors\"].split(\" of\")[0].replace(\"\\xa0\", \"\")==\"NA\" else int(df[\"Precursors\"].split(\" of\")[0].replace(\"\\xa0\", \"\"))\n",
    "        data[\"Precursors_all\"] = int(df[\"Precursors\"].split(\" \")[2].replace(\"\\xa0\",\"\"))\n",
    "        data[\"PG\"] = 0 if df['Protein Groups'].split(\" of\")[0].replace(\"\\xa0\", \"\")==\"NA\" else int(df['Protein Groups'].split(\" of\")[0].replace(\"\\xa0\", \"\")) \n",
    "        data[\"PG_all\"] = int(df['Protein Groups'].split(\" of\")[1].replace(\"\\xa0\", \"\"))\n",
    "        data[\"Sample\"] = sample\n",
    "        data[\"injection\"] = inj\n",
    "        data[\"analysis\"] = analysis\n",
    "        data[\"method\"] = method\n",
    "        data[\"experiment\"] = work_dir.split(\"/\")[-3]\n",
    "        data[\"path\"] = df['Raw File Name']\n",
    "        out.append(pd.Series(data))\n",
    "    return  pd.concat(out, axis=1).T"
   ]
  },
  {
   "cell_type": "code",
   "execution_count": 5,
   "id": "93e67d57-2cae-467b-a714-f8c7d66e8b6e",
   "metadata": {},
   "outputs": [],
   "source": [
    "def add_cvs(work_dir):\n",
    "    \"\"\"Return CV for MS1 intensities peptide, prot lvl and MS2 int at peptide and prot lvl\"\"\" \n",
    "    df = pd.DataFrame({})\n",
    "    pep_file = [x for x in os.listdir(work_dir) if (\"Peptides_JB\" in x) and x.endswith(\".tsv\")]\n",
    "    df_pep = pd.read_table(os.path.join(work_dir, pep_file[0]), low_memory=False)\n",
    "    df_pep.replace(\"Filtered\", np.nan, inplace=True)\n",
    "    cols_pep_ms1 = [x for x in df_pep.columns if \"PEP.MS1Quantity\" in x]\n",
    "    cols_pep_ms2 = [x for x in df_pep.columns if \"PEP.MS2Quantity\" in x]\n",
    "    df_slice = df_pep.loc[:, cols_pep_ms1 + cols_pep_ms2].dropna()\n",
    "    cv_pep_ms1  = df_slice.loc[:, cols_pep_ms1].astype(float).std(axis=1) / df_slice.loc[:, cols_pep_ms1].astype(float).mean(axis=1) * 100\n",
    "    cv_pep_ms2  = df_slice.loc[:, cols_pep_ms2].astype(float).std(axis=1) / df_slice.loc[:, cols_pep_ms2].astype(float).mean(axis=1) * 100\n",
    "    cv_pep_ms1 = cv_pep_ms1.dropna().median()\n",
    "    cv_pep_ms2 = cv_pep_ms2.dropna().median()\n",
    "    \n",
    "    prot_file = [x for x in os.listdir(work_dir) if (\"Protein_JB\" in x) and x.endswith(\".tsv\")]\n",
    "    df_prot = pd.read_table(os.path.join(work_dir, prot_file[0]), low_memory=False)    \n",
    "    df_prot[\"id\"] = df_prot[\"PG.ProteinGroups\"].apply(lambda x: x.split(\";\")[0])\n",
    "    cols_prot_ms1 = [x for x in df_prot.columns if \".MS1Quantity\" in x]\n",
    "    cols_prot_ms2 = [x for x in df_prot.columns if \".MS2Quantity\" in x]\n",
    "    cv_prot_ms1  = df_prot.loc[:, cols_prot_ms1].std(axis=1) / df_prot.loc[:, cols_prot_ms1].mean(axis=1) * 100\n",
    "    cv_prot_ms2  = df_prot.loc[:, cols_prot_ms2].std(axis=1) / df_prot.loc[:, cols_prot_ms2].mean(axis=1) * 100\n",
    "    cv_prot_ms1 = cv_prot_ms1.dropna().median()\n",
    "    cv_prot_ms2 = cv_prot_ms2.dropna().median()\n",
    "    return cv_pep_ms1, cv_prot_ms1, cv_pep_ms2 , cv_prot_ms2"
   ]
  },
  {
   "cell_type": "code",
   "execution_count": 6,
   "id": "db3ea7b0-b102-4960-9d78-377b19ed1c86",
   "metadata": {},
   "outputs": [],
   "source": [
    "def get_experiment_statistics(df):\n",
    "    experiment = {}\n",
    "    experiment[\"experiment\"] = \"_\".join(df.experiment[0].split(\"_\")[2:])\n",
    "    experiment[\"LC\"] = df[\"LC, min\"][0]\n",
    "    experiment[\"Sample\"] = df.Sample[0]\n",
    "    experiment[\"injection\"] = df.injection[0]\n",
    "    experiment[\"analysis\"] = df.analysis[0]\n",
    "    experiment[\"method\"] = df.method[0]\n",
    "    experiment[\"PG_mean\"] = df.PG.mean()\n",
    "    experiment[\"PG_std\"] = df.PG.std()\n",
    "    experiment[\"PG\"] = [list(df.PG)]\n",
    "    experiment[\"PG_all\"] = df.PG_all[0]\n",
    "    experiment[\"DPPP_MS1\"] = df[\"Data Points per Peak (MS1)\"][0]\n",
    "    experiment[\"DPPP_MS2\"] = df[\"Data Points per Peak (MS2)\"][0]\n",
    "    experiment[\"Precursors_mean\"] = df.Precursors.mean()\n",
    "    experiment[\"Precursors_std\"] = df.Precursors.std()\n",
    "    experiment[\"Precursors\"] = [list(df.Precursors)]\n",
    "    experiment[\"Precursors_all\"] = df.Precursors_all[0]\n",
    "    experiment[\"FWHM, s\"] = df[\"Median FWHM, s\"].mean()\n",
    "    experiment[\"folder\"] = df.experiment[0]\n",
    "    experiment[\"name\"] = \"\\n\".join([\"_\".join([df.Sample[0], df.injection[0]]), df.method[0], df.analysis[0]])  \n",
    "    experiment[\"short_name\"] =  \"_\".join([df.injection[0], df.analysis[0]])\n",
    "    return pd.DataFrame(experiment)"
   ]
  },
  {
   "cell_type": "code",
   "execution_count": 7,
   "id": "f5adb8d5-3473-4362-86a2-9018aa0e612f",
   "metadata": {},
   "outputs": [],
   "source": [
    "def get_param_table(data, x_param, y_param, inj=\"any\"):\n",
    "    x_ticks = sorted(data[x_param].unique())\n",
    "    df = pd.DataFrame(index=x_ticks, columns=data.analysis.unique())\n",
    "    df = df.apply(lambda x: [])\n",
    "    data.index = data[x_param]\n",
    "    if inj == \"any\":\n",
    "        for c in data.analysis.unique():\n",
    "            df[c] = data[(data.analysis == c)][y_param]\n",
    "    else:\n",
    "        for c in data.analysis.unique():\n",
    "            df[c] = data[(data.analysis == c) & (data.injection == inj)][y_param]\n",
    "    return df"
   ]
  },
  {
   "cell_type": "code",
   "execution_count": 8,
   "id": "49ddaf40-ae60-4737-b793-54ea5891d1e8",
   "metadata": {},
   "outputs": [],
   "source": [
    "def get_FP(work_dir):\n",
    "    pep_file = [x for x in os.listdir(work_dir) if (\"Peptides_JB\" in x) and x.endswith(\".tsv\")]\n",
    "    df_pep = pd.read_table(os.path.join(work_dir, pep_file[0]), low_memory=False)\n",
    "    cols_pep = [x for x in df_pep.columns if \"PEP.MS1Quantity\" in x]\n",
    "    pep_fake = list(df_pep[df_pep[\"PG.ProteinGroups\"].apply(lambda x: \"JB_FAKE\" in x)].loc[:,cols_pep].count())\n",
    "    sum_pep_fake = df_pep[df_pep[\"PG.ProteinGroups\"].apply(lambda x: \"JB_FAKE\" in x)].shape[0]\n",
    "    prot_file = [x for x in os.listdir(work_dir) if (\"Protein_JB\" in x) and x.endswith(\".tsv\")]\n",
    "    df_prot = pd.read_table(os.path.join(work_dir, prot_file[0]), low_memory=False)    \n",
    "    cols= [x for x in df_prot.columns if \"PG.Quantity\" in x]\n",
    "    prot_fake = list(df_prot[df_prot[\"PG.ProteinGroups\"].apply(lambda x: \"JB_FAKE\" in x)].loc[:,cols].count())\n",
    "    sum_prot_fake = df_prot[df_prot[\"PG.ProteinGroups\"].apply(lambda x: \"JB_FAKE\" in x)].shape[0]\n",
    "    return prot_fake, pep_fake, sum_prot_fake, sum_pep_fake, df_prot.shape[0], len(set(df_pep[\"EG.PrecursorId\"]))"
   ]
  },
  {
   "cell_type": "code",
   "execution_count": 9,
   "id": "5b954c9e-f78a-4d3a-ae83-d24076bb824b",
   "metadata": {},
   "outputs": [],
   "source": [
    "def get_FP_celegants(work_dir):\n",
    "    pep_file = [x for x in os.listdir(work_dir) if (\"Peptides_JB\" in x) and x.endswith(\".tsv\")]\n",
    "    df_pep = pd.read_table(os.path.join(work_dir, pep_file[0]), low_memory=False)\n",
    "    cols_pep = [x for x in df_pep.columns if \"PEP.MS1Quantity\" in x]\n",
    "    df_pep[\"pep_fake\"] = df_pep[\"PG.ProteinGroups\"].apply(lambda x: x.split(\";\")[0] in protid_CElegans)\n",
    "    pep_fake = list(df_pep[df_pep[\"pep_fake\"] == True].loc[:,cols_pep].count())\n",
    "    sum_pep_fake = df_pep[df_pep[\"pep_fake\"] == True].shape[0]\n",
    "    prot_file = [x for x in os.listdir(work_dir) if (\"Protein_JB\" in x) and x.endswith(\".tsv\")]\n",
    "    df_prot = pd.read_table(os.path.join(work_dir, prot_file[0]), low_memory=False)    \n",
    "    cols = [x for x in df_prot.columns if \"PG.Quantity\" in x]\n",
    "    df_prot[\"prot_fake\"] = df_prot[\"PG.ProteinGroups\"].apply(lambda x: x.split(\";\")[0] in protid_CElegans)\n",
    "    prot_fake = list(df_prot[df_prot[\"prot_fake\"] == True].loc[:,cols].count())\n",
    "    sum_prot_fake = df_prot[df_prot[\"prot_fake\"]==True].shape[0]\n",
    "    return prot_fake, pep_fake, sum_prot_fake, sum_pep_fake, df_prot.shape[0], len(set(df_pep[\"EG.PrecursorId\"]))"
   ]
  },
  {
   "cell_type": "code",
   "execution_count": 10,
   "id": "a480dd7f-7a79-4a4b-a3a5-5294bf60ee54",
   "metadata": {},
   "outputs": [],
   "source": [
    "def get_experiment_statistics_fdr(df):\n",
    "    experiment = {}\n",
    "    experiment[\"experiment\"] = df.experiment[0][16:]\n",
    "    experiment[\"LC\"] = float(df[\"LC, min\"][0])\n",
    "    experiment[\"Sample\"] = df.Sample[0]\n",
    "    experiment[\"injection\"] = df.injection[0]\n",
    "    experiment[\"analysis\"] = df.analysis[0]\n",
    "    experiment[\"method\"] = df.method[0]\n",
    "    experiment[\"PG_mean\"] = df.PG.mean()\n",
    "    experiment[\"PG_std\"] = df.PG.std()\n",
    "    experiment[\"Precursors_mean\"] = df.Precursors.mean()\n",
    "    experiment[\"Precursors_std\"] = df.Precursors.std()\n",
    "    experiment[\"name\"] = \"\\n\".join([\"_\".join([df.Sample[0], df.injection[0]]), df.method[0], df.analysis[0]])  \n",
    "    experiment[\"PG_fake_mean\"] = df[\"prot_fake\"].mean()\n",
    "    experiment[\"PG_fake_std\"] = df[\"prot_fake\"].std()\n",
    "    experiment[\"sum_PG_fake\"] = df[\"sum_prot_fake\"].mean()\n",
    "    experiment[\"Precursor_fake_mean\"] = df[\"Precursor_fake\"].mean()\n",
    "    experiment[\"Precursor_fake_std\"] = df[\"Precursor_fake\"].std()\n",
    "    experiment[\"sum_Precursor_fake\"] = df[\"sum_Precursor_fake\"].mean()\n",
    "    experiment[\"sum_Precursor\"] = df[\"sum_Precursor\"].mean()\n",
    "    experiment[\"sum_PG\"] = df[\"sum_prot\"].mean()\n",
    "    return pd.DataFrame(experiment, index=[1])"
   ]
  },
  {
   "cell_type": "markdown",
   "id": "d6eb65c5-5964-4ee2-920e-a752c2ffc9d1",
   "metadata": {
    "jp-MarkdownHeadingCollapsed": true,
    "tags": []
   },
   "source": [
    "## Data loading"
   ]
  },
  {
   "cell_type": "code",
   "execution_count": null,
   "id": "60d78b9d-75de-4099-af2c-d2d11b833864",
   "metadata": {},
   "outputs": [],
   "source": [
    "all_data = []"
   ]
  },
  {
   "cell_type": "markdown",
   "id": "69a4530d-6f06-40d9-896e-2ecbde6d1587",
   "metadata": {
    "tags": []
   },
   "source": [
    "### HeLa"
   ]
  },
  {
   "cell_type": "code",
   "execution_count": null,
   "id": "1c1bfb13-8f47-45a3-96b4-46d868c0090b",
   "metadata": {},
   "outputs": [],
   "source": [
    "working_dir = \"/groups/protechhub/user/Manuel/PRIDE_Uploads/21_AstralPaper/HeLa_250pg_30-80SPD/20240209_104216_JB_HeLa250pg_240k_20Th_40ms_30SPD_MBR/\"\n",
    "df = get_spectronaut_res(os.path.join(working_dir, \"RunSummaries/\"), \n",
    "                         inj=\"250pg\", \n",
    "                         analysis='MBR',\n",
    "                         method=\"20Th_40ms_30SPD\", \n",
    "                         sample=\"HeLa\")\n",
    "df_line = get_experiment_statistics(df)\n",
    "cvs = add_cvs(working_dir)\n",
    "df_line[[\"pep_ms1_cv\", \"prot_ms1_cv\", \"pep_ms2_cv\", \"prot_ms2_cv\"] ] = cvs\n",
    "all_data.append(df_line)\n",
    "\n",
    "# [pep_ms1, prot_ms1, pep_ms2 ,prot_ms2\n",
    "working_dir = \"/groups/protechhub/user/Manuel/PRIDE_Uploads/21_AstralPaper/HeLa_250pg_30-80SPD/20240209_103434_JB_HeLa250pg_240k_20Th_40ms_30SPD_noMBR/\"\n",
    "df = get_spectronaut_res(os.path.join(working_dir, \"RunSummaries/\"), \n",
    "                         inj=\"250pg\", \n",
    "                         analysis='noMBR',\n",
    "                         method=\"20Th_40ms_30SPD\", \n",
    "                         sample=\"HeLa\")\n",
    "df_line = get_experiment_statistics(df)\n",
    "cvs = add_cvs(working_dir)\n",
    "df_line[[\"pep_ms1_cv\", \"prot_ms1_cv\", \"pep_ms2_cv\", \"prot_ms2_cv\"] ] = cvs\n",
    "all_data.append(df_line)\n",
    "\n",
    "working_dir = \"/groups/protechhub/user/Manuel/PRIDE_Uploads/21_AstralPaper/HeLa_250pg_30-80SPD/20240209_104251_JB_HeLa250pg_240k_20Th_40ms_40SPD_MBR/\"\n",
    "df = get_spectronaut_res(os.path.join(working_dir, \"RunSummaries/\"), \n",
    "                         inj=\"250pg\", \n",
    "                         analysis='MBR',\n",
    "                         method=\"20Th_40ms_40SPD\", \n",
    "                         sample=\"HeLa\")\n",
    "df_line = get_experiment_statistics(df)\n",
    "cvs = add_cvs(working_dir)\n",
    "df_line[[\"pep_ms1_cv\", \"prot_ms1_cv\", \"pep_ms2_cv\", \"prot_ms2_cv\"] ] = cvs\n",
    "all_data.append(df_line)\n",
    "\n",
    "working_dir = \"/groups/protechhub/user/Manuel/PRIDE_Uploads/21_AstralPaper/HeLa_250pg_30-80SPD/20240209_103517_JB_HeLa250pg_240k_20Th_40ms_40SPD_noMBR/\"\n",
    "df = get_spectronaut_res(os.path.join(working_dir, \"RunSummaries/\"), \n",
    "                         inj=\"250pg\", \n",
    "                         analysis='noMBR',\n",
    "                         method=\"20Th_40ms_40SPD\", \n",
    "                         sample=\"HeLa\")\n",
    "df_line = get_experiment_statistics(df)\n",
    "cvs = add_cvs(working_dir)\n",
    "df_line[[\"pep_ms1_cv\", \"prot_ms1_cv\", \"pep_ms2_cv\", \"prot_ms2_cv\"] ] = cvs\n",
    "all_data.append(df_line)\n",
    "\n",
    "working_dir = \"/groups/protechhub/user/Manuel/PRIDE_Uploads/21_AstralPaper/HeLa_250pg_30-80SPD/20240209_103639_JB_HeLa250pg_240k_20Th_40ms_50SPD_noMBR/\"\n",
    "df = get_spectronaut_res(os.path.join(working_dir, \"RunSummaries/\"), \n",
    "                         inj=\"250pg\", \n",
    "                         analysis='noMBR',\n",
    "                         method=\"20Th_40ms_50SPD\", \n",
    "                         sample=\"HeLa\")\n",
    "df_line = get_experiment_statistics(df)\n",
    "cvs = add_cvs(working_dir)\n",
    "df_line[[\"pep_ms1_cv\", \"prot_ms1_cv\", \"pep_ms2_cv\", \"prot_ms2_cv\"] ] = cvs\n",
    "all_data.append(df_line)\n",
    "\n",
    "working_dir = \"/groups/protechhub/user/Manuel/PRIDE_Uploads/21_AstralPaper/HeLa_250pg_30-80SPD/20240209_104330_JB_HeLa250pg_240k_20Th_40ms_50SPD_MBR/\"\n",
    "df = get_spectronaut_res(os.path.join(working_dir, \"RunSummaries/\"), \n",
    "                         inj=\"250pg\", \n",
    "                         analysis='MBR',\n",
    "                         method=\"20Th_40ms_50SPD\", \n",
    "                         sample=\"HeLa\")\n",
    "df_line = get_experiment_statistics(df)\n",
    "cvs = add_cvs(working_dir)\n",
    "df_line[[\"pep_ms1_cv\", \"prot_ms1_cv\", \"pep_ms2_cv\", \"prot_ms2_cv\"] ] = cvs\n",
    "all_data.append(df_line)\n",
    "\n",
    "working_dir = \"/groups/protechhub/user/Manuel/PRIDE_Uploads/21_AstralPaper/HeLa_250pg_30-80SPD/20240209_104418_JB_HeLa250pg_240k_20Th_40ms_60SPD_MBR/\"\n",
    "df = get_spectronaut_res(os.path.join(working_dir, \"RunSummaries/\"), \n",
    "                         inj=\"250pg\", \n",
    "                         analysis='MBR',\n",
    "                         method=\"20Th_40ms_60SPD\", \n",
    "                         sample=\"HeLa\")\n",
    "df_line = get_experiment_statistics(df)\n",
    "cvs = add_cvs(working_dir)\n",
    "df_line[[\"pep_ms1_cv\", \"prot_ms1_cv\", \"pep_ms2_cv\", \"prot_ms2_cv\"] ] = cvs\n",
    "all_data.append(df_line)\n",
    "\n",
    "working_dir = \"/groups/protechhub/user/Manuel/PRIDE_Uploads/21_AstralPaper/HeLa_250pg_30-80SPD/20240209_103759_JB_HeLa250pg_240k_20Th_40ms_60SPD_noMBR/\"\n",
    "df = get_spectronaut_res(os.path.join(working_dir, \"RunSummaries/\"), \n",
    "                         inj=\"250pg\", \n",
    "                         analysis='noMBR',\n",
    "                         method=\"20Th_40ms_60SPD\", \n",
    "                         sample=\"HeLa\")\n",
    "df_line = get_experiment_statistics(df)\n",
    "cvs = add_cvs(working_dir)\n",
    "df_line[[\"pep_ms1_cv\", \"prot_ms1_cv\", \"pep_ms2_cv\", \"prot_ms2_cv\"] ] = cvs\n",
    "all_data.append(df_line)\n",
    "\n",
    "working_dir = \"/groups/protechhub/user/Manuel/PRIDE_Uploads/21_AstralPaper/HeLa_250pg_30-80SPD/20240209_104527_JB_HeLa250pg_240k_20Th_40ms_80SPD_MBR/\"\n",
    "df = get_spectronaut_res(os.path.join(working_dir, \"RunSummaries/\"), \n",
    "                         inj=\"250pg\", \n",
    "                         analysis='MBR',\n",
    "                         method=\"20Th_40ms_80SPD\", \n",
    "                         sample=\"HeLa\")\n",
    "df_line = get_experiment_statistics(df)\n",
    "cvs = add_cvs(working_dir)\n",
    "df_line[[\"pep_ms1_cv\", \"prot_ms1_cv\", \"pep_ms2_cv\", \"prot_ms2_cv\"] ] = cvs\n",
    "all_data.append(df_line)\n",
    "\n",
    "working_dir = \"/groups/protechhub/user/Manuel/PRIDE_Uploads/21_AstralPaper/HeLa_250pg_30-80SPD/20240209_104133_JB_HeLa250pg_240k_20Th_40ms_80SPD_noMBR/\"\n",
    "df = get_spectronaut_res(os.path.join(working_dir, \"RunSummaries/\"), \n",
    "                         inj=\"250pg\", \n",
    "                         analysis='noMBR',\n",
    "                         method=\"20Th_40ms_80SPD\", \n",
    "                         sample=\"HeLa\")\n",
    "df_line = get_experiment_statistics(df)\n",
    "cvs = add_cvs(working_dir)\n",
    "df_line[[\"pep_ms1_cv\", \"prot_ms1_cv\", \"pep_ms2_cv\", \"prot_ms2_cv\"] ] = cvs\n",
    "all_data.append(df_line)\n",
    "\n",
    "working_dir = \"/groups/protechhub/user/Manuel/PRIDE_Uploads/21_AstralPaper/HeLa_250pg_30-80SPD/20240209_134309_JB_HeLa250pg_240k_20Th_40ms_50SPD_L10ng/\"\n",
    "df = get_spectronaut_res(os.path.join(working_dir, \"RunSummaries/\"), \n",
    "                         inj=\"250pg\", \n",
    "                         analysis='L10ng',\n",
    "                         method=\"20Th_40ms_50SPD\", \n",
    "                         sample=\"HeLa\")\n",
    "df_line = get_experiment_statistics(df)\n",
    "cvs = add_cvs(working_dir)\n",
    "df_line[[\"pep_ms1_cv\", \"prot_ms1_cv\", \"pep_ms2_cv\", \"prot_ms2_cv\"] ] = cvs\n",
    "all_data.append(df_line)\n"
   ]
  },
  {
   "cell_type": "markdown",
   "id": "c043ede1-5103-4ae9-8087-8dabd1059b38",
   "metadata": {
    "tags": []
   },
   "source": [
    "### HeLA OS"
   ]
  },
  {
   "cell_type": "code",
   "execution_count": null,
   "id": "c122d219-afda-469e-ba97-b87d1a0ec716",
   "metadata": {},
   "outputs": [],
   "source": [
    "working_dir = \"/groups/protechhub/user/JuliaBubis/article/revision/20240722_131326_JB_250pgHeLa_50SPD_SO_MBR/\"\n",
    "df = get_spectronaut_res(os.path.join(working_dir, \"RunSummaries/\"), \n",
    "                         inj=\"250pg\", \n",
    "                         analysis='MBR_OS',\n",
    "                         method=\"20Th_40ms_50SPD\", \n",
    "                         sample=\"HeLa\")\n",
    "df_line = get_experiment_statistics(df)\n",
    "cvs = add_cvs(working_dir)\n",
    "df_line[[\"pep_ms1_cv\", \"prot_ms1_cv\", \"pep_ms2_cv\", \"prot_ms2_cv\"] ] = cvs\n",
    "all_data.append(df_line)\n",
    "\n",
    "working_dir = \"/groups/protechhub/user/JuliaBubis/article/revision/20240723_104247_JB_250pgHeLa_libraryOS/\"\n",
    "df = get_spectronaut_res(os.path.join(working_dir, \"RunSummaries/\"), \n",
    "                         inj=\"250pg\", \n",
    "                         analysis='L10ng_OS',\n",
    "                         method=\"20Th_40ms_50SPD\", \n",
    "                         sample=\"HeLa\")\n",
    "df_line = get_experiment_statistics(df)\n",
    "# cvs = add_cvs(working_dir)\n",
    "df_line[[\"pep_ms1_cv\", \"prot_ms1_cv\", \"pep_ms2_cv\", \"prot_ms2_cv\"] ] = [0]*4#cvs\n",
    "all_data.append(df_line)"
   ]
  },
  {
   "cell_type": "code",
   "execution_count": null,
   "id": "9b7f8994-4621-4a22-803c-1b9584f36026",
   "metadata": {},
   "outputs": [],
   "source": [
    "# HeLA library\n",
    "# PG\tPrec\n",
    "# 8189\t66991\n",
    "# 8066\t65125\n",
    "# 8173\t68019\n",
    "LS_HeLa = pd.DataFrame({\"experiment\": \"JB_HeLa10ng_240k_5Th_10ms_50SPD_MBR\", \"PG\":[[8189, 8066, 8173]], \"Precursors\": [[66991, 65125, 68019]]})\n",
    "LS_HeLa.index = LS_HeLa.experiment\n",
    "LS_HeLa[\"PG_mean\"] = LS_HeLa.PG.apply(np.mean)\n",
    "LS_HeLa[\"PG_std\"] = LS_HeLa.PG.apply(np.std)\n",
    "LS_HeLa[\"Precursors_mean\"] = LS_HeLa.Precursors.apply(np.mean)\n",
    "LS_HeLa[\"Precursors_std\"] = LS_HeLa.Precursors.apply(np.std)\n",
    "LS_HeLa[\"PG_all\"] = 8428\n",
    "LS_HeLa"
   ]
  },
  {
   "cell_type": "markdown",
   "id": "8203f903-5a1a-4221-982c-4b6f1fd165c6",
   "metadata": {
    "tags": []
   },
   "source": [
    "### K562"
   ]
  },
  {
   "cell_type": "code",
   "execution_count": null,
   "id": "63e0ee6f-cc8c-4793-8c58-d246e6cb7786",
   "metadata": {},
   "outputs": [],
   "source": [
    "# K562 library\n",
    "# PG\tPrec\n",
    "# 7452\t61117\n",
    "# 7465\t62985\n",
    "# 7451\t62650\n",
    "LS_k562 = pd.DataFrame({\"experiment\": \"MM_Astral_paper_K562_10ng_50SPD\", \"PG\":[[7452, 7465, 7451]], \"Precursors\": [[61117, 62985, 62650]]})\n",
    "LS_k562.index = LS_k562.experiment\n",
    "LS_k562[\"PG_mean\"] = LS_k562.PG.apply(np.mean)\n",
    "LS_k562[\"PG_std\"] = LS_k562.PG.apply(np.std)\n",
    "LS_k562[\"Precursors_mean\"] = LS_k562.Precursors.apply(np.mean)\n",
    "LS_k562[\"Precursors_std\"] = LS_k562.Precursors.apply(np.std)\n",
    "LS_k562[\"PG_all\"] = 7841\n",
    "LS_k562"
   ]
  },
  {
   "cell_type": "markdown",
   "id": "674ffeca-d79c-4ccd-b23a-0e6d76172d42",
   "metadata": {
    "tags": []
   },
   "source": [
    "### K562 OS"
   ]
  },
  {
   "cell_type": "code",
   "execution_count": null,
   "id": "aa456029-e585-4a86-b234-9831285f53b4",
   "metadata": {},
   "outputs": [],
   "source": [
    "working_dir = \"/groups/protechhub/user/JuliaBubis/article/revision/20240912_092018_JB_250pgK562_50SPD_MBR_OS/\"\n",
    "df = get_spectronaut_res(os.path.join(working_dir, \"RunSummaries/\"), \n",
    "                         inj=\"250pg\", \n",
    "                         analysis='MBR_OS',\n",
    "                         method=\"20Th_40ms_50SPD\", \n",
    "                         sample=\"K562\")\n",
    "df_line = get_experiment_statistics(df)\n",
    "cvs = add_cvs(working_dir)\n",
    "df_line[[\"pep_ms1_cv\", \"prot_ms1_cv\", \"pep_ms2_cv\", \"prot_ms2_cv\"] ] = cvs\n",
    "all_data.append(df_line)\n",
    "\n",
    "working_dir = \"/groups/protechhub/user/JuliaBubis/article/revision/20240912_092609_JB_250pgK562_50SPD_L10ng_OS/\"\n",
    "df = get_spectronaut_res(os.path.join(working_dir, \"RunSummaries/\"), \n",
    "                         inj=\"250pg\", \n",
    "                         analysis='L10ng_OS',\n",
    "                         method=\"20Th_40ms_50SPD\", \n",
    "                         sample=\"K562\")\n",
    "df_line = get_experiment_statistics(df)\n",
    "# cvs = add_cvs(working_dir)\n",
    "df_line[[\"pep_ms1_cv\", \"prot_ms1_cv\", \"pep_ms2_cv\", \"prot_ms2_cv\"] ] = [0]*4#cvs\n",
    "all_data.append(df_line)"
   ]
  },
  {
   "cell_type": "code",
   "execution_count": null,
   "id": "4d3596af-5ebf-48fd-81ec-2552ae9f13f0",
   "metadata": {},
   "outputs": [],
   "source": []
  },
  {
   "cell_type": "code",
   "execution_count": null,
   "id": "976fe367-e81d-4b08-b460-45331df5fee6",
   "metadata": {},
   "outputs": [],
   "source": [
    "working_dir = \"/groups/protechhub/user/Manuel/PRIDE_Uploads/21_AstralPaper/K562_250pg_30-80SPD/20240212_125153_MM_Astral_paper_K562_30SPD_noMBR/\"\n",
    "df = get_spectronaut_res(os.path.join(working_dir, \"RunSummaries/\"), \n",
    "                         inj=\"250pg\", \n",
    "                         analysis='noMBR',\n",
    "                         method=\"20Th_40ms_30SPD\", \n",
    "                         sample=\"K562\")\n",
    "df_line = get_experiment_statistics(df)\n",
    "cvs = add_cvs(working_dir)\n",
    "df_line[[\"pep_ms1_cv\", \"prot_ms1_cv\", \"pep_ms2_cv\", \"prot_ms2_cv\"] ] = cvs\n",
    "all_data.append(df_line)\n",
    "\n",
    "working_dir = \"/groups/protechhub/user/Manuel/PRIDE_Uploads/21_AstralPaper/K562_250pg_30-80SPD/20240212_125236_MM_Astral_paper_K562_40SPD_noMBR/\"\n",
    "df = get_spectronaut_res(os.path.join(working_dir, \"RunSummaries/\"), \n",
    "                         inj=\"250pg\", \n",
    "                         analysis='noMBR',\n",
    "                         method=\"20Th_40ms_40SPD\", \n",
    "                         sample=\"K562\")\n",
    "df_line = get_experiment_statistics(df)\n",
    "cvs = add_cvs(working_dir)\n",
    "df_line[[\"pep_ms1_cv\", \"prot_ms1_cv\", \"pep_ms2_cv\", \"prot_ms2_cv\"] ] = cvs\n",
    "all_data.append(df_line)\n",
    "\n",
    "working_dir = \"/groups/protechhub/user/Manuel/PRIDE_Uploads/21_AstralPaper/K562_250pg_30-80SPD/20240212_125315_MM_Astral_paper_K562_50SPD_noMBR/\"\n",
    "df = get_spectronaut_res(os.path.join(working_dir, \"RunSummaries/\"), \n",
    "                         inj=\"250pg\", \n",
    "                         analysis='noMBR',\n",
    "                         method=\"20Th_40ms_50SPD\", \n",
    "                         sample=\"K562\")\n",
    "df_line = get_experiment_statistics(df)\n",
    "cvs = add_cvs(working_dir)\n",
    "df_line[[\"pep_ms1_cv\", \"prot_ms1_cv\", \"pep_ms2_cv\", \"prot_ms2_cv\"] ] = cvs\n",
    "all_data.append(df_line)\n",
    "\n",
    "working_dir = \"/groups/protechhub/user/Manuel/PRIDE_Uploads/21_AstralPaper/K562_250pg_30-80SPD/20240212_125404_MM_Astral_paper_K562_60SPD_noMBR/\"\n",
    "df = get_spectronaut_res(os.path.join(working_dir, \"RunSummaries/\"), \n",
    "                         inj=\"250pg\", \n",
    "                         analysis='noMBR',\n",
    "                         method=\"20Th_40ms_60SPD\", \n",
    "                         sample=\"K562\")\n",
    "df_line = get_experiment_statistics(df)\n",
    "cvs = add_cvs(working_dir)\n",
    "df_line[[\"pep_ms1_cv\", \"prot_ms1_cv\", \"pep_ms2_cv\", \"prot_ms2_cv\"] ] = cvs\n",
    "all_data.append(df_line)\n",
    "\n",
    "working_dir = \"/groups/protechhub/user/Manuel/PRIDE_Uploads/21_AstralPaper/K562_250pg_30-80SPD/20240212_125501_MM_Astral_paper_K562_80SPD_noMBR/\"\n",
    "df = get_spectronaut_res(os.path.join(working_dir, \"RunSummaries/\"), \n",
    "                         inj=\"250pg\", \n",
    "                         analysis='noMBR',\n",
    "                         method=\"20Th_40ms_80SPD\", \n",
    "                         sample=\"K562\")\n",
    "df_line = get_experiment_statistics(df)\n",
    "cvs = add_cvs(working_dir)\n",
    "df_line[[\"pep_ms1_cv\", \"prot_ms1_cv\", \"pep_ms2_cv\", \"prot_ms2_cv\"] ] = cvs\n",
    "all_data.append(df_line)\n",
    "\n",
    "working_dir = \"/groups/protechhub/user/Manuel/PRIDE_Uploads/21_AstralPaper/K562_250pg_30-80SPD/20240209_121859_MM_Astral_paper_K562_30SPD_MBR/\"\n",
    "df = get_spectronaut_res(os.path.join(working_dir, \"RunSummaries/\"), \n",
    "                         inj=\"250pg\", \n",
    "                         analysis='MBR',\n",
    "                         method=\"20Th_40ms_30SPD\", \n",
    "                         sample=\"K562\")\n",
    "df_line = get_experiment_statistics(df)\n",
    "cvs = add_cvs(working_dir)\n",
    "df_line[[\"pep_ms1_cv\", \"prot_ms1_cv\", \"pep_ms2_cv\", \"prot_ms2_cv\"] ] = cvs\n",
    "all_data.append(df_line)\n",
    "\n",
    "working_dir = \"/groups/protechhub/user/Manuel/PRIDE_Uploads/21_AstralPaper/K562_250pg_30-80SPD/20240209_122242_MM_Astral_paper_K562_40SPD_MBR/\"\n",
    "df = get_spectronaut_res(os.path.join(working_dir, \"RunSummaries/\"), \n",
    "                         inj=\"250pg\", \n",
    "                         analysis='MBR',\n",
    "                         method=\"20Th_40ms_40SPD\", \n",
    "                         sample=\"K562\")\n",
    "df_line = get_experiment_statistics(df)\n",
    "cvs = add_cvs(working_dir)\n",
    "df_line[[\"pep_ms1_cv\", \"prot_ms1_cv\", \"pep_ms2_cv\", \"prot_ms2_cv\"] ] = cvs\n",
    "all_data.append(df_line)\n",
    "\n",
    "working_dir = \"/groups/protechhub/user/Manuel/PRIDE_Uploads/21_AstralPaper/K562_250pg_30-80SPD/20240209_122426_MM_Astral_paper_K562_50SPD_MBR/\"\n",
    "df = get_spectronaut_res(os.path.join(working_dir, \"RunSummaries/\"), \n",
    "                         inj=\"250pg\", \n",
    "                         analysis='MBR',\n",
    "                         method=\"20Th_40ms_50SPD\", \n",
    "                         sample=\"K562\")\n",
    "df_line = get_experiment_statistics(df)\n",
    "cvs = add_cvs(working_dir)\n",
    "df_line[[\"pep_ms1_cv\", \"prot_ms1_cv\", \"pep_ms2_cv\", \"prot_ms2_cv\"] ] = cvs\n",
    "all_data.append(df_line)\n",
    "\n",
    "working_dir = \"/groups/protechhub/user/Manuel/PRIDE_Uploads/21_AstralPaper/K562_250pg_30-80SPD/20240209_122504_MM_Astral_paper_K562_60SPD_MBR/\"\n",
    "df = get_spectronaut_res(os.path.join(working_dir, \"RunSummaries/\"), \n",
    "                         inj=\"250pg\", \n",
    "                         analysis='MBR',\n",
    "                         method=\"20Th_40ms_60SPD\", \n",
    "                         sample=\"K562\")\n",
    "df_line = get_experiment_statistics(df)\n",
    "cvs = add_cvs(working_dir)\n",
    "df_line[[\"pep_ms1_cv\", \"prot_ms1_cv\", \"pep_ms2_cv\", \"prot_ms2_cv\"] ] = cvs\n",
    "all_data.append(df_line)\n",
    "\n",
    "working_dir = \"/groups/protechhub/user/Manuel/PRIDE_Uploads/21_AstralPaper/K562_250pg_30-80SPD/20240209_122537_MM_Astral_paper_K562_80SPD_MBR/\"\n",
    "df = get_spectronaut_res(os.path.join(working_dir, \"RunSummaries/\"), \n",
    "                         inj=\"250pg\", \n",
    "                         analysis='MBR',\n",
    "                         method=\"20Th_40ms_80SPD\", \n",
    "                         sample=\"K562\")\n",
    "df_line = get_experiment_statistics(df)\n",
    "cvs = add_cvs(working_dir)\n",
    "df_line[[\"pep_ms1_cv\", \"prot_ms1_cv\", \"pep_ms2_cv\", \"prot_ms2_cv\"] ] = cvs\n",
    "all_data.append(df_line)\n",
    "\n",
    "working_dir = \"/groups/protechhub/user/Manuel/PRIDE_Uploads/21_AstralPaper/K562_250pg_30-80SPD/20240209_163135_MM_Astral_paper_K562_50SPD_library_search/\"\n",
    "df = get_spectronaut_res(os.path.join(working_dir, \"RunSummaries/\"), \n",
    "                         inj=\"250pg\", \n",
    "                         analysis='L10ng',\n",
    "                         method=\"20Th_40ms_50SPD\", \n",
    "                         sample=\"K562\")\n",
    "df_line = get_experiment_statistics(df)\n",
    "cvs = add_cvs(working_dir)\n",
    "df_line[[\"pep_ms1_cv\", \"prot_ms1_cv\", \"pep_ms2_cv\", \"prot_ms2_cv\"] ] = cvs\n",
    "all_data.append(df_line)"
   ]
  },
  {
   "cell_type": "markdown",
   "id": "bb770d60-9dcf-4fda-9052-d07a593dd48a",
   "metadata": {},
   "source": [
    "### end of loading"
   ]
  },
  {
   "cell_type": "code",
   "execution_count": null,
   "id": "d3ea9765-c38f-472d-8dcd-9f7949633e29",
   "metadata": {},
   "outputs": [],
   "source": [
    "data_all = pd.concat(all_data).fillna(0)\n",
    "data_all.index = data_all.experiment\n",
    "data_all[\"SPD\"] = data_all.method.apply(lambda x: x.split(\"_\")[2])"
   ]
  },
  {
   "cell_type": "code",
   "execution_count": null,
   "id": "83a8db23-d772-43eb-8de6-ceb19bb41684",
   "metadata": {},
   "outputs": [],
   "source": [
    "data_all  = pd.concat([data_all, LS_HeLa, LS_k562])"
   ]
  },
  {
   "cell_type": "code",
   "execution_count": null,
   "id": "6d220b38-1d07-41dc-93d3-cb632c37d6a9",
   "metadata": {},
   "outputs": [],
   "source": [
    "data_all.columns"
   ]
  },
  {
   "cell_type": "code",
   "execution_count": null,
   "id": "1284ff1f-bd4d-4930-9b8e-8984a9fa1ba7",
   "metadata": {},
   "outputs": [],
   "source": [
    "c = [\"method\", \"analysis\", \"Sample\",\\\n",
    "     \"experiment\", \"PG\", \"PG_mean\", \"Precursors\",\n",
    "     \"Precursors_mean\", \"prot_ms1_cv\", \"prot_ms2_cv\", 'DPPP_MS1', 'DPPP_MS2', 'FWHM, s']\n",
    "data_all.loc[:, c].to_csv(\"serialized_data/main_f1.csv\",sep=\"\\t\", index=False)"
   ]
  },
  {
   "cell_type": "code",
   "execution_count": null,
   "id": "adbc5cf4-ca35-425d-a64d-63f057949a55",
   "metadata": {},
   "outputs": [],
   "source": [
    "data_all.to_parquet(\"/users/iuliia.bubis/src/astral_paper/serialized_data/fig1/f1_panela_h.parquet\", index=False)\n",
    "data_all.to_csv(\"/users/iuliia.bubis/src/astral_paper/serialized_data/fig1/f1_panela_h.csv\", index=False)"
   ]
  },
  {
   "cell_type": "code",
   "execution_count": null,
   "id": "ec0b93b5-964b-4c79-9948-442f2492d08f",
   "metadata": {},
   "outputs": [],
   "source": [
    "data_all = pd.read_parquet(\"/users/iuliia.bubis/src/astral_paper/serialized_data/fig1/f1_panela_h.parquet\")\n",
    "data_all.index = data_all.experiment\n"
   ]
  },
  {
   "cell_type": "code",
   "execution_count": null,
   "id": "6dae04cf-b37c-4b1f-b9a2-8f7821f1988b",
   "metadata": {},
   "outputs": [],
   "source": [
    "# data_all.columns"
   ]
  },
  {
   "cell_type": "code",
   "execution_count": null,
   "id": "e6876313-7334-47c7-bf36-a7adec4134fd",
   "metadata": {},
   "outputs": [],
   "source": [
    "# data_all.loc[[],[\"PG_all\", \"Precursors_all\", \"PG_all_fake\"]]"
   ]
  },
  {
   "cell_type": "code",
   "execution_count": null,
   "id": "22c496ad-537a-4179-adff-3a81ec1c6f7d",
   "metadata": {},
   "outputs": [],
   "source": [
    "# data_all.columns"
   ]
  },
  {
   "cell_type": "markdown",
   "id": "ef810dca-0cb1-4927-a788-4f50c6708762",
   "metadata": {
    "tags": []
   },
   "source": [
    "### venn diagrams"
   ]
  },
  {
   "cell_type": "code",
   "execution_count": null,
   "id": "89be66ac-9956-4d38-b8d5-9bd60fcd640a",
   "metadata": {},
   "outputs": [],
   "source": [
    "target_fasta_peptides = []\n",
    "decoy_fasta_peptides = []\n",
    "celegants_peptides = []\n",
    "protid_CElegans = []\n",
    "with fasta.read(\"/groups/protechhub/user/JuliaBubis/article/fasta/JB_fake_HumanSwissprot2023Aug.fasta\") as f:\n",
    "    for n, s in f:\n",
    "        decoy_fasta_peptides += parser.cleave(s.replace(\"I\", \"L\"), rule=\"trypsin\", min_length=8, max_length=30)\n",
    "with fasta.read(\"/groups/protechhub/user/JuliaBubis/article/fasta/HumanSwissprot2023Aug.fasta\") as f:\n",
    "    for n, s in f:\n",
    "        target_fasta_peptides += parser.cleave(s.replace(\"I\", \"L\"), rule=\"trypsin\", min_length=8, max_length=30)\n",
    "with fasta.read(\"/groups/protechhub/user/JuliaBubis/article/fasta/Celegans_13062024.fasta\") as f:\n",
    "    for n, s in f:\n",
    "        protid_CElegans.append(n.split(\"|\")[1])\n",
    "        celegants_peptides +=  parser.cleave(s.replace(\"I\", \"L\"), rule=\"trypsin\", min_length=8, max_length=30)"
   ]
  },
  {
   "cell_type": "code",
   "execution_count": null,
   "id": "7e821299-618a-425b-a37a-f353f78e7a8d",
   "metadata": {},
   "outputs": [],
   "source": [
    "with open(\"serialized_data/fig1/f1_panelij_target_pep.txt\", \"w\") as f:\n",
    "    f.write(\"\\n\".join(target_fasta_peptides))\n",
    "with open(\"serialized_data/fig1/f1_paneli_shuffled_pep.txt\", \"w\") as f:\n",
    "    f.write(\"\\n\".join(decoy_fasta_peptides))\n",
    "with open(\"serialized_data/fig1/f1_panelj_celegants_pep.txt\", \"w\") as f:\n",
    "    f.write(\"\\n\".join(celegants_peptides))\n",
    "# with open(\"protid_CElegans.txt\", \"w\") as f:\n",
    "#     f.write(\"\\n\".join(protid_CElegans))"
   ]
  },
  {
   "cell_type": "code",
   "execution_count": null,
   "id": "658a44e0-37e5-45f5-bbd9-60ce0ea395ea",
   "metadata": {},
   "outputs": [],
   "source": []
  },
  {
   "cell_type": "markdown",
   "id": "4e2a7d4b-5896-4fbd-ad43-89e5789c00e6",
   "metadata": {
    "tags": []
   },
   "source": [
    "### FDR figure"
   ]
  },
  {
   "cell_type": "code",
   "execution_count": null,
   "id": "cc87cab7-900b-4e04-92b6-77190fc3090f",
   "metadata": {},
   "outputs": [],
   "source": [
    "all_data = []\n",
    "\n",
    "working_dir = \"/groups/protechhub/user/Manuel/PRIDE_Uploads/21_AstralPaper/FDR_control_runs/20240116_135431_JB_HeLa10ng_240k_5Th_10ms_50SPD_noMBR_fakeDB/\"\n",
    "df = get_spectronaut_res(os.path.join(working_dir, \"RunSummaries/\"), \n",
    "                         inj=\"10pg\", \n",
    "                         analysis='noMBR',\n",
    "                         method=\"5Th_10ms_50SPD\", \n",
    "                         sample=\"HeLa\")\n",
    "protfake, pepfake, sum_fake_prot, sum_fake_pep, sum_prot, sum_pep = get_FP(working_dir)\n",
    "df[\"prot_fake\"]  = np.array(protfake)  * 2#(protfake + df.PG * 0.01)*1/3#protfake\n",
    "df[\"Precursor_fake\"] = pepfake\n",
    "df[\"sum_prot_fake\"] = [sum_fake_prot * 2] * len(df)\n",
    "df[\"sum_Precursor_fake\"] =  [sum_fake_pep] * len(df)\n",
    "df[\"sum_prot\"] = [sum_prot] * len(df)\n",
    "df[\"sum_Precursor\"] =  [sum_pep] * len(df)\n",
    "all_data.append(get_experiment_statistics_fdr(df))\n",
    "\n",
    "working_dir = \"/groups/protechhub/user/Manuel/PRIDE_Uploads/21_AstralPaper/FDR_control_runs/20240116_135730_JB_HeLa250pg_240k_20Th_40ms_50SPD_noMBR_fakeDB/\"\n",
    "df = get_spectronaut_res(os.path.join(working_dir, \"RunSummaries/\"), \n",
    "                         inj=\"250pg\", \n",
    "                         analysis='noMBR',\n",
    "                         method=\"20Th_40ms_50SPD\", \n",
    "                         sample=\"HeLa\")\n",
    "protfake, pepfake, sum_fake_prot, sum_fake_pep, sum_prot, sum_pep = get_FP(working_dir)\n",
    "df[\"prot_fake\"] = np.array(protfake)  * 2 #(protfake + df.PG * 0.01)*1/3\n",
    "df[\"Precursor_fake\"] = pepfake\n",
    "df[\"sum_prot_fake\"] = [sum_fake_prot * 2 ] * len(df)\n",
    "df[\"sum_Precursor_fake\"] =  [sum_fake_pep] * len(df)\n",
    "df[\"sum_prot\"] = [sum_prot] * len(df)\n",
    "df[\"sum_Precursor\"] =  [sum_pep] * len(df)\n",
    "all_data.append(get_experiment_statistics_fdr(df))\n",
    "\n",
    "working_dir = \"/groups/protechhub/user/JuliaBubis/article/revision/20240613_105240_JB_HeLa_10ng_Celegans_noMBR/\"\n",
    "df = get_spectronaut_res(os.path.join(working_dir, \"RunSummaries/\"), \n",
    "                         inj=\"10pg\", \n",
    "                         analysis='noMBR',\n",
    "                         method=\"5Th_10ms_50SPD\", \n",
    "                         sample=\"HeLa\")\n",
    "protfake, pepfake, sum_fake_prot, sum_fake_pep, sum_prot, sum_pep = get_FP_celegants(working_dir)\n",
    "df[\"prot_fake\"] = np.array(protfake) * (1 + 20408 / 27084) #(protfake + df.PG * 0.01) * 20408 / (27084 * 2 + 20408)#protfake\n",
    "df[\"Precursor_fake\"] = pepfake\n",
    "df[\"sum_prot_fake\"] = [sum_fake_prot *(1 + 20408 / 27084)] * len(df)\n",
    "df[\"sum_Precursor_fake\"] =  [sum_fake_pep ] * len(df)\n",
    "df[\"sum_prot\"] = [sum_prot] * len(df)\n",
    "df[\"sum_Precursor\"] =  [sum_pep] * len(df)\n",
    "all_data.append(get_experiment_statistics_fdr(df))\n",
    "\n",
    "working_dir = \"/groups/protechhub/user/JuliaBubis/article/revision/20240613_105135_JB_HeLa250pg_Celegans_noMBR/\"\n",
    "df = get_spectronaut_res(os.path.join(working_dir, \"RunSummaries/\"), \n",
    "                         inj=\"250pg\", \n",
    "                         analysis='noMBR',\n",
    "                         method=\"20Th_40ms_50SPD\", \n",
    "                         sample=\"HeLa\")\n",
    "protfake, pepfake, sum_fake_prot, sum_fake_pep, sum_prot, sum_pep = get_FP_celegants(working_dir)\n",
    "df[\"prot_fake\"] = np.array(protfake) * (1 + 20408 / 27084)#(protfake + df.PG * 0.01) * 20408 / (27084 * 2 + 20408)\n",
    "df[\"Precursor_fake\"] = pepfake\n",
    "df[\"sum_prot_fake\"] = [sum_fake_prot * (1 + 20408 / 27084)] * len(df)\n",
    "df[\"sum_Precursor_fake\"] =  [sum_fake_pep] * len(df)\n",
    "df[\"sum_prot\"] = [sum_prot] * len(df)\n",
    "df[\"sum_Precursor\"] =  [sum_pep] * len(df)\n",
    "all_data.append(get_experiment_statistics_fdr(df))\n"
   ]
  },
  {
   "cell_type": "code",
   "execution_count": null,
   "id": "bc4b5cd5-0a0d-43b3-ab66-019363a05390",
   "metadata": {},
   "outputs": [],
   "source": [
    "data = pd.concat(all_data)"
   ]
  },
  {
   "cell_type": "code",
   "execution_count": null,
   "id": "52067375-f2ea-455b-a8b6-1aa5377d176d",
   "metadata": {},
   "outputs": [],
   "source": [
    "data.to_parquet(\"./serialized_data/fig1/f1_panelk.parquet\", index=False)\n",
    "data.to_csv(\"./serialized_data/fig1/f1_panelk.csv\", index=False)"
   ]
  },
  {
   "cell_type": "code",
   "execution_count": null,
   "id": "36187042-26b3-4b3c-849a-0211e2b16410",
   "metadata": {},
   "outputs": [],
   "source": [
    "data.columns"
   ]
  },
  {
   "cell_type": "code",
   "execution_count": null,
   "id": "83ea9ef5-f195-4624-ae95-160fa6767cfd",
   "metadata": {},
   "outputs": [],
   "source": [
    "data.loc[:, [\"experiment\", \"PG_mean\", \"PG_std\",  'PG_fake_mean', 'PG_fake_std']].to_csv(\"serialized_data/main_f1_pk.csv\", \n",
    "                                                                                        index=False, sep=\"\\t\")"
   ]
  },
  {
   "cell_type": "markdown",
   "id": "b89d393c-39d8-4bf0-9e2b-82f370528ae5",
   "metadata": {
    "tags": []
   },
   "source": [
    "## Plotting"
   ]
  },
  {
   "cell_type": "markdown",
   "id": "2fe2faad-9945-4d29-afd1-a76759d41a75",
   "metadata": {
    "tags": []
   },
   "source": [
    "### panels"
   ]
  },
  {
   "cell_type": "code",
   "execution_count": 11,
   "id": "941ebbc2-acec-4aa6-8950-395e39e4869e",
   "metadata": {},
   "outputs": [],
   "source": [
    "colors = [[ \"#5f8bd3\", \"#264d8c\", \"#1b3764\"], [\"#d35f8c\",\"#a02c59\", \"#782143\"],  [\"#65c4cd\", \"#3fb5c0\", \"#32919a\", \"#1f5b60\"],  [\"#ffa533\", \"#ff8e00\", \"#cc7200\", \"#995500\"]]"
   ]
  },
  {
   "cell_type": "code",
   "execution_count": 12,
   "id": "f6ce5048-31c9-41e1-8663-896c904dd4ba",
   "metadata": {},
   "outputs": [],
   "source": [
    "def plot_fig1_hela_ids(ax, data):\n",
    "    param = \"SPD\"\n",
    "    inj = \"250pg\"\n",
    "    y_param = \"PG\"\n",
    "    analysis =\"MBR\"\n",
    "    df = get_param_table(data, param, y_param, inj)\n",
    "    x = np.arange(df.shape[0]) \n",
    "    \n",
    "    for analysis, c, label in zip([\"MBR\", \"noMBR\"], colors[0] , [\"DirectDIA\", \"Method Evaluation\"]):\n",
    "        \n",
    "        ax1.bar(x, df[analysis].apply(lambda x: np.mean(x)), yerr=df[analysis].apply(lambda x: np.std(x)), color=c, width=bar_w, edgecolor=\"black\")\n",
    "    \n",
    "    for b , yy in zip(x, df[analysis]):\n",
    "        if not isinstance(yy, list):\n",
    "            yy = [0] * 3\n",
    "        xx = np.linspace(b - bar_w / 3, b + bar_w / 3, len(yy))\n",
    "        ax1.scatter(xx, yy, color=c,edgecolors=colors[0][-1], s=dot_size)\n",
    "    for i, y, in zip(x, df[analysis].fillna(0).apply(lambda x: np.mean(x))):\n",
    "        if analysis == \"MBR\":\n",
    "            t = ax1.annotate(f'{int(y)}', xy=(i, y + 100),  ha='center', color=c,  size=8)\n",
    "        else:\n",
    "            t = ax1.annotate(f'{int(y)}', xy=(i + 0.05 - 0.015, 4050), rotation=90, ha='center', va=\"bottom\", color=\"white\", size=font_on_figure)\n",
    "    ax1.tick_params(axis='y', labelcolor=c)\n",
    "    ax1.set_ylim(4000, 7200)\n",
    "    ax1.set_xticks(x + w / 2, df.index)\n",
    "    ax1.ticklabel_format(axis='y', style='sci', scilimits=(3,3))\n",
    "\n",
    "    ax1.set_xlim(0 - 0.34, len(x) - 1 + 0.4 + w) \n",
    "\n",
    "\n",
    "    ax2 = ax1.twinx()  # instantiate a second axes that shares the same x-axis\n",
    "    y_param = \"Precursors\"\n",
    "    df = get_param_table(data, param, y_param, inj)\n",
    "    ax2.set_ylabel(y_param, color=colors[1][-2]) \n",
    "\n",
    "    for analysis, c, label in zip([ \"MBR\", \"noMBR\"], colors[1], [\"DirectDIA\", \"Method Evaluation\"]):\n",
    "        ax2.bar(x + w, df[analysis].apply(lambda x: np.mean(x)), yerr=df[analysis].apply(lambda x: np.std(x)), color=c, width=bar_w, edgecolor=\"black\")\n",
    "\n",
    "        for b , yy in zip(x, df[analysis]):\n",
    "            if not isinstance(yy, list):\n",
    "                yy = [0] * len(xx)\n",
    "            xx = np.linspace(b - bar_w / 3, b + bar_w / 3, len(yy))\n",
    "            ax2.scatter(xx + w, yy, color=c,edgecolors=colors[1][-1], s=dot_size)\n",
    "        for i, y, in zip(x, df[analysis].fillna(0).apply(lambda x: np.mean(x))):\n",
    "            if analysis == \"MBR\":\n",
    "                t = ax2.annotate(f'{int(y)}', xy=(i + w , 1200 + y),  ha='center', color=c, size=font_on_figure)\n",
    "            else:\n",
    "                 t = ax2.annotate(f'{int(y)}', xy=(i + w + 0.015, 15400), rotation=90, va=\"bottom\", ha='center', color=\"white\", size=font_on_figure)\n",
    "            # t.set_bbox(dict(facecolor='w', alpha=0.5, edgecolor='w'))\n",
    "    # plt.legend(loc=1)\n",
    "    ax2.tick_params(axis='y', labelcolor=c)\n",
    "    ax2.ticklabel_format(axis='y', style='sci', scilimits=(3,3))\n",
    "    ax2.set_ylim(15000, 45000)\n",
    "\n",
    "    # ------ get the legend-entries that are already attached to the axis\n",
    "    # h, l = ax1.get_legend_handles_labels()\n",
    "    h, l = [], []\n",
    "    # ------ append the multicolor legend patches\n",
    "\n",
    "\n",
    "    h.append(MulticolorPatch([colors[0][1], colors[1][1]]))\n",
    "    l.append(\"Method Evaluation\")\n",
    "    h.append(MulticolorPatch([colors[0][0], colors[1][0]]))\n",
    "    l.append(\"DirectDIA+, with matching\")\n",
    "\n",
    "    # ------ create the legend\n",
    "    fig.legend(h, l, loc=\"upper left\", \n",
    "             handler_map={MulticolorPatch: MulticolorPatchHandler()}, \n",
    "              bbox_to_anchor=(0.14, 0.95), fontsize=9)\n"
   ]
  },
  {
   "cell_type": "code",
   "execution_count": 13,
   "id": "7dacab48-93ac-465d-b749-16f27ce823bc",
   "metadata": {},
   "outputs": [],
   "source": [
    "def plot_fig1_hela_cvs(ax3, data):\n",
    "    y_param = \"prot_ms1_cv\"\n",
    "    inj = \"250pg\"\n",
    "    analysis = \"MBR\"\n",
    "    param = \"SPD\"\n",
    "    c = colors[2][-1]\n",
    "    df = get_param_table(data, param, y_param, inj)\n",
    "    x = np.arange(df.shape[0]) \n",
    "    ax3.plot(x + w / 2, df[\"MBR\"].apply(lambda x: np.median(x)), \"-o\", color=c,  label = \"MS1-based\")\n",
    "    y_param = \"prot_ms2_cv\"\n",
    "    df = get_param_table(data, param, y_param, inj)\n",
    "    ax3.plot(x + w/2, df[\"MBR\"].apply(lambda x: np.median(x)), \"-o\", color=colors[2][0], label = \"MS2-based\")\n",
    "    # ax3.tick_params(axis='y', labelcolor=c)\n",
    "    ax3.set_ylim(5, 16)\n",
    "    ax3.set_ylabel(\"median CV, %\")#, color=c)\n",
    "    ax3.legend(loc=5)\n",
    "    ax3.set_xticks(x + w / 2, df.index)\n",
    "    ax3.set_xlim(0 - 0.34, len(x) - 1 + 0.4 + w) \n",
    "    ax3.grid(axis=\"y\")\n",
    "    # ax4 = ax3.twinx()"
   ]
  },
  {
   "cell_type": "code",
   "execution_count": 14,
   "id": "71480bda-4358-42b6-a023-054ce15a9805",
   "metadata": {},
   "outputs": [],
   "source": [
    "def plot_fig1_hela_dppp(ax4, data):\n",
    "    y_param = \"DPPP_MS1\"\n",
    "    inj = \"250pg\"\n",
    "    param = \"SPD\"\n",
    "    c = colors[2][-1]\n",
    "    df = get_param_table(data, param, y_param, inj)\n",
    "    x = np.arange(df.shape[0]) \n",
    "    ax4.set_ylabel(\"points per\\n elution peak\")#, color=c) \n",
    "    ax4.plot(x + w / 2, df[\"MBR\"], \"-o\", color=c, label = \"MS1-based\")\n",
    "    ax4.grid(axis=\"y\")\n",
    "\n",
    "    y_param = \"DPPP_MS2\"\n",
    "    df = get_param_table(data, param, y_param, inj)\n",
    "    ax4.plot(x + w/2, df[\"MBR\"], \"-o\", color=colors[2][0], label = \"MS2-based\")\n",
    "    # ax4.tick_params(axis='y', labelcolor=c)\n",
    "    ax4.set_ylim(2, 8)\n",
    "    # ax4.legend(loc=1)\n",
    "    ax4.set_xticks(x + w / 2, df.index)\n",
    "    ax4.set_xlim(0 - 0.34, len(x) - 1 + 0.4 + w) \n",
    "\n",
    "    y_param = \"FWHM, s\"\n",
    "    df = get_param_table(data, param, y_param, inj)\n",
    "    ax5 = ax4.twinx()\n",
    "\n",
    "    ax5.plot(x + w/2, df[\"MBR\"].apply(lambda x: x), \"-*\", color=colors[3][0], label = \"FWHM, s\")\n",
    "    ax5.tick_params(axis='y', labelcolor=colors[3][0])\n",
    "    ax5.set_ylabel(\"FWHM, s\", c= colors[3][0])\n",
    "    # ax4.set_ylim(2, 8)\n",
    "    ax5.legend(loc=1)\n",
    "    # ax4.set_xticks(x + w / 2, df.index)\n",
    "    ax5.set_ylim(2,4)# len(x) - 1 + 0.4 + w) "
   ]
  },
  {
   "cell_type": "code",
   "execution_count": 15,
   "id": "f1058873-be61-411f-800b-d8f681abca6b",
   "metadata": {},
   "outputs": [],
   "source": [
    "def plot_fig1_hela_analysis(ax1, data_all, cols):\n",
    "\n",
    "    data = data_all.loc[cols,:]\n",
    "    x = np.arange(data.shape[0]) \n",
    "    colors = [\"#264d8c\", \"#44b7c2\", \"#a02c59\", \"#70b7c2\", \"#ffae49\", \"#625a65\", \"#aac1e8\"]\n",
    "    labels=[\"Method\\nEvaluation\", \"DirectDIA+,\\nwith matching\", \"Library\\nSearch\", \"DirectDIA+,\\nOS\", \"LS OS\", \"Library\\n10ng\"]\n",
    "    # get_figure(data, figsize=(5,2.5), subplot=1, w=0.4, bar_w = 0.35, )\n",
    "\n",
    "    w = 0.15\n",
    "    bar_w = 0.25\n",
    "    ax1.set_ylabel('PG', color=colors[0])\n",
    "    ax1.axhspan(0, 20000, 0.75, 1, facecolor='yellow', alpha=0.1)# we already handled the x-label with ax1\n",
    "    c = [colors[0]]*(len(x) -1) + [ \"#aac1e8\"]\n",
    "    c = [colors[0]]*(len(x))\n",
    "    ax1.bar(x - w, data[\"PG_mean\"], yerr = data[\"PG_std\"], color=c, width=bar_w, label=\"PG\")\n",
    "    # ax1.bar(x, data[\"PG_all\"], color= colors[-1], width=bar_w, label=\"PG_sum\")\n",
    "    ax1.tick_params(axis='y', labelcolor=colors[0])\n",
    "    ax1.set_ylim(0, 1.3 * max(data[\"PG_mean\"]))\n",
    "    ax1.ticklabel_format(axis='y', style='sci', scilimits=(3,3))\n",
    "    ax1.set_ylim(4000, 10000)\n",
    "    for b , yy in zip(x - w, data[\"PG\"]):\n",
    "        xx = np.linspace(b - bar_w / 3, b + bar_w / 3, len(yy))\n",
    "        ax1.scatter(xx, yy, color=colors[0],edgecolors=\"black\",s=dot_size)\n",
    "    for i, y in zip(x - w, data[\"PG_mean\"]):\n",
    "        t = ax1.annotate(f'{int(y)}', xy=(i, 300 + y),  ha='center',size=font_on_figure)\n",
    "    \n",
    "    ax2 = ax1.twinx()  # instantiate a second axes that shares the same x-axis\n",
    "    ax2.set_ylabel('Precursors', color=colors[2])\n",
    "    c = [colors[2]]*(len(x) -1) + [ \"#d35f8c\"]\n",
    "    c = [colors[2]]*(len(x))\n",
    "    ax2.bar(x + w, data[\"Precursors_mean\"],yerr = data[\"Precursors_std\"], color=c, width=bar_w, label=\"Precursors\")\n",
    "    ax2.tick_params(axis='y', labelcolor=colors[2])\n",
    "    ax2.set_ylim(0, 1.3 * max(data[\"Precursors_mean\"]))\n",
    "    ax2.ticklabel_format(axis='y', style='sci', scilimits=(3,3))\n",
    "    for i, y in zip(x + w, data[\"Precursors_mean\"]):\n",
    "        t = ax2.annotate(f'{int(y)}', xy=(i, 3000 + y),  ha='center', size=font_on_figure)\n",
    "        # t.set_bbox(dict(facecolor='w', alpha=0.5, edgecolor='w'))\n",
    "    for b , yy in zip(x + w, data[\"Precursors\"]):\n",
    "        xx = np.linspace(b - bar_w / 3, b + bar_w / 3, len(yy))\n",
    "        ax2.scatter(xx, yy, color=colors[2], edgecolors=\"black\",s=dot_size)\n",
    "    fig.tight_layout()  # otherwise the right y-label is slightly clipped\n",
    "    ax1.set_xticks(x, labels)\n",
    "    plt.tight_layout()\n",
    "    ax2.set_ylim(25000,85000)"
   ]
  },
  {
   "cell_type": "code",
   "execution_count": 16,
   "id": "9bec5523-c6c6-4711-a53a-123738330f42",
   "metadata": {},
   "outputs": [],
   "source": [
    "def plot_fig1_fastas_intersec1(ax, set1, set2, labels, colors=colors):\n",
    "    venn2([set(target_fasta_peptides), set(decoy_fasta_peptides)], set_labels=labels, alpha=1, set_colors=colors, ax=ax)"
   ]
  },
  {
   "cell_type": "code",
   "execution_count": 17,
   "id": "711f9a85-64df-43ed-b574-ad8017e18d65",
   "metadata": {},
   "outputs": [],
   "source": [
    "def plot_fig1_FP1(ax, data):\n",
    "    x = np.arange(data.shape[0]) \n",
    "    w = 0.35\n",
    "    bar_w = 0.4\n",
    "    ax.set_ylabel('PG', color=colors[0])\n",
    "    ax.bar(x, data[\"PG_mean\"], yerr = data[\"PG_std\"], color=colors[0], width=bar_w)\n",
    "    ax.ticklabel_format(axis='y', style='sci', scilimits=(3,3))\n",
    "    ax.tick_params(axis='y', labelcolor=colors[0])\n",
    "    ax.set_ylim(0, 1.3 * max(data[\"PG_mean\"]))\n",
    "    for i, y in zip(x, data[\"PG_mean\"]):\n",
    "        t = ax.annotate(f'{int(y)}', xy=(i, 1.1 * y),  ha='center', size=font_on_figure)\n",
    "    labels = []\n",
    "    ax.set_xticks(x, labels)\n",
    "    \n",
    "    \n",
    "def plot_fig1_FP2(ax, data):\n",
    "    samples = [\"10ng\", \"250pg\"]\n",
    "    labels = [\"Shuffled DB\", \"C.elegans DB\"]\n",
    "    xlabels = [s + \"\\n\" + l for l in labels for s in samples ]\n",
    "    w = 0.35\n",
    "    bar_w = 0.4\n",
    "    y2_min=50\n",
    "    y2_max=300\n",
    "    x = np.arange(data.shape[0]) \n",
    "    ax.bar(x, -1 * data[\"PG_fake_mean\"], yerr = data[\"PG_fake_std\"], width=bar_w, color=colors[0], alpha=0.6)\n",
    "    ax.set_ylabel('PG False positive', color=colors[0])\n",
    "    ax.set_yticks(range(-y2_max, 0 , y2_min), range(y2_max, 0, -y2_min), )\n",
    "    ax.tick_params(axis='y', labelcolor=colors[0])\n",
    "    ax.set_ylim(-1.3 * max(data[\"PG_fake_mean\"]), 0)\n",
    "    for i, y, f in zip(x, data[\"PG_mean\"], data[\"PG_fake_mean\"]):\n",
    "        print(y, f)\n",
    "        t = ax.annotate(f'{float(f * 100 / y):.1f}%', xy=(i, -f-40),  ha='center')\n",
    "    ax.set_xticks(x, xlabels)"
   ]
  },
  {
   "cell_type": "code",
   "execution_count": 18,
   "id": "6d84cad3-85c3-4b10-b87c-5f1e04401a77",
   "metadata": {},
   "outputs": [],
   "source": [
    "# data_all"
   ]
  },
  {
   "cell_type": "markdown",
   "id": "bfb48d39-af7c-41e7-b89f-4206b4c808dd",
   "metadata": {
    "tags": []
   },
   "source": [
    "### Layout"
   ]
  },
  {
   "cell_type": "code",
   "execution_count": 19,
   "id": "78ff9bac-130a-4eca-9b11-3bd3bbe0728d",
   "metadata": {},
   "outputs": [],
   "source": [
    "data_all = pd.read_parquet(\"./serialized_data/fig1/f1_panela_h.parquet\").set_index(\"experiment\")"
   ]
  },
  {
   "cell_type": "code",
   "execution_count": 21,
   "id": "e2bbdccf-aa53-47b6-937c-c3fe62851304",
   "metadata": {},
   "outputs": [
    {
     "data": {
      "image/png": "[encoded data removed]",
      "text/plain": [
       "<Figure size 360x720 with 7 Axes>"
      ]
     },
     "metadata": {},
     "output_type": "display_data"
    },
    {
     "data": {
      "image/png": "[encoded data removed]",
      "text/plain": [
       "<Figure size 360x720 with 7 Axes>"
      ]
     },
     "metadata": {},
     "output_type": "display_data"
    }
   ],
   "source": [
    "cols = ['JB_HeLa250pg_240k_20Th_40ms_30SPD_MBR',\n",
    "   'JB_HeLa250pg_240k_20Th_40ms_30SPD_noMBR',\n",
    "   'JB_HeLa250pg_240k_20Th_40ms_40SPD_MBR',\n",
    "   'JB_HeLa250pg_240k_20Th_40ms_40SPD_noMBR',\n",
    "   'JB_HeLa250pg_240k_20Th_40ms_50SPD_noMBR',\n",
    "   'JB_HeLa250pg_240k_20Th_40ms_50SPD_MBR',\n",
    "   'JB_HeLa250pg_240k_20Th_40ms_60SPD_MBR',\n",
    "   'JB_HeLa250pg_240k_20Th_40ms_60SPD_noMBR',\n",
    "   'JB_HeLa250pg_240k_20Th_40ms_80SPD_MBR',\n",
    "   'JB_HeLa250pg_240k_20Th_40ms_80SPD_noMBR',\n",
    "   'JB_HeLa250pg_240k_20Th_40ms_50SPD_L10ng',\n",
    "   ]\n",
    "# title= \"HeLa_250pg\"\n",
    "data_hela = data_all.loc[cols,:] \n",
    "\n",
    "\n",
    "cols = ['MM_Astral_paper_K562_30SPD_noMBR', 'MM_Astral_paper_K562_40SPD_noMBR',\n",
    "       'MM_Astral_paper_K562_50SPD_noMBR', 'MM_Astral_paper_K562_60SPD_noMBR',\n",
    "       'MM_Astral_paper_K562_80SPD_noMBR', 'MM_Astral_paper_K562_30SPD_MBR',\n",
    "       'MM_Astral_paper_K562_40SPD_MBR', 'MM_Astral_paper_K562_50SPD_MBR',\n",
    "       'MM_Astral_paper_K562_60SPD_MBR', 'MM_Astral_paper_K562_80SPD_MBR']\n",
    "\n",
    "data_k562 = data_all.loc[cols,:]\n",
    "\n",
    "cols_k562_analysis = [\n",
    "       'MM_Astral_paper_K562_50SPD_noMBR',\n",
    "       'MM_Astral_paper_K562_50SPD_MBR',\n",
    "       'MM_Astral_paper_K562_50SPD_library_search',\n",
    "        \"JB_250pgK562_50SPD_MBR_OS\",\n",
    "        \"JB_250pgK562_50SPD_L10ng_OS\",\n",
    "'MM_Astral_paper_K562_10ng_50SPD']\n",
    "\n",
    "cols_hela_analysis = [\n",
    "       'JB_HeLa250pg_240k_20Th_40ms_50SPD_noMBR',\n",
    "       'JB_HeLa250pg_240k_20Th_40ms_50SPD_MBR',\n",
    "       'JB_HeLa250pg_240k_20Th_40ms_50SPD_L10ng',\n",
    "        \"JB_250pgHeLa_50SPD_SO_MBR\",\n",
    "        \"JB_250pgHeLa_libraryOS\",\n",
    "        \"JB_HeLa10ng_240k_5Th_10ms_50SPD_MBR\",\n",
    "        \n",
    "    ]\n",
    "\n",
    "w = 0.35\n",
    "bar_w = 0.3\n",
    "fig, (ax1, ax3, ax4, ax6) = plt.subplots(4, 1 , figsize=(5 , 10),  height_ratios = [6, 3, 3, 6])\n",
    "plot_fig1_hela_ids(ax1, data_hela)\n",
    "plot_fig1_hela_cvs(ax3, data_hela)\n",
    "plot_fig1_hela_dppp(ax4, data_hela)\n",
    "plot_fig1_hela_analysis(ax6, data_all, cols_hela_analysis)\n",
    "\n",
    "fig, (ax1, ax3, ax4, ax6) = plt.subplots(4, 1 , figsize=(5 , 10),  height_ratios = [6, 3, 3, 6])\n",
    "plot_fig1_hela_ids(ax1, data_k562)\n",
    "plot_fig1_hela_cvs(ax3, data_k562)\n",
    "plot_fig1_hela_dppp(ax4, data_k562)\n",
    "plot_fig1_hela_analysis(ax6, data_all, cols_k562_analysis)"
   ]
  },
  {
   "cell_type": "code",
   "execution_count": 22,
   "id": "377f24e8-9540-42f2-9dce-6fad18d0fca5",
   "metadata": {},
   "outputs": [
    {
     "name": "stdout",
     "output_type": "stream",
     "text": [
      "7936.333333333333 146.66666666666666\n",
      "5323.0 96.66666666666667\n",
      "8081.333333333333 219.77295328115\n",
      "5279.333333333333 119.82301974105252\n"
     ]
    },
    {
     "data": {
      "image/png": "[encoded data removed]",
      "text/plain": [
       "<Figure size 216x360 with 2 Axes>"
      ]
     },
     "metadata": {},
     "output_type": "display_data"
    },
    {
     "data": {
      "image/png": "[encoded data removed]",
      "text/plain": [
       "<Figure size 216x360 with 2 Axes>"
      ]
     },
     "metadata": {
      "needs_background": "light"
     },
     "output_type": "display_data"
    }
   ],
   "source": [
    "colors = [\"#264d8c\", \"#44b7c2\", \"#a02c59\", \"#70b7c2\", \"#ffae49\", \"#625a65\", \"#aac1e8\"]\n",
    "labels1 = [\"Target DB\", \" Shuffled\\nTarget DB\"]\n",
    "labels2 = [\"Target DB\", \"C.elegants DB\"]\n",
    "\n",
    "\n",
    "with open(\"./serialized_data/fig1/f1_panelij_target_pep.txt\", \"r\") as f:\n",
    "    target_fasta_peptides = f.read().split(\"\\n\")\n",
    "with open(\"./serialized_data/fig1/f1_paneli_shuffled_pep.txt\", \"r\") as f:\n",
    "    decoy_fasta_peptides = f.read().split(\"\\n\")\n",
    "with open(\"./serialized_data/fig1/f1_panelj_celegants_pep.txt\", \"r\") as f:\n",
    "    celegants_peptides = f.read().split(\"\\n\")\n",
    "\n",
    "data = pd.read_parquet(\"./serialized_data/fig1/f1_panelk.parquet\")\n",
    "fig, (ax1, ax2,) = plt.subplots(1, 2 , figsize=(3 , 5), )\n",
    "plot_fig1_fastas_intersec1(ax1, target_fasta_peptides, decoy_fasta_peptides, labels1, colors=colors)\n",
    "plot_fig1_fastas_intersec1(ax2, target_fasta_peptides, celegants_peptides, labels2, colors=colors)\n",
    "\n",
    "fig, (ax1, ax2,) = plt.subplots(2, 1 , figsize=(3 , 5), )\n",
    "plot_fig1_FP1(ax1, data)\n",
    "plot_fig1_FP2(ax2, data)"
   ]
  },
  {
   "cell_type": "code",
   "execution_count": null,
   "id": "5aa9f376-e5b3-44aa-878c-d4312a700958",
   "metadata": {},
   "outputs": [],
   "source": []
  }
 ],
 "metadata": {
  "kernelspec": {
   "display_name": "Python 3",
   "language": "python",
   "name": "python3"
  },
  "language_info": {
   "codemirror_mode": {
    "name": "ipython",
    "version": 3
   },
   "file_extension": ".py",
   "mimetype": "text/x-python",
   "name": "python",
   "nbconvert_exporter": "python",
   "pygments_lexer": "ipython3",
   "version": "3.9.12"
  }
 },
 "nbformat": 4,
 "nbformat_minor": 5
}
